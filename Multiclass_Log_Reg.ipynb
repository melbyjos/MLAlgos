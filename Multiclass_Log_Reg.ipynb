{
 "cells": [
  {
   "cell_type": "markdown",
   "metadata": {},
   "source": [
    "# Multiclass Logistic Regression Classifier\n",
    "\n",
    "### Joseph Melby, 2023\n",
    "\n",
    "In this notebook, we will build a logistic classifier that can handle more than two classes (mostly)\n",
    "from scratch. (My goal is to use as few built-in functions from scikit-learn, etc. as possible). "
   ]
  },
  {
   "cell_type": "markdown",
   "metadata": {},
   "source": [
    "### Setup\n",
    "\n",
    "Suppose we have $N$ observations, each one with $M$ features, and each belonging to one of $K$ classes. ($\\#K\n",
    "\\geq 2$). With a normal logistic regression binary classifier, we have $\\#K=2$, and all the following\n",
    "still holds. \n",
    "\n",
    "We may represent this model in the following way:\n",
    "\n",
    "$$ X^{N \\times M} W^{M \\times K} \\Rightarrow Y^{N \\times 1}$$\n",
    "\n",
    "where \n",
    "- the matrix $X$ with entry $X_{i,j}$ representing observation $i$ with feature $j$\n",
    "- the matrix $W$ with entry $W_{j,k}$ representing the weights for feature $j$ and class $k$\n",
    "- the vector $Y$ with entry $Y_i$ representing person $i$ belonging to class $k$\n",
    "\n",
    "Our goal is to find $W$ and use it to predict the class membership of any observation (row) of $X$."
   ]
  },
  {
   "cell_type": "markdown",
   "metadata": {},
   "source": [
    "#### Workflow\n",
    "\n",
    "- If $X$ and $W$ are known, such as when we initialize $W$ to be the zero matrix, we begin by\n",
    "calculating their product. In particular, let\n",
    "\n",
    "$$ Z := - X W$$\n",
    "\n",
    "- Next, we take the softmax function of each row of $Z$:\n",
    "\n",
    "$$ P_i = softmax(Z_i) = \\frac{exp(Z_i)}{\\sum_{k=0}^{K} exp(Z_{i,k})}$$\n",
    "\n",
    "Note that since each row $Z_i$ is the product of each row $X_i$ of $X$ with the entire matrix $W$,\n",
    "each row $P_i$ of $P$ sums to 1. This is also called the row-wise Softmax.\n",
    "\n",
    "- Finally, we take the argmax of each row in order to identify the class with the highest\n",
    "  probability for each observation. This is called the row-wise argmax."
   ]
  },
  {
   "cell_type": "markdown",
   "metadata": {},
   "source": [
    "#### Likehood Function\n",
    "\n",
    "Since we are given $Y$, we know the class $Y_i$ of each observation $X_i$. In particular, the\n",
    "likelihood function of $Y_i$ given $X_i$ and $W$ is the probability that class $k = Y_i$, which is\n",
    "given by the softmax of $Z_i$ as discussed above.\n",
    "\n",
    "$$ p(Y_i | X_i, W) = \\frac{exp(-X_i W_{k = Y_i})}{\\sum_{k=0}^K exp(-X_i W_k)}.$$\n",
    "\n",
    "The likelihood of $Y$ given $X$ and $W$ is then just given by the product \n",
    "\n",
    "$$ p(Y | X, W) = \\prod_{i=1}^N \\frac{exp(-X_i W_{k = Y_i})}{\\sum_{k=0}^K exp(-X_i W_k)}.$$"
   ]
  },
  {
   "cell_type": "markdown",
   "metadata": {},
   "source": [
    "#### Loss Function\n",
    "\n",
    "We will use the negative log-likelihood function (normalized by sample size). First, we note that\n",
    "$W_{k= Y_i}$ represents a one-hot encoded $Y_i$ and can be written\n",
    "\n",
    "$$W_{k = Y_i} = W Y_{i (one-hot-encoded)}^T$$\n",
    "\n",
    "so we have \n",
    "\n",
    "$$\\sum_{i=1}^N X_i W_{k = Y_i} = Tr(XWY^T_{one-hot-encoded})$$\n",
    "\n",
    "Now we can write down our loss function:\n",
    "\n",
    "$$L(W) = \\frac{-1}{N} \\log p(Y | X, W)$$\n",
    "$$ = \\frac{1}{N} \\left(\\sum_{i=1}^N \\left(X_i W_{k=y_i} + \\sum_{i=1}^N \\log \\sum_{k=0}^K\n",
    "exp(-X_i W_k) \\right)\\right)$$\n",
    "\n",
    "In matrix form:\n",
    "\n",
    "$$ L(W) = \\frac{1}{N} \\left(\\sum_{i=1}^N \\left(X_i WY^T_{i (one-hot-encoded)} + \\sum_{i=1}^N \\log \\sum_{k=0}^K\n",
    "exp(-X_i W_k) \\right)\\right)$$\n",
    "$$ = \\frac{1}{N} \\left(Tr(XWY^T_{one-hot-encoded}) + \\sum_{i=1}^N \\log \\sum_{k=0}^K\n",
    "exp(-X_i W_k) \\right)$$"
   ]
  },
  {
   "cell_type": "markdown",
   "metadata": {},
   "source": [
    "#### Regularization Term\n",
    "\n",
    "We will often want to add either an $l_2$ or $l_1$ regularization term to this loss function, giving\n",
    "us \n",
    "\n",
    "$$f(W) = L(W) + \\mu ||W||$$\n",
    "$$ = \\frac{1}{N} \\left(\\sum_{i=1}^N \\left(X_i W_{k=y_i} + \\sum_{i=1}^N \\log \\sum_{k=0}^K\n",
    "exp(-X_i W_k) \\right)\\right) + \\mu ||W||$$"
   ]
  },
  {
   "cell_type": "markdown",
   "metadata": {},
   "source": [
    "#### Gradient Calculation\n",
    "\n",
    "Now we can calculate the gradient of our regularized loss function $f$. Note that the gradient of\n",
    "$W_{k = Y_i}$ with respect to $W_k$ is the identity matrix $I_{k=Y_i}$.\n",
    "\n",
    "$$\\nabla_{W_k} f(W) = \\frac{1}{N} \\sum_{i=1}^N \\left(X_i^T I_{k=Y_i} - X_i^T \\frac{exp(-X_i\n",
    "W_k)}{\\sum_{k=0}^K exp(-X_i W_k)} \\right) + 2 \\mu W$$\n",
    "$$ = \\frac{1}{N} \\sum_{i=1}^N \\left(X_i^T I_{k=Y_i} - X_i^T P_i \\right) + 2 \\mu W$$\n",
    "$$ = \\frac{1}{N} \\left(\\sum_{i=1}^N X_i^T I_{k=Y_i} - \\sum_{i=1}^N X_i^T P_i \\right) + 2 \\mu W$$\n",
    "$$ = \\frac{1}{N} \\left(X^T \\left(Y_{ohe} - P \\right)\\right) + 2 \\mu W$$"
   ]
  },
  {
   "cell_type": "markdown",
   "metadata": {},
   "source": [
    "### Multiclass Model Implementation\n",
    "\n",
    "We are now ready to give a basic implementation of this gradient descent algorithm and the loss\n",
    "function. Then we will build a custom class for the multiclass logistic regression model.\n",
    "\n",
    "It is worth noting that we will just use a couple built-in functionality from the libraries,\n",
    "particularly the softmax function and one-hot-encoder, though these can be written from scratch too. "
   ]
  },
  {
   "cell_type": "code",
   "execution_count": 12,
   "metadata": {},
   "outputs": [],
   "source": [
    "import numpy as np\n",
    "import pandas as pd\n",
    "from sklearn.preprocessing import OneHotEncoder\n",
    "from scipy.special import softmax\n",
    "from sklearn.model_selection import train_test_split\n",
    "\n",
    "ONE = OneHotEncoder(sparse_output=False)\n",
    "\n",
    "# Simple accuracy function to use for our classifier\n",
    "def accuracy(true, predicted):\n",
    "    return np.sum(true==predicted)/len(predicted)"
   ]
  },
  {
   "cell_type": "code",
   "execution_count": 13,
   "metadata": {},
   "outputs": [],
   "source": [
    "def loss(X, Y, W):\n",
    "    ## Assuming here that Y is one-hot-encoded\n",
    "\n",
    "    # Define Z\n",
    "    Z = -X @ W\n",
    "\n",
    "    N = X.shape[0]\n",
    "\n",
    "    # define loss\n",
    "    loss = 1/N * (np.trace(X @ W @ Y.T) + np.sum(np.log(np.sum(np.exp(Z), axis=1))))\n",
    "\n",
    "    return loss\n",
    "\n",
    "def gradient(X, Y, W, mu):\n",
    "    ## Assuming here that Y is one-hot-encoded\n",
    "\n",
    "    Z = -X @ W\n",
    "    P = softmax(Z, axis=1)\n",
    "    N = X.shape[0]\n",
    "    grad = 1/N * (X.T @ (Y - P)) + 2* mu * W\n",
    "\n",
    "    return grad\n",
    "\n",
    "def gradient_descent(X, Y, max_iter = 1000, eta = 0.1, mu = 0.01):\n",
    "\n",
    "    # OHE Y and reshape\n",
    "    Y_ohe = ONE.fit_transform(Y.reshape(-1, 1))\n",
    "    # Initialize W to be the zero matrix\n",
    "    W = np.zeros((X.shape[1], Y_ohe.shape[1]))\n",
    "\n",
    "    step = 0\n",
    "    step_list = []\n",
    "    loss_list = []\n",
    "    W_list = []\n",
    "\n",
    "    while step < max_iter:\n",
    "        step += 1\n",
    "        W -= eta* gradient(X, Y_ohe, W, mu)\n",
    "        step_list.append(step)\n",
    "        W_list.append(W)\n",
    "        loss_list.append(loss(X, Y_ohe, W))\n",
    "\n",
    "    df = pd.DataFrame({'step': step_list,\n",
    "                       'loss': loss_list})\n",
    "    return df, W"
   ]
  },
  {
   "cell_type": "code",
   "execution_count": 14,
   "metadata": {},
   "outputs": [],
   "source": [
    "class MulticlassLR:\n",
    "    def fit(self, X, Y):\n",
    "        self.loss_steps, self.W = gradient_descent(X, Y)\n",
    "\n",
    "    def loss_plot(self):\n",
    "        return self.loss_steps.plot(x = 'step',\n",
    "                                    y = 'loss',\n",
    "                                    xlabel = 'step',\n",
    "                                    ylabel = 'loss')\n",
    "    \n",
    "    def predict(self, H):\n",
    "        Z = - H @ self.W\n",
    "        P = softmax(Z, axis=1)\n",
    "        return np.argmax(P, axis=1)"
   ]
  },
  {
   "cell_type": "markdown",
   "metadata": {},
   "source": [
    "### Iris Data Set"
   ]
  },
  {
   "cell_type": "code",
   "execution_count": 15,
   "metadata": {},
   "outputs": [],
   "source": [
    "## to get the iris data\n",
    "from sklearn.datasets import load_iris"
   ]
  },
  {
   "cell_type": "code",
   "execution_count": 16,
   "metadata": {},
   "outputs": [
    {
     "data": {
      "text/plain": [
       "0.9733333333333334"
      ]
     },
     "execution_count": 16,
     "metadata": {},
     "output_type": "execute_result"
    },
    {
     "data": {
      "image/png": "[encoded data removed]",
      "text/plain": [
       "<Figure size 640x480 with 1 Axes>"
      ]
     },
     "metadata": {},
     "output_type": "display_data"
    }
   ],
   "source": [
    "X = load_iris().data\n",
    "Y = load_iris().target\n",
    "\n",
    "model = MulticlassLR()\n",
    "model.fit(X, Y)\n",
    "\n",
    "model.loss_plot()\n",
    "\n",
    "accuracy(Y, model.predict(X))"
   ]
  },
  {
   "cell_type": "markdown",
   "metadata": {},
   "source": [
    "Now let's explore a bit with a train-test split"
   ]
  },
  {
   "cell_type": "code",
   "execution_count": 17,
   "metadata": {},
   "outputs": [],
   "source": [
    "\n",
    "## Load the data\n",
    "iris = load_iris()\n",
    "iris_df = pd.DataFrame(iris['data'], columns = ['sepal_length','sepal_width','petal_length','petal_width'])\n",
    "iris_df['iris_class'] = iris['target']"
   ]
  },
  {
   "cell_type": "code",
   "execution_count": 18,
   "metadata": {},
   "outputs": [],
   "source": [
    "## Making a statified train test split\n",
    "iris_train, iris_test = train_test_split(iris_df, \n",
    "                                            random_state=431,\n",
    "                                            shuffle=True,\n",
    "                                            test_size=.25,\n",
    "                                            stratify=iris_df['iris_class'])"
   ]
  },
  {
   "cell_type": "code",
   "execution_count": 19,
   "metadata": {},
   "outputs": [],
   "source": [
    "# Define our input and output for the training data\n",
    "X_train = iris_train[['sepal_length', 'sepal_width', 'petal_length', 'petal_width']].to_numpy()\n",
    "X_test = iris_test[['sepal_length', 'sepal_width', 'petal_length', 'petal_width']].to_numpy()\n",
    "\n",
    "y_train = iris_train.iris_class.to_numpy()\n",
    "y_test = iris_test.iris_class.to_numpy()"
   ]
  },
  {
   "cell_type": "markdown",
   "metadata": {},
   "source": [
    "##### Fit Model "
   ]
  },
  {
   "cell_type": "code",
   "execution_count": 20,
   "metadata": {},
   "outputs": [
    {
     "data": {
      "text/plain": [
       "0.9910714285714286"
      ]
     },
     "execution_count": 20,
     "metadata": {},
     "output_type": "execute_result"
    },
    {
     "data": {
      "image/png": "[encoded data removed]",
      "text/plain": [
       "<Figure size 640x480 with 1 Axes>"
      ]
     },
     "metadata": {},
     "output_type": "display_data"
    }
   ],
   "source": [
    "mlr = MulticlassLR()\n",
    "mlr.fit(X_train, y_train)\n",
    "\n",
    "mlr.loss_plot()\n",
    "\n",
    "accuracy(y_train, mlr.predict(X_train))"
   ]
  },
  {
   "cell_type": "code",
   "execution_count": 21,
   "metadata": {},
   "outputs": [
    {
     "data": {
      "text/plain": [
       "array([2, 0, 2, 2, 0, 2, 2, 1, 2, 0, 2, 1, 0, 0, 0, 1, 0, 2, 1, 0, 2, 2,\n",
       "       2, 2, 1, 1, 1, 0, 1, 0, 2, 1, 2, 2, 0, 0, 1, 2], dtype=int64)"
      ]
     },
     "execution_count": 21,
     "metadata": {},
     "output_type": "execute_result"
    }
   ],
   "source": [
    "mlr.predict(X_test)"
   ]
  },
  {
   "cell_type": "code",
   "execution_count": 22,
   "metadata": {},
   "outputs": [
    {
     "data": {
      "text/plain": [
       "0.9210526315789473"
      ]
     },
     "execution_count": 22,
     "metadata": {},
     "output_type": "execute_result"
    }
   ],
   "source": [
    "accuracy(y_test, mlr.predict(X_test))"
   ]
  },
  {
   "cell_type": "code",
   "execution_count": null,
   "metadata": {},
   "outputs": [],
   "source": []
  }
 ],
 "metadata": {
  "kernelspec": {
   "display_name": "base",
   "language": "python",
   "name": "python3"
  },
  "language_info": {
   "codemirror_mode": {
    "name": "ipython",
    "version": 3
   },
   "file_extension": ".py",
   "mimetype": "text/x-python",
   "name": "python",
   "nbconvert_exporter": "python",
   "pygments_lexer": "ipython3",
   "version": "3.10.9"
  }
 },
 "nbformat": 4,
 "nbformat_minor": 2
}
