{
 "cells": [
  {
   "cell_type": "markdown",
   "metadata": {},
   "source": [
    "# Single-Layer Perceptron\n",
    "\n",
    "### Joseph Melby, 2023"
   ]
  },
  {
   "cell_type": "markdown",
   "metadata": {},
   "source": [
    "This notebook contains an implementation of a single layer Perceptron classifier. This algorithm\n",
    "serves as a simple case for the more general framework for implementing machine learning algorithms\n",
    "from scratch (not using Scikit-Learn or any other ML libraries, except for some data splitting,\n",
    "etc.). This particular implementation only uses NumPy, pandas, and some visualization tools.\n",
    "\n",
    "This framework was introduced to me through this Towards Data Science blog post:\n",
    "https://towardsdatascience.com/6-steps-to-write-any-machine-learning-algorithm-from-scratch-perceptron-case-study-335f638a70f3"
   ]
  },
  {
   "cell_type": "markdown",
   "metadata": {},
   "source": [
    "### Basics\n",
    "\n",
    "A single layer perceptron is the most basic neural network and is used primarily for binary\n",
    "classification. It uses a linear decision boundary, so classification problems with nonlinear\n",
    "decision boundaries are not a great fit for this classifier. \n",
    "\n",
    "Typical uses: loan default prediction, sentiment analysis"
   ]
  },
  {
   "cell_type": "code",
   "execution_count": 1,
   "metadata": {},
   "outputs": [],
   "source": [
    "import numpy as np\n",
    "import pandas as pd\n",
    "import matplotlib.pyplot as plt\n",
    "from sklearn.model_selection import train_test_split"
   ]
  },
  {
   "cell_type": "code",
   "execution_count": 2,
   "metadata": {},
   "outputs": [],
   "source": [
    "# Toy example for the input features:\n",
    "X = np.array([[0, 1, 0],\n",
    "              [0, 0, 1],\n",
    "              [0, 1, 1]])\n",
    "\n",
    "# Output:\n",
    "y = np.array([1,\n",
    "              1,\n",
    "              0])"
   ]
  },
  {
   "cell_type": "code",
   "execution_count": 3,
   "metadata": {},
   "outputs": [
    {
     "name": "stdout",
     "output_type": "stream",
     "text": [
      "[0. 0. 0.]\n"
     ]
    }
   ],
   "source": [
    "# Initializing a weight vector with rows corresponding to three features\n",
    "w = np.zeros(X.shape[0])\n",
    "print(w)"
   ]
  },
  {
   "cell_type": "code",
   "execution_count": 4,
   "metadata": {},
   "outputs": [
    {
     "name": "stdout",
     "output_type": "stream",
     "text": [
      "0.0\n"
     ]
    }
   ],
   "source": [
    "# Multiply the weights by the features\n",
    "f = np.dot(X[0], w)\n",
    "print(f)"
   ]
  },
  {
   "cell_type": "code",
   "execution_count": 5,
   "metadata": {},
   "outputs": [],
   "source": [
    "# Compare this value against a threshold\n",
    "\n",
    "#Threshold:\n",
    "z = 0\n",
    "\n",
    "def activation(f, z = 0):\n",
    "    if f > z:\n",
    "        y_hat = 1\n",
    "    else:\n",
    "        y_hat = 0\n",
    "    return y_hat"
   ]
  },
  {
   "cell_type": "code",
   "execution_count": 6,
   "metadata": {},
   "outputs": [
    {
     "name": "stdout",
     "output_type": "stream",
     "text": [
      "0\n"
     ]
    }
   ],
   "source": [
    "y_hat = activation(f)\n",
    "print(y_hat)"
   ]
  },
  {
   "cell_type": "markdown",
   "metadata": {},
   "source": [
    "Since our prediction of y_hat[0][0] = 0 and the actual value was y0 = 1, we will need to update our\n",
    "weights. To update the weights, we will use the equation \n",
    "\n",
    "w_new = w + eta*(y - y_hat)x\n",
    "\n",
    "Here, eta is the learning rate. We can iterate this process until we get the desired accuracy in our classifier."
   ]
  },
  {
   "cell_type": "code",
   "execution_count": 7,
   "metadata": {},
   "outputs": [],
   "source": [
    "# Choose eta (this can be adjusted later as needed)\n",
    "eta = 0.1"
   ]
  },
  {
   "cell_type": "code",
   "execution_count": 8,
   "metadata": {},
   "outputs": [
    {
     "name": "stdout",
     "output_type": "stream",
     "text": [
      "[0.  0.1 0. ]\n"
     ]
    }
   ],
   "source": [
    "# Adjusting the weights \n",
    "w = w + eta*(y[0] - y_hat)*X[0]\n",
    "print(w)"
   ]
  },
  {
   "cell_type": "code",
   "execution_count": 9,
   "metadata": {},
   "outputs": [
    {
     "name": "stdout",
     "output_type": "stream",
     "text": [
      "0.1\n",
      "1\n"
     ]
    }
   ],
   "source": [
    "# Test the threshold again:\n",
    "f = np.dot(X[0], w)\n",
    "print(f)\n",
    "\n",
    "y_hat = activation(f)\n",
    "print(y_hat)"
   ]
  },
  {
   "cell_type": "markdown",
   "metadata": {},
   "source": [
    "Looks like we got the correct prediction for the first entry y[0] = 1, but we still have the other\n",
    "values to predict correctly. "
   ]
  },
  {
   "cell_type": "markdown",
   "metadata": {},
   "source": [
    "### Perceptron Classifier"
   ]
  },
  {
   "cell_type": "code",
   "execution_count": 10,
   "metadata": {},
   "outputs": [],
   "source": [
    "# Total Perceptron function using Sum-of-squared error\n",
    "\n",
    "def perceptron(X, y, z = 0.0, eta = 0.1, num_it = 50):\n",
    "    \"\"\"_summary_\n",
    "\n",
    "    Args:\n",
    "        X (2darray): input data set\n",
    "        y (1darray): output\n",
    "        z (int, optional): activation function threshold. Defaults to 0.\n",
    "        eta (float, optional): learning rate. Defaults to 0.1.\n",
    "        num_it (int, optional): number of iterations. Defaults to 10.\n",
    "\n",
    "    Returns:\n",
    "        1darray, list: array of weights and SSE vector\n",
    "    \"\"\"\n",
    "\n",
    "    # Initalize the weights\n",
    "    w = np.zeros(len(X[0]))\n",
    "    n = 0  #Iteration number\n",
    "\n",
    "    # Initialize other parameters to compute SSE\n",
    "    y_hat_vec = np.ones(len(y))   # predictions\n",
    "    errors = np.ones(len(y))   # errors = actual - predictions\n",
    "    J = []   # vector for SSE cost function\n",
    "\n",
    "    while n < num_it:\n",
    "        for i in range(0, X.shape[0]):\n",
    "            f = np.dot(X[i], w)\n",
    "\n",
    "            y_hat = activation(f)\n",
    "            y_hat_vec[i] = y_hat\n",
    "\n",
    "            # Update weights\n",
    "            for j in range(len(w)):\n",
    "                w[j] = w[j] + eta*(y[i] - y_hat)*X[i][j]\n",
    "            \n",
    "        n += 1\n",
    "\n",
    "        # Computing SSE\n",
    "        for i in range(len(y)):\n",
    "            errors[i] = (y[i] - y_hat_vec[i])**2\n",
    "\n",
    "        J.append(0.5* np.sum(errors))\n",
    "\n",
    "    return w, J, y_hat_vec\n"
   ]
  },
  {
   "cell_type": "code",
   "execution_count": 11,
   "metadata": {},
   "outputs": [],
   "source": [
    "# Simple accuracy function to use for our classifier\n",
    "def accuracy(true, predicted):\n",
    "    return np.sum(true==predicted)/len(predicted)"
   ]
  },
  {
   "cell_type": "markdown",
   "metadata": {},
   "source": [
    "### Toy Example\n",
    "\n",
    "Let's consider the NAND gate as an example to see this a little more formally."
   ]
  },
  {
   "cell_type": "code",
   "execution_count": 12,
   "metadata": {},
   "outputs": [],
   "source": [
    "# Set up the input and output\n",
    "# Note that x0 is a dummy variable fo the bias term\n",
    "\n",
    "#             x0, x1, x2\n",
    "X = np.array([[1, 0, 0],\n",
    "              [1, 0, 1],\n",
    "              [1, 1, 0],\n",
    "              [1, 1, 1]])\n",
    "\n",
    "y = np.array([1,\n",
    "              1,\n",
    "              1,\n",
    "              0])"
   ]
  },
  {
   "cell_type": "code",
   "execution_count": 13,
   "metadata": {},
   "outputs": [
    {
     "name": "stdout",
     "output_type": "stream",
     "text": [
      "The weights are:\n",
      "[ 0.2 -0.2 -0.1]\n",
      "The errors are:\n",
      "[1.0, 1.5, 1.5, 0.0, 0.0, 0.0, 0.0, 0.0, 0.0, 0.0, 0.0, 0.0, 0.0, 0.0, 0.0, 0.0, 0.0, 0.0, 0.0, 0.0, 0.0, 0.0, 0.0, 0.0, 0.0, 0.0, 0.0, 0.0, 0.0, 0.0, 0.0, 0.0, 0.0, 0.0, 0.0, 0.0, 0.0, 0.0, 0.0, 0.0, 0.0, 0.0, 0.0, 0.0, 0.0, 0.0, 0.0, 0.0, 0.0, 0.0]\n"
     ]
    }
   ],
   "source": [
    "w, J, pred = perceptron(X, y, z = 0.0, eta = 0.1, num_it = 50)\n",
    "\n",
    "print(\"The weights are:\")\n",
    "print(w)\n",
    "\n",
    "print(\"The errors are:\")\n",
    "print(J)"
   ]
  },
  {
   "cell_type": "code",
   "execution_count": 14,
   "metadata": {},
   "outputs": [
    {
     "data": {
      "text/plain": [
       "1.0"
      ]
     },
     "execution_count": 14,
     "metadata": {},
     "output_type": "execute_result"
    }
   ],
   "source": [
    "accuracy(y, pred)"
   ]
  },
  {
   "cell_type": "markdown",
   "metadata": {},
   "source": [
    "### Bigger Synthetic Data Set\n",
    "\n",
    "Let's try this out on a slightly larger example data set, which is generated below."
   ]
  },
  {
   "cell_type": "code",
   "execution_count": 15,
   "metadata": {},
   "outputs": [],
   "source": [
    "## Generate the random data\n",
    "np.random.seed(440)\n",
    "n_rows = 100\n",
    "diff = .1\n",
    "X = np.random.random((n_rows,2))\n",
    "X_prime = X[(X[:,1] - X[:,0]) <= -diff,:]\n",
    "X_2prime = X[(X[:,1] - X[:,0]) >= diff,:]\n",
    "\n",
    "del X\n",
    "X = np.append(X_prime,X_2prime,axis = 0)\n",
    "\n",
    "y = np.empty(np.shape(X)[0])\n",
    "y[(X[:,1] - X[:,0]) <= -diff] = 1\n",
    "y[((X[:,1] - X[:,0]) >= diff)] = 0\n",
    "\n",
    "X[1,:] = [.8,.1]"
   ]
  },
  {
   "cell_type": "code",
   "execution_count": 16,
   "metadata": {},
   "outputs": [
    {
     "name": "stdout",
     "output_type": "stream",
     "text": [
      "(75, 2)\n",
      "(75,)\n"
     ]
    }
   ],
   "source": [
    "print(X.shape)\n",
    "print(y.shape)"
   ]
  },
  {
   "cell_type": "code",
   "execution_count": 17,
   "metadata": {},
   "outputs": [
    {
     "data": {
      "image/png": "[encoded data removed]",
      "text/plain": [
       "<Figure size 700x700 with 1 Axes>"
      ]
     },
     "metadata": {},
     "output_type": "display_data"
    }
   ],
   "source": [
    "## Plot the data\n",
    "plt.figure(figsize = (7,7))\n",
    "\n",
    "plt.scatter(X[y == 0,0],\n",
    "            X[y == 0,1],\n",
    "            c = \"blue\",\n",
    "            s = 60,\n",
    "            label=\"0\")\n",
    "plt.scatter(X[y == 1,0],\n",
    "            X[y == 1,1],\n",
    "            c = \"orange\",\n",
    "            marker = 'v',\n",
    "            s = 60,\n",
    "            label=\"1\")\n",
    "\n",
    "plt.legend(fontsize = 12)\n",
    "plt.xlabel(\"$x_1$\",fontsize = 12)\n",
    "plt.ylabel(\"$x_2$\",fontsize = 12)\n",
    "\n",
    "plt.show()"
   ]
  },
  {
   "cell_type": "markdown",
   "metadata": {},
   "source": [
    "Clear linear decision boundary, so our perceptron should do just fine here. Let's split our data\n",
    "into train and test sets so that we can see how the model does."
   ]
  },
  {
   "cell_type": "code",
   "execution_count": 18,
   "metadata": {},
   "outputs": [],
   "source": [
    "X_train, X_test, y_train, y_test = train_test_split(X, y,\n",
    "                                    shuffle=True,\n",
    "                                    random_state=435,\n",
    "                                    test_size=.3,\n",
    "                                    stratify=y)"
   ]
  },
  {
   "cell_type": "markdown",
   "metadata": {},
   "source": [
    "##### Train the perceptron"
   ]
  },
  {
   "cell_type": "code",
   "execution_count": 19,
   "metadata": {},
   "outputs": [
    {
     "name": "stdout",
     "output_type": "stream",
     "text": [
      "The weights are:\n",
      "[ 0.04586024 -0.04772532]\n",
      "The errors are:\n",
      "[2.0, 0.0, 0.0, 0.0, 0.0, 0.0, 0.0, 0.0, 0.0, 0.0]\n",
      "The accuracy is:\n",
      "1.0\n"
     ]
    }
   ],
   "source": [
    "w, J, pred_train = perceptron(X_train, y_train, z = 0.0, eta = 0.1, num_it = 10)\n",
    "\n",
    "print(\"The weights are:\")\n",
    "print(w)\n",
    "\n",
    "print(\"The errors are:\")\n",
    "print(J)\n",
    "\n",
    "print(\"The accuracy is:\")\n",
    "print(accuracy(y_train, pred_train))"
   ]
  },
  {
   "cell_type": "markdown",
   "metadata": {},
   "source": [
    "##### Test it on our test set"
   ]
  },
  {
   "cell_type": "code",
   "execution_count": 20,
   "metadata": {},
   "outputs": [],
   "source": [
    "def perceptron_test(X, w, z = 0.0):\n",
    "    y_pred = []\n",
    "    for i in range(X.shape[0]):\n",
    "        f = np.dot(X[i], w)\n",
    "\n",
    "        y_hat = activation(f, z)\n",
    "        y_pred.append(y_hat)\n",
    "    return y_pred"
   ]
  },
  {
   "cell_type": "code",
   "execution_count": 21,
   "metadata": {},
   "outputs": [
    {
     "name": "stdout",
     "output_type": "stream",
     "text": [
      "The accuracy is:\n",
      "1.0\n"
     ]
    }
   ],
   "source": [
    "y_pred = perceptron_test(X_test, w, z = 0.0)\n",
    "\n",
    "print(\"The accuracy is:\")\n",
    "print(accuracy(y_test, y_pred))"
   ]
  },
  {
   "cell_type": "markdown",
   "metadata": {},
   "source": [
    "As expected, it does very well on the test set."
   ]
  },
  {
   "cell_type": "markdown",
   "metadata": {},
   "source": [
    "#### Messier Data Set\n",
    "\n",
    "Let's try this same process on a modified version of this data set with less clear separation."
   ]
  },
  {
   "cell_type": "code",
   "execution_count": 22,
   "metadata": {},
   "outputs": [],
   "source": [
    "## Generate the random data\n",
    "np.random.seed(440)\n",
    "n_rows = 100\n",
    "diff = .1\n",
    "X = np.random.random((n_rows,2))\n",
    "X_prime = X[(X[:,1] - X[:,0]) <= -diff,:]\n",
    "X_2prime = X[(X[:,1] - X[:,0]) >= diff,:]\n",
    "X_3prime = [[.4,.9],[.6,.45],[.7,.9],[.3,.19],[.1,.4]]\n",
    "\n",
    "del X\n",
    "X = np.append(X_prime,np.append(X_2prime,X_3prime,axis = 0),axis=0)\n",
    "\n",
    "y = np.empty(np.shape(X)[0])\n",
    "y[(X[:,1] - X[:,0]) <= -diff] = 1\n",
    "y[((X[:,1] - X[:,0]) >= diff)] = 0\n",
    "y[-5] = 1\n",
    "y[-4] = -1\n",
    "y[-3] = 1\n",
    "y[-2] = -1\n",
    "y[-1] = 1"
   ]
  },
  {
   "cell_type": "code",
   "execution_count": 23,
   "metadata": {},
   "outputs": [
    {
     "data": {
      "image/png": "[encoded data removed]",
      "text/plain": [
       "<Figure size 700x700 with 1 Axes>"
      ]
     },
     "metadata": {},
     "output_type": "display_data"
    }
   ],
   "source": [
    "plt.figure(figsize = (7,7))\n",
    "\n",
    "plt.scatter(X[y == 0,0],\n",
    "            X[y == 0,1],\n",
    "            c = \"blue\",\n",
    "            s = 60,\n",
    "            label=\"0\")\n",
    "plt.scatter(X[y == 1,0],\n",
    "            X[y == 1,1],\n",
    "            c = \"orange\",\n",
    "            s = 60,\n",
    "            marker = \"v\",\n",
    "            label=\"1\")\n",
    "\n",
    "plt.legend(fontsize = 12)\n",
    "plt.xlabel(\"$x_1$\",fontsize = 12)\n",
    "plt.ylabel(\"$x_2$\",fontsize = 12)\n",
    "\n",
    "plt.show()"
   ]
  },
  {
   "cell_type": "code",
   "execution_count": 24,
   "metadata": {},
   "outputs": [],
   "source": [
    "X_train, X_test, y_train, y_test = train_test_split(X, y,\n",
    "                                    shuffle=True,\n",
    "                                    random_state=435,\n",
    "                                    test_size=.3,\n",
    "                                    stratify=y)"
   ]
  },
  {
   "cell_type": "markdown",
   "metadata": {},
   "source": [
    "##### Train the model"
   ]
  },
  {
   "cell_type": "code",
   "execution_count": 25,
   "metadata": {},
   "outputs": [
    {
     "name": "stdout",
     "output_type": "stream",
     "text": [
      "The weights are:\n",
      "[ 0.16985431 -0.13407521]\n",
      "The errors are:\n",
      "[7.5, 5.0, 4.5, 5.0, 7.0, 3.5, 3.5, 5.0, 5.0, 7.0, 3.5, 3.5, 5.0, 5.0, 7.0, 3.5, 3.5, 5.0, 5.0, 7.0, 3.5, 3.5, 5.0, 5.0, 5.0, 7.0, 3.5, 3.5, 5.0, 5.0, 7.0, 3.5, 3.5, 5.0, 5.0, 7.0, 3.5, 3.5, 5.0, 5.0, 5.0, 6.0, 4.5, 6.0, 3.5, 3.5, 5.0, 5.0, 5.0, 6.0]\n",
      "The accuracy is:\n",
      "0.8392857142857143\n"
     ]
    }
   ],
   "source": [
    "w, J, pred_train = perceptron(X_train, y_train, z = 0.0, eta = 0.1, num_it = 50)\n",
    "\n",
    "print(\"The weights are:\")\n",
    "print(w)\n",
    "\n",
    "print(\"The errors are:\")\n",
    "print(J)\n",
    "\n",
    "print(\"The accuracy is:\")\n",
    "print(accuracy(y_train, pred_train))"
   ]
  },
  {
   "cell_type": "markdown",
   "metadata": {},
   "source": [
    "Note here that our training accuracy is much lower in this case. Let's do more iterations and see if\n",
    "things improve."
   ]
  },
  {
   "cell_type": "code",
   "execution_count": 26,
   "metadata": {},
   "outputs": [
    {
     "name": "stdout",
     "output_type": "stream",
     "text": [
      "The weights are:\n",
      "[ 0.15745427 -0.08794812]\n",
      "The errors are:\n",
      "[7.5, 5.0, 4.5, 5.0, 7.0, 3.5, 3.5, 5.0, 5.0, 7.0, 3.5, 3.5, 5.0, 5.0, 7.0, 3.5, 3.5, 5.0, 5.0, 7.0, 3.5, 3.5, 5.0, 5.0, 5.0, 7.0, 3.5, 3.5, 5.0, 5.0, 7.0, 3.5, 3.5, 5.0, 5.0, 7.0, 3.5, 3.5, 5.0, 5.0, 5.0, 6.0, 4.5, 6.0, 3.5, 3.5, 5.0, 5.0, 5.0, 6.0, 4.5, 6.0, 3.5, 6.0, 3.5, 5.0, 5.0, 6.0, 3.5, 7.0, 3.5, 3.5, 5.0, 5.0, 5.0, 5.0, 6.0, 3.5, 5.0, 6.0, 4.5, 6.0, 3.5, 5.0, 5.0, 5.0, 5.0, 5.0, 6.0, 3.5, 5.0, 5.0, 5.0, 5.0, 5.0, 6.0, 3.5, 5.0, 5.0, 5.0, 5.0, 5.0, 6.0, 3.5, 5.0, 6.0, 4.5, 6.0, 3.5, 5.0, 5.0, 5.0, 5.0, 5.0, 6.0, 4.5, 6.0, 2.5, 6.0, 4.5, 6.0, 3.5, 3.5, 5.0, 5.0, 5.0, 7.0, 3.5, 3.5, 5.0, 5.0, 7.0, 3.5, 3.5, 5.0, 5.0, 7.0, 3.5, 3.5, 5.0, 5.0, 5.0, 7.0, 3.5, 3.5, 5.0, 5.0, 7.0, 3.5, 3.5, 5.0, 5.0, 6.0, 4.5, 6.0, 3.5, 3.5, 5.0, 5.0, 5.0, 5.0, 6.0, 4.5, 6.0, 3.5, 6.0, 3.5, 5.0, 5.0, 5.0, 5.0, 5.0, 6.0, 3.5, 5.0, 6.0, 4.5, 6.0, 3.5, 5.0, 5.0, 5.0, 5.0, 5.0, 6.0, 4.5, 6.0, 2.5, 6.0, 4.5, 6.0, 3.5, 3.5, 5.0, 5.0, 7.0, 3.5, 3.5, 5.0, 5.0, 5.0, 7.0, 3.5, 3.5, 5.0, 5.0, 7.0, 3.5, 3.5, 5.0, 5.0, 7.0, 3.5, 3.5, 5.0, 5.0, 6.0, 2.5, 5.0, 5.0, 5.0, 7.0, 3.5, 3.5, 5.0, 5.0, 7.0, 3.5, 3.5, 5.0, 5.0, 7.0, 3.5, 3.5, 5.0, 5.0, 5.0, 7.0, 3.5, 3.5, 5.0, 5.0, 7.0, 3.5, 3.5, 5.0, 5.0, 7.0, 3.5, 3.5, 5.0, 5.0, 7.0, 3.5, 3.5, 5.0, 5.0, 5.0, 7.0, 3.5, 3.5, 5.0, 5.0, 7.0, 3.5, 3.5, 5.0, 5.0, 7.0, 3.5, 3.5, 5.0, 5.0, 5.0, 6.0, 4.5, 6.0, 3.5, 3.5, 5.0, 5.0, 5.0, 6.0, 4.5, 6.0, 3.5, 6.0, 3.5, 5.0, 5.0, 5.0, 5.0, 5.0, 5.0, 6.0, 3.5, 5.0, 5.0, 5.0, 5.0, 5.0, 6.0, 3.5, 5.0, 6.0, 4.5, 6.0, 3.5, 5.0, 5.0, 5.0, 5.0, 6.0, 4.5, 6.0, 4.5, 5.0, 3.5, 6.0, 5.5, 3.5, 5.0, 3.5, 4.5, 6.0, 4.5, 6.0, 3.5, 6.0, 5.0, 3.5, 3.5, 6.0, 3.5, 5.0, 6.0, 4.5, 6.0, 3.5, 5.0, 5.0, 5.0, 5.0, 5.0, 6.0, 4.5, 6.0, 2.5, 6.0, 4.5, 6.0, 3.5, 3.5, 5.0, 5.0, 5.0, 7.0, 3.5, 3.5, 5.0, 5.0, 7.0, 3.5, 3.5, 5.0, 5.0, 7.0, 3.5, 3.5, 5.0, 5.0, 5.0, 7.0, 3.5, 3.5, 5.0, 5.0, 7.0, 3.5, 3.5, 5.0, 5.0, 7.0, 3.5, 3.5, 5.0, 5.0, 5.0, 6.0, 4.5, 6.0, 3.5, 3.5, 5.0, 5.0, 5.0, 5.0, 6.0, 3.5, 5.0, 6.0, 4.5, 6.0, 3.5, 5.0, 5.0, 5.0, 5.0, 6.0, 3.5, 5.0, 5.0, 5.0, 5.0, 5.0, 6.0, 3.5, 5.0, 6.0, 4.5, 6.0, 3.5, 5.0, 5.0, 5.0, 5.0, 5.0, 6.0, 4.5, 6.0, 2.5, 6.0, 4.5, 6.0, 3.5, 3.5, 5.0, 5.0, 5.0, 7.0, 3.5, 3.5, 5.0, 5.0, 7.0, 3.5, 3.5, 5.0, 5.0, 7.0, 3.5, 3.5, 5.0, 5.0, 5.0, 7.0, 3.5, 3.5, 5.0, 5.0, 7.0, 3.5, 3.5, 5.0, 5.0, 7.0, 3.5, 3.5, 5.0, 5.0, 5.0, 6.0, 4.5, 6.0, 3.5, 3.5, 5.0, 5.0, 5.0, 6.0, 4.5, 6.0, 3.5, 6.0, 3.5, 5.0, 5.0, 6.0, 3.5, 7.0, 3.5, 3.5, 5.0, 5.0, 5.0, 5.0, 6.0, 4.5, 6.0, 3.5, 6.0, 4.5, 6.0, 2.5, 6.0, 4.5, 6.0, 3.5, 3.5, 5.0, 5.0, 5.0, 7.0, 3.5, 3.5, 5.0, 5.0, 7.0, 3.5, 3.5, 5.0, 5.0, 5.0, 7.0, 3.5, 3.5, 5.0, 5.0, 7.0, 3.5, 3.5, 5.0, 5.0, 7.0, 3.5, 3.5, 5.0, 5.0, 5.0, 6.0, 4.5, 6.0, 3.5, 3.5, 5.0, 5.0, 5.0, 6.0, 4.5, 6.0, 3.5, 6.0, 3.5, 5.0, 5.0, 5.0, 5.0, 5.0, 5.0, 6.0, 3.5, 5.0, 5.0, 5.0, 5.0, 5.0, 6.0, 3.5, 5.0, 6.0, 4.5, 6.0, 3.5, 5.0, 5.0, 5.0, 5.0, 6.0, 4.5, 6.0, 4.5, 5.0, 3.5, 6.0, 5.5, 3.5, 5.0, 3.5, 4.5, 6.0, 4.5, 6.0, 3.5, 6.0, 5.0, 3.5, 3.5, 6.0, 3.5, 5.0, 6.0, 4.5, 6.0, 3.5, 5.0, 5.0, 5.0, 5.0, 5.0, 6.0, 4.5, 6.0, 2.5, 6.0, 4.5, 6.0, 3.5, 3.5, 5.0, 5.0, 5.0, 7.0, 3.5, 3.5, 5.0, 5.0, 7.0, 3.5, 3.5, 5.0, 5.0, 7.0, 3.5, 3.5, 5.0, 5.0, 5.0, 7.0, 3.5, 3.5, 5.0, 5.0, 7.0, 3.5, 3.5, 5.0, 5.0, 7.0, 3.5, 3.5, 5.0, 5.0, 5.0, 6.0, 4.5, 6.0, 3.5, 3.5, 5.0, 5.0, 5.0, 6.0, 4.5, 6.0, 3.5, 6.0, 3.5, 5.0, 5.0, 6.0, 3.5, 7.0, 3.5, 3.5, 5.0, 5.0, 5.0, 5.0, 6.0, 3.5, 5.0, 6.0, 4.5, 6.0, 3.5, 5.0, 5.0, 5.0, 5.0, 5.0, 6.0, 3.5, 5.0, 5.0, 5.0, 5.0, 5.0, 6.0, 3.5, 5.0, 5.0, 5.0, 5.0, 5.0, 5.0, 6.0, 3.5, 5.0, 5.0, 5.0, 5.0, 5.0, 6.0, 3.5, 5.0, 6.0, 4.5, 6.0, 3.5, 5.0, 5.0, 5.0, 5.0, 6.0, 3.5, 5.0, 5.0, 6.0, 3.5, 7.0, 3.5, 3.5, 5.0, 5.0, 5.0, 5.0, 6.0, 3.5, 5.0, 6.0, 4.5, 6.0, 3.5, 5.0, 5.0, 5.0, 5.0, 5.0, 6.0, 3.5, 5.0, 5.0, 5.0, 5.0, 5.0, 6.0, 3.5, 5.0, 5.0, 5.0, 5.0, 5.0, 5.0, 6.0, 3.5, 5.0, 5.0, 5.0, 5.0, 5.0, 6.0, 3.5, 5.0, 6.0, 4.5, 6.0, 3.5, 5.0, 5.0, 5.0, 5.0, 6.0, 3.5, 5.0, 5.0, 6.0, 3.5, 7.0, 3.5, 3.5, 5.0, 5.0, 5.0, 5.0, 6.0, 3.5, 5.0, 6.0, 4.5, 6.0, 3.5, 5.0, 5.0, 5.0, 5.0, 5.0, 6.0, 3.5, 5.0, 5.0, 5.0, 5.0, 5.0, 6.0, 3.5, 5.0, 5.0, 5.0, 5.0, 5.0, 5.0, 6.0, 3.5, 5.0, 5.0, 5.0, 5.0, 5.0, 6.0, 3.5, 5.0, 6.0, 4.5, 6.0, 3.5, 5.0, 5.0, 5.0, 5.0, 6.0, 4.5, 6.0, 4.5, 5.0, 3.5, 6.0, 5.5, 3.5, 5.0, 3.5, 4.5, 6.0, 4.5, 6.0, 3.5, 6.0, 4.5, 5.0, 3.5, 5.0, 3.5, 4.5, 6.0, 4.5, 6.0, 3.5, 6.0, 4.5, 5.0, 3.5, 6.0, 5.5, 3.5, 5.0, 3.5, 4.5, 6.0, 4.5, 5.0, 3.5, 6.0, 5.5, 3.5, 6.0, 5.5, 3.5, 5.0, 3.5, 4.5, 6.0, 2.5, 6.0, 4.5, 6.0, 3.5, 3.5, 5.0, 5.0, 5.0, 7.0, 3.5, 3.5, 5.0, 5.0, 7.0, 3.5, 3.5, 5.0, 5.0, 7.0, 3.5, 3.5, 5.0, 5.0, 6.0, 2.5, 5.0, 5.0, 5.0, 7.0, 3.5, 3.5, 5.0, 5.0, 7.0, 3.5, 3.5, 5.0, 5.0, 7.0, 3.5, 3.5, 5.0, 5.0, 5.0, 7.0, 3.5, 3.5, 5.0, 5.0, 7.0, 3.5, 3.5, 5.0, 5.0, 7.0, 3.5, 3.5, 5.0, 5.0, 7.0, 3.5, 3.5, 5.0, 5.0, 5.0, 7.0, 3.5, 3.5, 5.0, 5.0, 7.0, 3.5, 3.5, 5.0, 5.0, 7.0, 3.5, 3.5, 5.0, 5.0, 5.0, 6.0, 4.5, 6.0, 3.5, 3.5, 5.0, 5.0, 5.0, 6.0, 4.5, 6.0, 3.5, 6.0, 3.5, 5.0, 5.0, 5.0, 5.0, 5.0, 5.0, 6.0, 3.5, 5.0, 5.0, 5.0, 5.0, 5.0, 6.0, 3.5, 5.0, 6.0, 4.5, 6.0, 3.5, 5.0, 5.0, 5.0, 5.0]\n",
      "The accuracy is:\n",
      "0.875\n"
     ]
    }
   ],
   "source": [
    "w, J, pred_train = perceptron(X_train, y_train, z = 0.0, eta = 0.1, num_it = 1000)\n",
    "\n",
    "print(\"The weights are:\")\n",
    "print(w)\n",
    "\n",
    "print(\"The errors are:\")\n",
    "print(J)\n",
    "\n",
    "print(\"The accuracy is:\")\n",
    "print(accuracy(y_train, pred_train))"
   ]
  },
  {
   "cell_type": "markdown",
   "metadata": {},
   "source": [
    "##### Test the model"
   ]
  },
  {
   "cell_type": "code",
   "execution_count": 27,
   "metadata": {},
   "outputs": [
    {
     "name": "stdout",
     "output_type": "stream",
     "text": [
      "The accuracy is:\n",
      "0.7916666666666666\n"
     ]
    }
   ],
   "source": [
    "y_pred = perceptron_test(X_test, w, z = 0.0)\n",
    "\n",
    "print(\"The accuracy is:\")\n",
    "print(accuracy(y_test, y_pred))"
   ]
  },
  {
   "cell_type": "markdown",
   "metadata": {},
   "source": [
    "This is actually pretty good, given how small this data set is. "
   ]
  },
  {
   "cell_type": "markdown",
   "metadata": {},
   "source": [
    "### Iris Dataset\n",
    "\n",
    "Let's try this out on the benchmark Iris data set, which is described in detail at:\n",
    "https://archive.ics.uci.edu/dataset/53/iris\n",
    "\n",
    "Each observation represents an iris (a type of flower) and gives it's measurements including:\n",
    "- `sepal_length`: the length of the iris's sepal in cm.\n",
    "- `sepal_width`: the width of the iris's sepal in cm.\n",
    "- `petal_length`: the length of the iris's petal in cm.\n",
    "- `petal_width`: the width of the iris's petal in cm.\n",
    "- `iris_class`: the class of the iris, can be:\n",
    "    - `0` meaning it is a setosa iris\n",
    "    - `1` meaning it is a versicolor iris\n",
    "    - `2` meaning it is a virginica iris"
   ]
  },
  {
   "cell_type": "code",
   "execution_count": 28,
   "metadata": {},
   "outputs": [],
   "source": [
    "## to get the iris data\n",
    "from sklearn.datasets import load_iris\n",
    "\n",
    "## Load the data\n",
    "iris = load_iris()\n",
    "iris_df = pd.DataFrame(iris['data'], columns = ['sepal_length','sepal_width','petal_length','petal_width'])\n",
    "iris_df['iris_class'] = iris['target']"
   ]
  },
  {
   "cell_type": "code",
   "execution_count": 29,
   "metadata": {},
   "outputs": [
    {
     "data": {
      "text/html": [
       "<div>\n",
       "<style scoped>\n",
       "    .dataframe tbody tr th:only-of-type {\n",
       "        vertical-align: middle;\n",
       "    }\n",
       "\n",
       "    .dataframe tbody tr th {\n",
       "        vertical-align: top;\n",
       "    }\n",
       "\n",
       "    .dataframe thead th {\n",
       "        text-align: right;\n",
       "    }\n",
       "</style>\n",
       "<table border=\"1\" class=\"dataframe\">\n",
       "  <thead>\n",
       "    <tr style=\"text-align: right;\">\n",
       "      <th></th>\n",
       "      <th>sepal_length</th>\n",
       "      <th>sepal_width</th>\n",
       "      <th>petal_length</th>\n",
       "      <th>petal_width</th>\n",
       "      <th>iris_class</th>\n",
       "    </tr>\n",
       "  </thead>\n",
       "  <tbody>\n",
       "    <tr>\n",
       "      <th>0</th>\n",
       "      <td>5.1</td>\n",
       "      <td>3.5</td>\n",
       "      <td>1.4</td>\n",
       "      <td>0.2</td>\n",
       "      <td>0</td>\n",
       "    </tr>\n",
       "    <tr>\n",
       "      <th>1</th>\n",
       "      <td>4.9</td>\n",
       "      <td>3.0</td>\n",
       "      <td>1.4</td>\n",
       "      <td>0.2</td>\n",
       "      <td>0</td>\n",
       "    </tr>\n",
       "    <tr>\n",
       "      <th>2</th>\n",
       "      <td>4.7</td>\n",
       "      <td>3.2</td>\n",
       "      <td>1.3</td>\n",
       "      <td>0.2</td>\n",
       "      <td>0</td>\n",
       "    </tr>\n",
       "    <tr>\n",
       "      <th>3</th>\n",
       "      <td>4.6</td>\n",
       "      <td>3.1</td>\n",
       "      <td>1.5</td>\n",
       "      <td>0.2</td>\n",
       "      <td>0</td>\n",
       "    </tr>\n",
       "    <tr>\n",
       "      <th>4</th>\n",
       "      <td>5.0</td>\n",
       "      <td>3.6</td>\n",
       "      <td>1.4</td>\n",
       "      <td>0.2</td>\n",
       "      <td>0</td>\n",
       "    </tr>\n",
       "  </tbody>\n",
       "</table>\n",
       "</div>"
      ],
      "text/plain": [
       "   sepal_length  sepal_width  petal_length  petal_width  iris_class\n",
       "0           5.1          3.5           1.4          0.2           0\n",
       "1           4.9          3.0           1.4          0.2           0\n",
       "2           4.7          3.2           1.3          0.2           0\n",
       "3           4.6          3.1           1.5          0.2           0\n",
       "4           5.0          3.6           1.4          0.2           0"
      ]
     },
     "execution_count": 29,
     "metadata": {},
     "output_type": "execute_result"
    }
   ],
   "source": [
    "iris_df.head()"
   ]
  },
  {
   "cell_type": "code",
   "execution_count": 30,
   "metadata": {},
   "outputs": [],
   "source": [
    "## Making a statified train test split\n",
    "iris_train, iris_test = train_test_split(iris_df, \n",
    "                                            random_state=431,\n",
    "                                            shuffle=True,\n",
    "                                            test_size=.2,\n",
    "                                            stratify=iris_df['iris_class'])"
   ]
  },
  {
   "cell_type": "code",
   "execution_count": 31,
   "metadata": {},
   "outputs": [
    {
     "data": {
      "image/png": "[encoded data removed]",
      "text/plain": [
       "<Figure size 800x600 with 1 Axes>"
      ]
     },
     "metadata": {},
     "output_type": "display_data"
    }
   ],
   "source": [
    "## Plotting the training data\n",
    "## sepal_width against sepal_length\n",
    "plt.figure(figsize=(8,6))\n",
    "\n",
    "plt.scatter(iris_train.loc[iris_train.iris_class==0].sepal_width,\n",
    "            iris_train.loc[iris_train.iris_class==0].sepal_length,\n",
    "            c='blue',\n",
    "            s=60,\n",
    "            label=\"0\")\n",
    "\n",
    "plt.scatter(iris_train.loc[iris_train.iris_class==1].sepal_width,\n",
    "            iris_train.loc[iris_train.iris_class==1].sepal_length,\n",
    "            c='orange',\n",
    "            s=60,\n",
    "            marker='v',\n",
    "            label=\"1\")\n",
    "\n",
    "plt.scatter(iris_train.loc[iris_train.iris_class==2].sepal_width,\n",
    "            iris_train.loc[iris_train.iris_class==2].sepal_length,\n",
    "            c='green',\n",
    "            s=60,\n",
    "            marker='x',\n",
    "            label=\"2\")\n",
    "\n",
    "plt.xticks(fontsize=10)\n",
    "plt.yticks(fontsize=10)\n",
    "plt.xlabel(\"Sepal Width\", fontsize=12)\n",
    "plt.ylabel(\"Sepal Length\", fontsize=12)\n",
    "plt.legend(fontsize=12)\n",
    "\n",
    "plt.show()"
   ]
  },
  {
   "cell_type": "markdown",
   "metadata": {},
   "source": [
    "There seems to be a clear linear bound between the blue (setosa) iris and the other two species.\n",
    "Since our perceptron model only allows for linear decision boundaries and is a binary classifier,\n",
    "let's just see if we can separate the setosa iris observations from the other two.\n",
    "\n",
    "To do so, we need to reassign any observation with iris_class = 2 to iris_class = 1."
   ]
  },
  {
   "cell_type": "code",
   "execution_count": 32,
   "metadata": {},
   "outputs": [
    {
     "data": {
      "text/html": [
       "<div>\n",
       "<style scoped>\n",
       "    .dataframe tbody tr th:only-of-type {\n",
       "        vertical-align: middle;\n",
       "    }\n",
       "\n",
       "    .dataframe tbody tr th {\n",
       "        vertical-align: top;\n",
       "    }\n",
       "\n",
       "    .dataframe thead th {\n",
       "        text-align: right;\n",
       "    }\n",
       "</style>\n",
       "<table border=\"1\" class=\"dataframe\">\n",
       "  <thead>\n",
       "    <tr style=\"text-align: right;\">\n",
       "      <th></th>\n",
       "      <th>sepal_length</th>\n",
       "      <th>sepal_width</th>\n",
       "      <th>petal_length</th>\n",
       "      <th>petal_width</th>\n",
       "      <th>iris_class</th>\n",
       "    </tr>\n",
       "  </thead>\n",
       "  <tbody>\n",
       "    <tr>\n",
       "      <th>101</th>\n",
       "      <td>5.8</td>\n",
       "      <td>2.7</td>\n",
       "      <td>5.1</td>\n",
       "      <td>1.9</td>\n",
       "      <td>2</td>\n",
       "    </tr>\n",
       "    <tr>\n",
       "      <th>143</th>\n",
       "      <td>6.8</td>\n",
       "      <td>3.2</td>\n",
       "      <td>5.9</td>\n",
       "      <td>2.3</td>\n",
       "      <td>2</td>\n",
       "    </tr>\n",
       "    <tr>\n",
       "      <th>107</th>\n",
       "      <td>7.3</td>\n",
       "      <td>2.9</td>\n",
       "      <td>6.3</td>\n",
       "      <td>1.8</td>\n",
       "      <td>2</td>\n",
       "    </tr>\n",
       "    <tr>\n",
       "      <th>120</th>\n",
       "      <td>6.9</td>\n",
       "      <td>3.2</td>\n",
       "      <td>5.7</td>\n",
       "      <td>2.3</td>\n",
       "      <td>2</td>\n",
       "    </tr>\n",
       "    <tr>\n",
       "      <th>133</th>\n",
       "      <td>6.3</td>\n",
       "      <td>2.8</td>\n",
       "      <td>5.1</td>\n",
       "      <td>1.5</td>\n",
       "      <td>2</td>\n",
       "    </tr>\n",
       "    <tr>\n",
       "      <th>148</th>\n",
       "      <td>6.2</td>\n",
       "      <td>3.4</td>\n",
       "      <td>5.4</td>\n",
       "      <td>2.3</td>\n",
       "      <td>2</td>\n",
       "    </tr>\n",
       "    <tr>\n",
       "      <th>125</th>\n",
       "      <td>7.2</td>\n",
       "      <td>3.2</td>\n",
       "      <td>6.0</td>\n",
       "      <td>1.8</td>\n",
       "      <td>2</td>\n",
       "    </tr>\n",
       "    <tr>\n",
       "      <th>129</th>\n",
       "      <td>7.2</td>\n",
       "      <td>3.0</td>\n",
       "      <td>5.8</td>\n",
       "      <td>1.6</td>\n",
       "      <td>2</td>\n",
       "    </tr>\n",
       "    <tr>\n",
       "      <th>117</th>\n",
       "      <td>7.7</td>\n",
       "      <td>3.8</td>\n",
       "      <td>6.7</td>\n",
       "      <td>2.2</td>\n",
       "      <td>2</td>\n",
       "    </tr>\n",
       "    <tr>\n",
       "      <th>100</th>\n",
       "      <td>6.3</td>\n",
       "      <td>3.3</td>\n",
       "      <td>6.0</td>\n",
       "      <td>2.5</td>\n",
       "      <td>2</td>\n",
       "    </tr>\n",
       "    <tr>\n",
       "      <th>145</th>\n",
       "      <td>6.7</td>\n",
       "      <td>3.0</td>\n",
       "      <td>5.2</td>\n",
       "      <td>2.3</td>\n",
       "      <td>2</td>\n",
       "    </tr>\n",
       "    <tr>\n",
       "      <th>131</th>\n",
       "      <td>7.9</td>\n",
       "      <td>3.8</td>\n",
       "      <td>6.4</td>\n",
       "      <td>2.0</td>\n",
       "      <td>2</td>\n",
       "    </tr>\n",
       "    <tr>\n",
       "      <th>128</th>\n",
       "      <td>6.4</td>\n",
       "      <td>2.8</td>\n",
       "      <td>5.6</td>\n",
       "      <td>2.1</td>\n",
       "      <td>2</td>\n",
       "    </tr>\n",
       "    <tr>\n",
       "      <th>106</th>\n",
       "      <td>4.9</td>\n",
       "      <td>2.5</td>\n",
       "      <td>4.5</td>\n",
       "      <td>1.7</td>\n",
       "      <td>2</td>\n",
       "    </tr>\n",
       "    <tr>\n",
       "      <th>111</th>\n",
       "      <td>6.4</td>\n",
       "      <td>2.7</td>\n",
       "      <td>5.3</td>\n",
       "      <td>1.9</td>\n",
       "      <td>2</td>\n",
       "    </tr>\n",
       "    <tr>\n",
       "      <th>134</th>\n",
       "      <td>6.1</td>\n",
       "      <td>2.6</td>\n",
       "      <td>5.6</td>\n",
       "      <td>1.4</td>\n",
       "      <td>2</td>\n",
       "    </tr>\n",
       "    <tr>\n",
       "      <th>114</th>\n",
       "      <td>5.8</td>\n",
       "      <td>2.8</td>\n",
       "      <td>5.1</td>\n",
       "      <td>2.4</td>\n",
       "      <td>2</td>\n",
       "    </tr>\n",
       "    <tr>\n",
       "      <th>126</th>\n",
       "      <td>6.2</td>\n",
       "      <td>2.8</td>\n",
       "      <td>4.8</td>\n",
       "      <td>1.8</td>\n",
       "      <td>2</td>\n",
       "    </tr>\n",
       "    <tr>\n",
       "      <th>104</th>\n",
       "      <td>6.5</td>\n",
       "      <td>3.0</td>\n",
       "      <td>5.8</td>\n",
       "      <td>2.2</td>\n",
       "      <td>2</td>\n",
       "    </tr>\n",
       "    <tr>\n",
       "      <th>108</th>\n",
       "      <td>6.7</td>\n",
       "      <td>2.5</td>\n",
       "      <td>5.8</td>\n",
       "      <td>1.8</td>\n",
       "      <td>2</td>\n",
       "    </tr>\n",
       "    <tr>\n",
       "      <th>118</th>\n",
       "      <td>7.7</td>\n",
       "      <td>2.6</td>\n",
       "      <td>6.9</td>\n",
       "      <td>2.3</td>\n",
       "      <td>2</td>\n",
       "    </tr>\n",
       "    <tr>\n",
       "      <th>144</th>\n",
       "      <td>6.7</td>\n",
       "      <td>3.3</td>\n",
       "      <td>5.7</td>\n",
       "      <td>2.5</td>\n",
       "      <td>2</td>\n",
       "    </tr>\n",
       "    <tr>\n",
       "      <th>138</th>\n",
       "      <td>6.0</td>\n",
       "      <td>3.0</td>\n",
       "      <td>4.8</td>\n",
       "      <td>1.8</td>\n",
       "      <td>2</td>\n",
       "    </tr>\n",
       "    <tr>\n",
       "      <th>102</th>\n",
       "      <td>7.1</td>\n",
       "      <td>3.0</td>\n",
       "      <td>5.9</td>\n",
       "      <td>2.1</td>\n",
       "      <td>2</td>\n",
       "    </tr>\n",
       "    <tr>\n",
       "      <th>103</th>\n",
       "      <td>6.3</td>\n",
       "      <td>2.9</td>\n",
       "      <td>5.6</td>\n",
       "      <td>1.8</td>\n",
       "      <td>2</td>\n",
       "    </tr>\n",
       "    <tr>\n",
       "      <th>109</th>\n",
       "      <td>7.2</td>\n",
       "      <td>3.6</td>\n",
       "      <td>6.1</td>\n",
       "      <td>2.5</td>\n",
       "      <td>2</td>\n",
       "    </tr>\n",
       "    <tr>\n",
       "      <th>139</th>\n",
       "      <td>6.9</td>\n",
       "      <td>3.1</td>\n",
       "      <td>5.4</td>\n",
       "      <td>2.1</td>\n",
       "      <td>2</td>\n",
       "    </tr>\n",
       "    <tr>\n",
       "      <th>119</th>\n",
       "      <td>6.0</td>\n",
       "      <td>2.2</td>\n",
       "      <td>5.0</td>\n",
       "      <td>1.5</td>\n",
       "      <td>2</td>\n",
       "    </tr>\n",
       "    <tr>\n",
       "      <th>132</th>\n",
       "      <td>6.4</td>\n",
       "      <td>2.8</td>\n",
       "      <td>5.6</td>\n",
       "      <td>2.2</td>\n",
       "      <td>2</td>\n",
       "    </tr>\n",
       "    <tr>\n",
       "      <th>127</th>\n",
       "      <td>6.1</td>\n",
       "      <td>3.0</td>\n",
       "      <td>4.9</td>\n",
       "      <td>1.8</td>\n",
       "      <td>2</td>\n",
       "    </tr>\n",
       "    <tr>\n",
       "      <th>123</th>\n",
       "      <td>6.3</td>\n",
       "      <td>2.7</td>\n",
       "      <td>4.9</td>\n",
       "      <td>1.8</td>\n",
       "      <td>2</td>\n",
       "    </tr>\n",
       "    <tr>\n",
       "      <th>124</th>\n",
       "      <td>6.7</td>\n",
       "      <td>3.3</td>\n",
       "      <td>5.7</td>\n",
       "      <td>2.1</td>\n",
       "      <td>2</td>\n",
       "    </tr>\n",
       "    <tr>\n",
       "      <th>110</th>\n",
       "      <td>6.5</td>\n",
       "      <td>3.2</td>\n",
       "      <td>5.1</td>\n",
       "      <td>2.0</td>\n",
       "      <td>2</td>\n",
       "    </tr>\n",
       "    <tr>\n",
       "      <th>105</th>\n",
       "      <td>7.6</td>\n",
       "      <td>3.0</td>\n",
       "      <td>6.6</td>\n",
       "      <td>2.1</td>\n",
       "      <td>2</td>\n",
       "    </tr>\n",
       "    <tr>\n",
       "      <th>121</th>\n",
       "      <td>5.6</td>\n",
       "      <td>2.8</td>\n",
       "      <td>4.9</td>\n",
       "      <td>2.0</td>\n",
       "      <td>2</td>\n",
       "    </tr>\n",
       "    <tr>\n",
       "      <th>137</th>\n",
       "      <td>6.4</td>\n",
       "      <td>3.1</td>\n",
       "      <td>5.5</td>\n",
       "      <td>1.8</td>\n",
       "      <td>2</td>\n",
       "    </tr>\n",
       "    <tr>\n",
       "      <th>142</th>\n",
       "      <td>5.8</td>\n",
       "      <td>2.7</td>\n",
       "      <td>5.1</td>\n",
       "      <td>1.9</td>\n",
       "      <td>2</td>\n",
       "    </tr>\n",
       "    <tr>\n",
       "      <th>130</th>\n",
       "      <td>7.4</td>\n",
       "      <td>2.8</td>\n",
       "      <td>6.1</td>\n",
       "      <td>1.9</td>\n",
       "      <td>2</td>\n",
       "    </tr>\n",
       "    <tr>\n",
       "      <th>135</th>\n",
       "      <td>7.7</td>\n",
       "      <td>3.0</td>\n",
       "      <td>6.1</td>\n",
       "      <td>2.3</td>\n",
       "      <td>2</td>\n",
       "    </tr>\n",
       "    <tr>\n",
       "      <th>122</th>\n",
       "      <td>7.7</td>\n",
       "      <td>2.8</td>\n",
       "      <td>6.7</td>\n",
       "      <td>2.0</td>\n",
       "      <td>2</td>\n",
       "    </tr>\n",
       "  </tbody>\n",
       "</table>\n",
       "</div>"
      ],
      "text/plain": [
       "     sepal_length  sepal_width  petal_length  petal_width  iris_class\n",
       "101           5.8          2.7           5.1          1.9           2\n",
       "143           6.8          3.2           5.9          2.3           2\n",
       "107           7.3          2.9           6.3          1.8           2\n",
       "120           6.9          3.2           5.7          2.3           2\n",
       "133           6.3          2.8           5.1          1.5           2\n",
       "148           6.2          3.4           5.4          2.3           2\n",
       "125           7.2          3.2           6.0          1.8           2\n",
       "129           7.2          3.0           5.8          1.6           2\n",
       "117           7.7          3.8           6.7          2.2           2\n",
       "100           6.3          3.3           6.0          2.5           2\n",
       "145           6.7          3.0           5.2          2.3           2\n",
       "131           7.9          3.8           6.4          2.0           2\n",
       "128           6.4          2.8           5.6          2.1           2\n",
       "106           4.9          2.5           4.5          1.7           2\n",
       "111           6.4          2.7           5.3          1.9           2\n",
       "134           6.1          2.6           5.6          1.4           2\n",
       "114           5.8          2.8           5.1          2.4           2\n",
       "126           6.2          2.8           4.8          1.8           2\n",
       "104           6.5          3.0           5.8          2.2           2\n",
       "108           6.7          2.5           5.8          1.8           2\n",
       "118           7.7          2.6           6.9          2.3           2\n",
       "144           6.7          3.3           5.7          2.5           2\n",
       "138           6.0          3.0           4.8          1.8           2\n",
       "102           7.1          3.0           5.9          2.1           2\n",
       "103           6.3          2.9           5.6          1.8           2\n",
       "109           7.2          3.6           6.1          2.5           2\n",
       "139           6.9          3.1           5.4          2.1           2\n",
       "119           6.0          2.2           5.0          1.5           2\n",
       "132           6.4          2.8           5.6          2.2           2\n",
       "127           6.1          3.0           4.9          1.8           2\n",
       "123           6.3          2.7           4.9          1.8           2\n",
       "124           6.7          3.3           5.7          2.1           2\n",
       "110           6.5          3.2           5.1          2.0           2\n",
       "105           7.6          3.0           6.6          2.1           2\n",
       "121           5.6          2.8           4.9          2.0           2\n",
       "137           6.4          3.1           5.5          1.8           2\n",
       "142           5.8          2.7           5.1          1.9           2\n",
       "130           7.4          2.8           6.1          1.9           2\n",
       "135           7.7          3.0           6.1          2.3           2\n",
       "122           7.7          2.8           6.7          2.0           2"
      ]
     },
     "execution_count": 32,
     "metadata": {},
     "output_type": "execute_result"
    }
   ],
   "source": [
    "iris_train[iris_train.iris_class == 2]"
   ]
  },
  {
   "cell_type": "code",
   "execution_count": 33,
   "metadata": {},
   "outputs": [
    {
     "data": {
      "text/html": [
       "<div>\n",
       "<style scoped>\n",
       "    .dataframe tbody tr th:only-of-type {\n",
       "        vertical-align: middle;\n",
       "    }\n",
       "\n",
       "    .dataframe tbody tr th {\n",
       "        vertical-align: top;\n",
       "    }\n",
       "\n",
       "    .dataframe thead th {\n",
       "        text-align: right;\n",
       "    }\n",
       "</style>\n",
       "<table border=\"1\" class=\"dataframe\">\n",
       "  <thead>\n",
       "    <tr style=\"text-align: right;\">\n",
       "      <th></th>\n",
       "      <th>sepal_length</th>\n",
       "      <th>sepal_width</th>\n",
       "      <th>petal_length</th>\n",
       "      <th>petal_width</th>\n",
       "      <th>iris_class</th>\n",
       "    </tr>\n",
       "  </thead>\n",
       "  <tbody>\n",
       "  </tbody>\n",
       "</table>\n",
       "</div>"
      ],
      "text/plain": [
       "Empty DataFrame\n",
       "Columns: [sepal_length, sepal_width, petal_length, petal_width, iris_class]\n",
       "Index: []"
      ]
     },
     "execution_count": 33,
     "metadata": {},
     "output_type": "execute_result"
    }
   ],
   "source": [
    "# Changing all the iris_class = 2 to class 1 so that we can use our binary classifier\n",
    "iris_train.loc[iris_train.iris_class == 2, 'iris_class'] = 1\n",
    "\n",
    "# Check that class was changed\n",
    "iris_train[iris_train.iris_class == 2]"
   ]
  },
  {
   "cell_type": "code",
   "execution_count": 34,
   "metadata": {},
   "outputs": [
    {
     "data": {
      "text/html": [
       "<div>\n",
       "<style scoped>\n",
       "    .dataframe tbody tr th:only-of-type {\n",
       "        vertical-align: middle;\n",
       "    }\n",
       "\n",
       "    .dataframe tbody tr th {\n",
       "        vertical-align: top;\n",
       "    }\n",
       "\n",
       "    .dataframe thead th {\n",
       "        text-align: right;\n",
       "    }\n",
       "</style>\n",
       "<table border=\"1\" class=\"dataframe\">\n",
       "  <thead>\n",
       "    <tr style=\"text-align: right;\">\n",
       "      <th></th>\n",
       "      <th>sepal_length</th>\n",
       "      <th>sepal_width</th>\n",
       "      <th>petal_length</th>\n",
       "      <th>petal_width</th>\n",
       "      <th>iris_class</th>\n",
       "    </tr>\n",
       "  </thead>\n",
       "  <tbody>\n",
       "    <tr>\n",
       "      <th>85</th>\n",
       "      <td>6.0</td>\n",
       "      <td>3.4</td>\n",
       "      <td>4.5</td>\n",
       "      <td>1.6</td>\n",
       "      <td>1</td>\n",
       "    </tr>\n",
       "    <tr>\n",
       "      <th>95</th>\n",
       "      <td>5.7</td>\n",
       "      <td>3.0</td>\n",
       "      <td>4.2</td>\n",
       "      <td>1.2</td>\n",
       "      <td>1</td>\n",
       "    </tr>\n",
       "    <tr>\n",
       "      <th>101</th>\n",
       "      <td>5.8</td>\n",
       "      <td>2.7</td>\n",
       "      <td>5.1</td>\n",
       "      <td>1.9</td>\n",
       "      <td>1</td>\n",
       "    </tr>\n",
       "    <tr>\n",
       "      <th>143</th>\n",
       "      <td>6.8</td>\n",
       "      <td>3.2</td>\n",
       "      <td>5.9</td>\n",
       "      <td>2.3</td>\n",
       "      <td>1</td>\n",
       "    </tr>\n",
       "    <tr>\n",
       "      <th>80</th>\n",
       "      <td>5.5</td>\n",
       "      <td>2.4</td>\n",
       "      <td>3.8</td>\n",
       "      <td>1.1</td>\n",
       "      <td>1</td>\n",
       "    </tr>\n",
       "    <tr>\n",
       "      <th>...</th>\n",
       "      <td>...</td>\n",
       "      <td>...</td>\n",
       "      <td>...</td>\n",
       "      <td>...</td>\n",
       "      <td>...</td>\n",
       "    </tr>\n",
       "    <tr>\n",
       "      <th>142</th>\n",
       "      <td>5.8</td>\n",
       "      <td>2.7</td>\n",
       "      <td>5.1</td>\n",
       "      <td>1.9</td>\n",
       "      <td>1</td>\n",
       "    </tr>\n",
       "    <tr>\n",
       "      <th>60</th>\n",
       "      <td>5.0</td>\n",
       "      <td>2.0</td>\n",
       "      <td>3.5</td>\n",
       "      <td>1.0</td>\n",
       "      <td>1</td>\n",
       "    </tr>\n",
       "    <tr>\n",
       "      <th>130</th>\n",
       "      <td>7.4</td>\n",
       "      <td>2.8</td>\n",
       "      <td>6.1</td>\n",
       "      <td>1.9</td>\n",
       "      <td>1</td>\n",
       "    </tr>\n",
       "    <tr>\n",
       "      <th>135</th>\n",
       "      <td>7.7</td>\n",
       "      <td>3.0</td>\n",
       "      <td>6.1</td>\n",
       "      <td>2.3</td>\n",
       "      <td>1</td>\n",
       "    </tr>\n",
       "    <tr>\n",
       "      <th>122</th>\n",
       "      <td>7.7</td>\n",
       "      <td>2.8</td>\n",
       "      <td>6.7</td>\n",
       "      <td>2.0</td>\n",
       "      <td>1</td>\n",
       "    </tr>\n",
       "  </tbody>\n",
       "</table>\n",
       "<p>80 rows × 5 columns</p>\n",
       "</div>"
      ],
      "text/plain": [
       "     sepal_length  sepal_width  petal_length  petal_width  iris_class\n",
       "85            6.0          3.4           4.5          1.6           1\n",
       "95            5.7          3.0           4.2          1.2           1\n",
       "101           5.8          2.7           5.1          1.9           1\n",
       "143           6.8          3.2           5.9          2.3           1\n",
       "80            5.5          2.4           3.8          1.1           1\n",
       "..            ...          ...           ...          ...         ...\n",
       "142           5.8          2.7           5.1          1.9           1\n",
       "60            5.0          2.0           3.5          1.0           1\n",
       "130           7.4          2.8           6.1          1.9           1\n",
       "135           7.7          3.0           6.1          2.3           1\n",
       "122           7.7          2.8           6.7          2.0           1\n",
       "\n",
       "[80 rows x 5 columns]"
      ]
     },
     "execution_count": 34,
     "metadata": {},
     "output_type": "execute_result"
    }
   ],
   "source": [
    "iris_train[iris_train.iris_class == 1]"
   ]
  },
  {
   "cell_type": "code",
   "execution_count": 35,
   "metadata": {},
   "outputs": [
    {
     "data": {
      "text/html": [
       "<div>\n",
       "<style scoped>\n",
       "    .dataframe tbody tr th:only-of-type {\n",
       "        vertical-align: middle;\n",
       "    }\n",
       "\n",
       "    .dataframe tbody tr th {\n",
       "        vertical-align: top;\n",
       "    }\n",
       "\n",
       "    .dataframe thead th {\n",
       "        text-align: right;\n",
       "    }\n",
       "</style>\n",
       "<table border=\"1\" class=\"dataframe\">\n",
       "  <thead>\n",
       "    <tr style=\"text-align: right;\">\n",
       "      <th></th>\n",
       "      <th>sepal_length</th>\n",
       "      <th>sepal_width</th>\n",
       "      <th>petal_length</th>\n",
       "      <th>petal_width</th>\n",
       "      <th>iris_class</th>\n",
       "    </tr>\n",
       "  </thead>\n",
       "  <tbody>\n",
       "  </tbody>\n",
       "</table>\n",
       "</div>"
      ],
      "text/plain": [
       "Empty DataFrame\n",
       "Columns: [sepal_length, sepal_width, petal_length, petal_width, iris_class]\n",
       "Index: []"
      ]
     },
     "execution_count": 35,
     "metadata": {},
     "output_type": "execute_result"
    }
   ],
   "source": [
    "# also be sure to make the same changes to the test set\n",
    "iris_test.loc[iris_test.iris_class == 2, 'iris_class'] = 1\n",
    "\n",
    "# Check that class was changed\n",
    "iris_test[iris_test.iris_class == 2]"
   ]
  },
  {
   "cell_type": "code",
   "execution_count": 36,
   "metadata": {},
   "outputs": [],
   "source": [
    "# Define our input and output for the training data\n",
    "X_train = iris_train[['sepal_length', 'sepal_width', 'petal_length', 'petal_width']].to_numpy()\n",
    "X_test = iris_test[['sepal_length', 'sepal_width', 'petal_length', 'petal_width']].to_numpy()\n",
    "\n",
    "y_train = iris_train.iris_class.to_numpy()\n",
    "y_test = iris_test.iris_class.to_numpy()"
   ]
  },
  {
   "cell_type": "code",
   "execution_count": 37,
   "metadata": {},
   "outputs": [
    {
     "name": "stdout",
     "output_type": "stream",
     "text": [
      "The weights are:\n",
      "[-0.16 -0.46  0.81  0.43]\n",
      "The errors are:\n",
      "[3.5, 0.0, 0.0, 0.0, 0.0, 0.0, 0.0, 0.0, 0.0, 0.0, 0.0, 0.0, 0.0, 0.0, 0.0, 0.0, 0.0, 0.0, 0.0, 0.0, 0.0, 0.0, 0.0, 0.0, 0.0, 0.0, 0.0, 0.0, 0.0, 0.0, 0.0, 0.0, 0.0, 0.0, 0.0, 0.0, 0.0, 0.0, 0.0, 0.0, 0.0, 0.0, 0.0, 0.0, 0.0, 0.0, 0.0, 0.0, 0.0, 0.0]\n",
      "The accuracy is:\n",
      "1.0\n"
     ]
    }
   ],
   "source": [
    "w_train, J_train, pred_train = perceptron(X_train, y_train, z = 0.0, eta = 0.1, num_it = 50)\n",
    "\n",
    "print(\"The weights are:\")\n",
    "print(w_train)\n",
    "\n",
    "print(\"The errors are:\")\n",
    "print(J_train)\n",
    "\n",
    "print(\"The accuracy is:\")\n",
    "print(accuracy(y_train, pred_train))"
   ]
  },
  {
   "cell_type": "code",
   "execution_count": 38,
   "metadata": {},
   "outputs": [
    {
     "name": "stdout",
     "output_type": "stream",
     "text": [
      "The accuracy is:\n",
      "1.0\n"
     ]
    }
   ],
   "source": [
    "y_pred = perceptron_test(X_test, w_train, z = 0.0)\n",
    "\n",
    "print(\"The accuracy is:\")\n",
    "print(accuracy(y_test, y_pred))"
   ]
  },
  {
   "cell_type": "markdown",
   "metadata": {},
   "source": [
    "Looks like our classifier did well here, and it only seemed to need a few iterations.\n",
    "\n",
    "Let's try to apply it to just the iris class 1 and 2 observations, which do not seem to have a clear\n",
    "linear decision boundary when sepal length and width are compared.\n",
    "\n",
    "We will just have to reload the original data set."
   ]
  },
  {
   "cell_type": "code",
   "execution_count": 39,
   "metadata": {},
   "outputs": [],
   "source": [
    "## Load the data\n",
    "iris12 = load_iris()\n",
    "iris12_df = pd.DataFrame(iris12['data'], columns = ['sepal_length','sepal_width','petal_length','petal_width'])\n",
    "iris12_df['iris_class'] = iris12['target']"
   ]
  },
  {
   "cell_type": "code",
   "execution_count": 40,
   "metadata": {},
   "outputs": [
    {
     "data": {
      "text/html": [
       "<div>\n",
       "<style scoped>\n",
       "    .dataframe tbody tr th:only-of-type {\n",
       "        vertical-align: middle;\n",
       "    }\n",
       "\n",
       "    .dataframe tbody tr th {\n",
       "        vertical-align: top;\n",
       "    }\n",
       "\n",
       "    .dataframe thead th {\n",
       "        text-align: right;\n",
       "    }\n",
       "</style>\n",
       "<table border=\"1\" class=\"dataframe\">\n",
       "  <thead>\n",
       "    <tr style=\"text-align: right;\">\n",
       "      <th></th>\n",
       "      <th>sepal_length</th>\n",
       "      <th>sepal_width</th>\n",
       "      <th>petal_length</th>\n",
       "      <th>petal_width</th>\n",
       "      <th>iris_class</th>\n",
       "    </tr>\n",
       "  </thead>\n",
       "  <tbody>\n",
       "    <tr>\n",
       "      <th>50</th>\n",
       "      <td>7.0</td>\n",
       "      <td>3.2</td>\n",
       "      <td>4.7</td>\n",
       "      <td>1.4</td>\n",
       "      <td>1</td>\n",
       "    </tr>\n",
       "    <tr>\n",
       "      <th>51</th>\n",
       "      <td>6.4</td>\n",
       "      <td>3.2</td>\n",
       "      <td>4.5</td>\n",
       "      <td>1.5</td>\n",
       "      <td>1</td>\n",
       "    </tr>\n",
       "    <tr>\n",
       "      <th>52</th>\n",
       "      <td>6.9</td>\n",
       "      <td>3.1</td>\n",
       "      <td>4.9</td>\n",
       "      <td>1.5</td>\n",
       "      <td>1</td>\n",
       "    </tr>\n",
       "    <tr>\n",
       "      <th>53</th>\n",
       "      <td>5.5</td>\n",
       "      <td>2.3</td>\n",
       "      <td>4.0</td>\n",
       "      <td>1.3</td>\n",
       "      <td>1</td>\n",
       "    </tr>\n",
       "    <tr>\n",
       "      <th>54</th>\n",
       "      <td>6.5</td>\n",
       "      <td>2.8</td>\n",
       "      <td>4.6</td>\n",
       "      <td>1.5</td>\n",
       "      <td>1</td>\n",
       "    </tr>\n",
       "  </tbody>\n",
       "</table>\n",
       "</div>"
      ],
      "text/plain": [
       "    sepal_length  sepal_width  petal_length  petal_width  iris_class\n",
       "50           7.0          3.2           4.7          1.4           1\n",
       "51           6.4          3.2           4.5          1.5           1\n",
       "52           6.9          3.1           4.9          1.5           1\n",
       "53           5.5          2.3           4.0          1.3           1\n",
       "54           6.5          2.8           4.6          1.5           1"
      ]
     },
     "execution_count": 40,
     "metadata": {},
     "output_type": "execute_result"
    }
   ],
   "source": [
    "# Remove all the iris class 0 observations\n",
    "iris12_df = iris12_df[iris12_df.iris_class > 0]\n",
    "iris12_df.head()"
   ]
  },
  {
   "cell_type": "code",
   "execution_count": 41,
   "metadata": {},
   "outputs": [],
   "source": [
    "# Re-assign iris class 1 to 0\n",
    "iris12_df.loc[iris12_df.iris_class == 1, 'iris_class'] = 0\n",
    "\n",
    "# Re-assign iris class 2 to 1\n",
    "iris12_df.loc[iris12_df.iris_class == 2, 'iris_class'] = 1"
   ]
  },
  {
   "cell_type": "code",
   "execution_count": 42,
   "metadata": {},
   "outputs": [],
   "source": [
    "## Making a statified train test split\n",
    "iris12_train, iris12_test = train_test_split(iris12_df, \n",
    "                                            random_state=431,\n",
    "                                            shuffle=True,\n",
    "                                            test_size=.2,\n",
    "                                            stratify=iris12_df['iris_class'])"
   ]
  },
  {
   "cell_type": "code",
   "execution_count": 43,
   "metadata": {},
   "outputs": [
    {
     "name": "stdout",
     "output_type": "stream",
     "text": [
      "(80, 4)\n",
      "(80,)\n"
     ]
    }
   ],
   "source": [
    "# Define our input and output for the training data\n",
    "X_train = iris12_train[['sepal_length', 'sepal_width', 'petal_length', 'petal_width']].to_numpy()\n",
    "print(X_train.shape)\n",
    "X_test = iris12_test[['sepal_length', 'sepal_width', 'petal_length', 'petal_width']].to_numpy()\n",
    "\n",
    "y_train = iris12_train.iris_class.to_numpy()\n",
    "print(y_train.shape)\n",
    "y_test = iris12_test.iris_class.to_numpy()"
   ]
  },
  {
   "cell_type": "code",
   "execution_count": 44,
   "metadata": {},
   "outputs": [
    {
     "name": "stdout",
     "output_type": "stream",
     "text": [
      "The weights are:\n",
      "[-5.89 -5.99  8.39  5.67]\n",
      "The errors are:\n",
      "[18.0, 12.0, 12.0, 11.0, 13.5, 6.5, 5.5, 2.0, 5.5, 5.5, 6.5, 5.5, 3.5, 2.0, 3.5, 2.0, 4.5, 5.5, 2.0, 7.0, 5.5, 5.5, 4.5, 2.0, 4.5, 2.0, 4.5, 2.0, 5.5, 3.0, 5.5, 2.0, 5.0, 3.5, 5.5, 2.0, 2.0, 5.5, 3.0, 2.5, 5.0, 3.5, 2.5, 4.5, 3.0, 4.5, 5.0, 3.5, 2.5, 4.5]\n",
      "The training accuracy is:\n",
      "0.8875\n"
     ]
    }
   ],
   "source": [
    "w_train, J_train, pred_train = perceptron(X_train, y_train, z = 0.0, eta = 0.1, num_it = 50)\n",
    "\n",
    "print(\"The weights are:\")\n",
    "print(w_train)\n",
    "\n",
    "print(\"The errors are:\")\n",
    "print(J_train)\n",
    "\n",
    "print(\"The training accuracy is:\")\n",
    "print(accuracy(y_train, pred_train))"
   ]
  },
  {
   "cell_type": "markdown",
   "metadata": {},
   "source": [
    "This actually seemed to do very well. Let's see if more iterations get us better training accuracy."
   ]
  },
  {
   "cell_type": "code",
   "execution_count": 45,
   "metadata": {},
   "outputs": [
    {
     "name": "stdout",
     "output_type": "stream",
     "text": [
      "The weights are:\n",
      "[-14.22 -15.19  21.    19.7 ]\n",
      "The errors are:\n",
      "[18.0, 12.0, 12.0, 11.0, 13.5, 6.5, 5.5, 2.0, 5.5, 5.5, 6.5, 5.5, 3.5, 2.0, 3.5, 2.0, 4.5, 5.5, 2.0, 7.0, 5.5, 5.5, 4.5, 2.0, 4.5, 2.0, 4.5, 2.0, 5.5, 3.0, 5.5, 2.0, 5.0, 3.5, 5.5, 2.0, 2.0, 5.5, 3.0, 2.5, 5.0, 3.5, 2.5, 4.5, 3.0, 4.5, 5.0, 3.5, 2.5, 4.5, 3.0, 3.0, 4.5, 3.0, 4.5, 3.0, 4.5, 2.0, 3.5, 4.5, 3.0, 3.5, 3.5, 3.5, 3.5, 3.5, 4.5, 4.5, 4.5, 4.5, 3.0, 2.0, 4.5, 3.0, 5.5, 4.5, 4.5, 4.5, 4.5, 2.0, 4.5, 2.0, 4.5, 4.5, 4.5, 3.0, 2.0, 3.5, 3.0, 2.0, 4.5, 2.0, 4.5, 3.0, 2.0, 5.5, 2.0, 4.5, 3.0, 2.0, 4.0, 2.5, 4.5, 3.0, 2.0, 3.5, 2.0, 4.5, 2.0, 4.5, 3.0, 2.0, 4.0, 2.5, 3.0, 3.0, 3.5, 3.0, 3.5, 2.0, 3.5, 3.0, 3.0, 2.5, 4.5, 2.0, 4.5, 2.0, 4.5, 3.0, 2.0, 3.5, 3.0, 2.0, 3.5, 3.0, 3.0, 2.5, 4.5, 4.0, 2.5, 4.5, 3.0, 3.5, 4.0, 4.5, 2.5, 4.5, 4.0, 2.5, 4.5, 3.0, 3.5, 3.0, 3.5, 3.0, 3.5, 3.0, 3.5, 3.0, 3.5, 3.0, 3.5, 3.0, 3.5, 3.0, 3.5, 3.0, 3.5, 3.0, 3.5, 3.0, 3.5, 3.0, 3.5, 3.0, 4.5, 3.0, 3.5, 3.0, 4.0, 3.5, 3.5, 3.0, 3.5, 3.0, 3.5, 3.0, 3.5, 3.0, 3.5, 3.0, 4.0, 3.5, 3.5, 3.0, 3.5, 3.0, 3.5, 3.0, 3.5, 3.0, 4.0, 3.5, 3.5, 3.0, 3.5, 3.0, 3.5, 3.0, 4.0, 3.5, 3.5, 3.0, 3.5, 3.0, 3.5, 3.0, 4.0, 3.5, 3.5, 3.0, 3.5, 3.0, 3.5, 3.0, 4.0, 4.5, 3.5, 4.0, 3.5, 4.0, 3.5, 4.0, 3.5, 3.5, 3.0, 4.0, 3.5, 3.5, 3.0, 3.5, 3.0, 3.5, 3.0, 4.0, 3.5, 3.5, 3.0, 3.5, 3.0, 4.0, 4.5, 3.5, 4.0, 3.5, 4.0, 3.5, 3.5, 3.0, 3.5, 3.0, 4.0, 4.5, 3.5, 4.0, 3.5, 4.0, 3.5, 3.5, 3.0, 3.5, 3.0, 4.0, 3.5, 3.5, 3.0, 3.5, 3.0, 3.5, 3.0, 4.0, 3.5, 3.5, 3.0, 4.0, 3.5, 3.5, 3.0, 3.5, 3.0, 4.0, 3.5, 3.5, 3.0, 3.5, 3.0, 4.0, 3.5, 3.5, 3.0, 3.5, 3.0, 4.0, 3.5, 3.5, 3.0, 3.5, 3.0, 4.0, 3.5, 3.5, 3.0, 4.0, 3.5, 3.5, 3.0, 3.5, 3.0, 4.0, 3.5, 3.5, 3.0, 3.5, 3.0, 4.0, 3.5, 3.5, 3.0, 3.5, 3.0, 4.0, 3.5, 3.5, 3.0, 3.5, 3.0, 4.0, 3.5, 3.5, 3.0, 3.5, 3.0, 4.0, 3.5, 3.5, 3.0, 4.0, 3.5, 3.5, 3.0, 3.5, 3.0, 3.0, 3.5, 3.0, 2.5, 4.0, 3.5, 3.5, 3.0, 3.0, 3.5, 4.0, 3.5, 3.5, 3.0, 3.5, 3.0, 3.0, 3.5, 4.0, 3.5, 3.5, 3.0, 3.5, 3.0, 3.0, 3.5, 4.0, 3.5, 3.5, 3.0, 3.5, 3.0, 3.0, 3.5, 4.0, 3.5, 3.5, 3.0, 3.5, 3.0, 3.0, 3.5, 3.5, 3.0, 3.0, 3.5, 3.5, 3.5, 3.0, 3.5, 3.0, 3.0, 3.5, 3.5, 3.5, 3.0, 3.5, 3.0, 3.0, 3.5, 3.5, 3.5, 3.0, 3.5, 3.0, 3.0, 3.5, 3.5, 3.0, 3.5, 3.0, 3.5, 3.5, 3.0, 3.5, 2.0, 3.5, 3.0, 3.5, 2.0, 3.5, 3.0, 3.5, 2.0, 3.5, 3.0, 3.5, 2.0, 3.5, 3.0, 3.5, 3.0, 3.5, 3.0, 3.5, 3.0, 3.5, 3.5, 3.0, 3.5, 2.0, 3.5, 3.0, 3.5, 2.0, 3.5, 3.0, 3.5, 3.0, 3.5, 3.0, 3.5, 3.0, 3.5, 3.5, 3.0, 3.5, 2.0, 3.5, 3.0, 3.5, 2.0, 3.5, 3.0, 3.5, 2.0, 3.5, 3.0, 3.5, 3.0, 3.5, 3.0, 3.5, 3.0, 3.5, 3.0, 3.5, 3.0, 3.5, 3.0, 3.5, 4.0, 3.5, 3.0, 3.5, 4.0, 3.5, 3.5, 3.0, 3.5, 2.0, 3.5, 3.0, 3.5, 2.0, 3.5, 3.0, 3.5, 2.0, 3.5, 3.0, 3.5, 2.0, 3.5, 3.0, 3.5, 2.0, 3.5, 3.0, 3.5, 2.0, 3.5, 3.0, 3.5, 2.0, 3.5, 3.0, 3.5, 2.0, 3.5, 3.0, 3.5, 2.0, 3.5, 3.0, 3.5, 2.0, 3.5, 3.0, 3.5, 2.0, 3.5, 3.0, 3.5, 2.0, 3.5, 3.0, 3.5, 3.0, 2.5, 3.0, 3.5, 3.0, 3.5, 3.0, 3.5, 3.0, 3.5, 3.0, 3.5, 3.0, 3.5, 3.0, 3.5, 3.0, 3.5, 3.0, 3.5, 3.0, 3.5, 3.0, 3.5, 3.0, 3.5, 3.0, 3.5, 3.0, 3.5, 3.0, 3.5, 3.0, 3.5, 3.0, 3.5, 3.0, 3.5, 3.0, 3.5, 3.0, 3.5, 3.0, 3.5, 3.0, 3.5, 2.0, 3.5, 3.0, 3.5, 2.0, 3.5, 3.0, 3.5, 2.0, 3.5, 3.0, 3.5, 2.0, 3.5, 3.0, 3.5, 2.0, 3.5, 3.0, 3.5, 2.0, 3.5, 3.0, 3.5, 3.0, 3.5, 3.0, 3.5, 3.0, 3.5, 3.0, 3.5, 3.0, 3.5, 2.0, 3.5, 3.0, 3.5, 2.0, 3.5, 3.0, 3.5, 2.0, 3.5, 3.0, 3.5, 2.0, 3.5, 3.0, 3.5, 2.0, 3.5, 3.0, 3.5, 2.0, 3.5, 3.0, 3.5, 2.0, 3.5, 3.0, 3.5, 2.0, 3.5, 3.0, 3.5, 3.0, 3.5, 3.0, 3.5, 3.0, 3.5, 3.0, 3.5, 3.0, 3.5, 3.0, 2.5, 3.0, 3.5, 3.0, 2.5, 3.0, 3.5, 3.0, 3.5, 3.0, 2.5, 3.0, 3.5, 3.0, 3.5, 3.0, 2.5, 3.0, 3.5, 3.0, 3.5, 3.0, 2.5, 3.0, 3.5, 3.0, 3.5, 3.0, 2.5, 3.0, 3.5, 3.0, 3.5, 3.0, 3.5, 2.0, 3.5, 3.0, 2.5, 3.0, 3.5, 3.0, 3.5, 3.0, 3.5, 2.0, 3.5, 3.0, 3.5, 2.0, 3.5, 3.0, 3.5, 2.0, 3.5, 3.0, 3.5, 3.0, 3.5, 2.0, 3.5, 3.0, 3.5, 2.0, 3.5, 3.0, 3.5, 2.0, 3.5, 3.0, 3.5, 2.0, 3.5, 3.0, 3.5, 2.0, 3.5, 3.0, 3.5, 2.0, 3.5, 3.0, 3.5, 2.0, 3.5, 3.0, 3.5, 2.0, 3.5, 3.0, 3.5, 2.0, 3.5, 3.0, 3.5, 2.0, 3.5, 3.0, 3.5, 2.0, 3.5, 3.0, 3.5, 2.0, 3.5, 3.0, 3.5, 2.0, 3.5, 3.0, 3.5, 3.0, 3.5, 3.0, 3.5, 3.0, 2.5, 3.0, 3.5, 3.0, 3.5, 3.0, 2.5, 3.0, 3.5, 3.0, 3.5, 3.0, 2.5, 3.0, 3.5, 3.0, 3.5, 3.0, 2.5, 3.0, 3.5, 3.0, 3.5, 3.0, 2.5, 3.0, 3.5, 3.0, 2.5, 3.0, 3.5, 3.0, 3.5, 3.0, 3.5, 3.0, 2.5, 3.0, 3.5, 3.0, 3.5, 3.0, 2.5, 3.0, 3.5, 3.0, 3.5, 3.0, 2.5, 3.0, 3.5, 3.0, 3.5, 3.0, 2.5, 3.0, 3.5, 3.0, 3.5, 3.0, 2.5, 3.0, 3.5, 3.0, 3.5, 3.0, 2.5, 3.0, 3.5, 3.0, 3.5, 3.0, 3.5, 3.0, 3.5, 3.0, 3.5, 3.0, 3.5, 3.0, 3.5, 3.0, 3.5, 3.0, 3.5, 3.0, 3.5, 3.0, 3.5, 3.0, 3.5, 3.0, 2.5, 3.0, 3.5, 3.0, 3.5, 3.0, 2.5, 3.0, 3.5, 3.0, 3.5, 3.0, 2.5, 3.0, 3.5, 3.0, 3.5, 3.0, 2.5, 3.0, 3.5, 3.0, 3.5, 3.0, 2.5, 3.0, 3.5, 3.0, 3.5, 3.0, 3.5, 3.0, 3.5, 3.0, 3.5, 3.0, 3.5, 3.0, 3.5, 3.0, 3.5, 3.0, 3.5, 3.0, 3.5, 3.0, 3.5, 3.0, 3.5, 3.0, 3.5, 3.0, 3.5, 3.0, 3.5, 3.0, 2.5, 3.0, 3.5, 3.0, 3.5, 3.0, 2.5, 3.0, 3.5, 3.0, 3.5, 3.0, 2.5, 3.0, 3.5, 3.0, 3.5, 3.0, 2.5, 3.0, 3.5, 3.0, 3.5, 3.0, 3.5, 3.0, 3.5, 3.0, 3.5, 3.0, 3.5, 3.0, 3.5, 3.0, 3.5, 3.0, 3.5, 3.0, 3.5, 3.0, 3.5, 3.0, 3.5, 3.0, 3.5, 3.0, 3.5, 3.0, 3.5, 3.0, 3.5, 3.0, 3.5, 3.0, 3.5, 3.0, 2.5, 3.0, 3.5, 3.0, 2.5, 3.0]\n",
      "The accuracy is:\n",
      "0.925\n"
     ]
    }
   ],
   "source": [
    "w_train, J_train, pred_train = perceptron(X_train, y_train, z = 0.0, eta = 0.1, num_it = 1000)\n",
    "\n",
    "print(\"The weights are:\")\n",
    "print(w_train)\n",
    "\n",
    "print(\"The errors are:\")\n",
    "print(J_train)\n",
    "\n",
    "print(\"The accuracy is:\")\n",
    "print(accuracy(y_train, pred_train))"
   ]
  },
  {
   "cell_type": "code",
   "execution_count": 46,
   "metadata": {},
   "outputs": [
    {
     "name": "stdout",
     "output_type": "stream",
     "text": [
      "The weights are:\n",
      "[-1.472 -1.514  2.081  1.966]\n",
      "The errors are:\n",
      "[18.0, 12.0, 12.0, 11.0, 13.5, 6.5, 5.5, 2.0, 5.5, 5.5, 6.5, 5.5, 3.5, 2.0, 3.5, 2.0, 4.5, 5.5, 2.0, 7.0, 5.5, 5.5, 4.5, 2.0, 4.5, 2.0, 4.5, 2.0, 5.5, 3.0, 5.5, 2.0, 5.0, 3.5, 5.5, 2.0, 2.0, 5.5, 3.0, 2.5, 5.0, 3.5, 2.5, 4.5, 3.0, 4.5, 5.0, 3.5, 2.5, 4.5, 3.0, 3.0, 4.5, 3.0, 4.5, 3.0, 4.5, 2.0, 3.5, 4.5, 3.0, 3.5, 3.5, 3.5, 3.5, 3.5, 4.5, 4.5, 4.5, 4.5, 3.0, 2.0, 4.5, 3.0, 5.5, 4.5, 4.5, 4.5, 4.5, 2.0, 4.5, 2.0, 4.5, 4.5, 4.5, 3.0, 2.0, 3.5, 3.0, 2.0, 4.5, 2.0, 4.5, 3.0, 2.0, 5.5, 2.0, 4.5, 3.0, 2.0, 4.0, 2.5, 4.5, 3.0, 2.0, 3.5, 2.0, 4.5, 2.0, 4.5, 3.0, 2.0, 4.0, 2.5, 3.0, 3.0, 3.5, 3.0, 3.5, 2.0, 3.5, 3.0, 3.0, 2.5, 4.5, 2.0, 4.5, 2.0, 4.5, 3.0, 2.0, 3.5, 3.0, 2.0, 3.5, 3.0, 3.0, 2.5, 4.5, 4.0, 2.5, 4.5, 3.0, 3.5, 4.0, 4.5, 2.5, 4.5, 4.0, 2.5, 4.5, 3.0, 3.5, 3.0, 3.5, 3.0, 3.5, 3.0, 3.5, 3.0, 3.5, 3.0, 3.5, 3.0, 3.5, 3.0, 3.5, 3.0, 3.5, 3.0, 3.5, 3.0, 3.5, 3.0, 3.5, 3.0, 4.5, 3.0, 3.5, 3.0, 4.0, 3.5, 3.5, 3.0, 3.5, 3.0, 3.5, 3.0, 3.5, 3.0, 3.5, 3.0, 4.0, 3.5, 3.5, 3.0, 3.5, 3.0, 3.5, 3.0, 3.5, 3.0, 4.0, 3.5, 3.5, 3.0, 3.5, 3.0, 3.5, 3.0, 4.0, 3.5, 3.5, 3.0, 3.5, 3.0, 3.5, 3.0, 4.0, 3.5, 3.5, 3.0, 3.5, 3.0, 3.5, 3.0, 4.0, 4.5, 3.5, 4.0, 3.5, 4.0, 3.5, 4.0, 3.5, 3.5, 3.0, 4.0, 3.5, 3.5, 3.0, 3.5, 3.0, 3.5, 3.0, 4.0, 3.5, 3.5, 3.0, 3.5, 3.0, 4.0, 4.5, 3.5, 4.0, 3.5, 4.0, 3.5, 3.5, 3.0, 3.5, 3.0, 4.0, 4.5, 3.5, 4.0, 3.5, 4.0, 3.5, 3.5, 3.0, 3.5, 3.0, 4.0, 3.5, 3.5, 3.0, 3.5, 3.0, 3.5, 3.0, 4.0, 3.5, 3.5, 3.0, 4.0, 3.5, 3.5, 3.0, 3.5, 3.0, 4.0, 3.5, 3.5, 3.0, 3.5, 3.0, 4.0, 3.5, 3.5, 3.0, 3.5, 3.0, 4.0, 3.5, 3.5, 3.0, 3.5, 3.0, 4.0, 3.5, 3.5, 3.0, 4.0, 3.5, 3.5, 3.0, 3.5, 3.0, 4.0, 3.5, 3.5, 3.0, 3.5, 3.0, 4.0, 3.5, 3.5, 3.0, 3.5, 3.0, 4.0, 3.5, 3.5, 3.0, 3.5, 3.0, 4.0, 3.5, 3.5, 3.0, 3.5, 3.0, 3.0, 3.5, 3.0, 2.5, 4.0, 3.5, 3.5, 3.0, 4.0, 3.5, 3.5, 3.0, 4.0, 3.5, 3.5, 3.0, 3.5, 3.0, 3.0, 3.5, 3.0, 2.5, 4.0, 3.5, 3.5, 3.0, 3.0, 3.5, 4.0, 3.5, 3.5, 3.0, 4.0, 3.5, 3.5, 3.0, 3.5, 3.0, 3.0, 3.5, 4.0, 3.5, 3.5, 3.0, 3.5, 3.0, 3.5, 3.0, 3.0, 3.5, 3.5, 3.5, 3.0, 3.5, 3.0, 3.0, 3.5, 3.5, 3.5, 3.0, 3.5, 3.0, 3.0, 3.5, 3.5, 3.5, 3.0, 3.5, 3.0, 3.0, 3.5, 3.5, 3.5, 3.0, 3.5, 3.0, 3.0, 3.5, 3.5, 3.5, 3.0, 3.5, 2.0, 3.5, 3.0, 3.5, 2.0, 3.5, 3.0, 3.5, 2.0, 3.5, 3.0, 3.5, 2.0, 3.5, 3.0, 3.5, 2.0, 3.5, 3.0, 3.5, 2.0, 3.5, 3.0, 3.5, 2.0, 3.5, 3.0, 3.5, 2.0, 3.5, 3.0, 3.5, 2.0, 3.5, 3.0, 3.5, 2.0, 3.5, 3.0, 3.5, 3.0, 3.5, 3.0, 3.5, 3.0, 3.5, 3.0, 3.5, 3.0, 3.5, 3.5, 3.0, 3.5, 3.0, 3.5, 3.0, 3.5, 3.0, 3.5, 3.0, 3.5, 3.0, 3.5, 3.0, 3.5, 3.0, 3.5, 3.0, 3.5, 3.0, 3.5, 3.0, 3.5, 3.0, 3.5, 3.0, 3.5, 3.0, 3.5, 3.0, 3.5, 4.0, 3.5, 3.0, 3.5, 3.5, 3.0, 2.0, 3.5, 3.0, 3.5, 2.0, 3.5, 3.0, 3.5, 3.0, 3.5, 3.0, 3.5, 3.0, 3.5, 3.0, 3.5, 2.0, 3.5, 3.0, 3.5, 2.0, 3.5, 3.0, 3.5, 2.0, 3.5, 3.0, 3.5, 2.0, 3.5, 3.0, 3.5, 2.0, 3.5, 3.0, 3.5, 2.0, 3.5, 3.0, 3.5, 2.0, 3.5, 3.0, 3.5, 2.0, 3.5, 3.0, 3.5, 3.0, 3.5, 3.0, 3.5, 3.0, 3.5, 3.0, 3.5, 3.0, 3.5, 3.0, 3.5, 3.0, 3.5, 3.0, 3.5, 2.0, 3.5, 3.0, 3.5, 2.0, 3.5, 3.0, 3.5, 2.0, 3.5, 3.0, 3.5, 2.0, 3.5, 3.0, 3.5, 2.0, 3.5, 3.0, 3.5, 2.0, 3.5, 3.0, 3.5, 3.0, 3.5, 3.0, 3.5, 3.0, 3.5, 3.0, 3.5, 3.0, 3.5, 2.0, 3.5, 3.0, 3.5, 2.0, 3.5, 3.0, 3.5, 2.0, 3.5, 3.0, 3.5, 2.0, 3.5, 3.0, 3.5, 2.0, 3.5, 3.0, 3.5, 2.0, 3.5, 3.0, 3.5, 2.0, 3.5, 3.0, 3.5, 3.0, 3.5, 3.0, 3.5, 3.0, 3.5, 3.0, 3.5, 3.0, 3.5, 3.0, 3.5, 3.0, 3.5, 2.0, 3.5, 3.0, 3.5, 2.0, 3.5, 3.0, 3.5, 2.0, 3.5, 3.0, 3.5, 2.0, 3.5, 3.0, 3.5, 2.0, 3.5, 3.0, 3.5, 2.0, 3.5, 3.0, 3.5, 3.0, 3.5, 3.0, 3.5, 3.0, 3.5, 3.0, 2.5, 3.0, 3.5, 3.0, 3.5, 3.0, 2.5, 3.0, 3.5, 3.0, 3.5, 3.0, 2.5, 3.0, 3.5, 3.0, 3.5, 3.0, 3.5, 2.0, 3.5, 3.0, 3.5, 2.0, 3.5, 3.0, 2.5, 3.0, 3.5, 3.0, 2.5, 3.0, 3.5, 3.0, 2.5, 3.0, 3.5, 3.0, 3.5, 3.0, 3.5, 2.0, 3.5, 3.0, 3.5, 2.0, 3.5, 3.0, 3.5, 2.0, 3.5, 3.0, 2.5, 3.0, 3.5, 3.0, 2.5, 3.0, 3.5, 3.0, 3.5, 3.0, 2.5, 3.0, 3.5, 3.0, 3.5, 3.0, 2.5, 3.0, 3.5, 3.0, 3.5, 3.0, 2.5, 3.0, 3.5, 3.0, 3.5, 3.0, 2.5, 3.0, 3.5, 3.0, 3.5, 3.0, 2.5, 3.0, 3.5, 3.0, 3.5, 3.0, 3.5, 3.0, 3.5, 3.0, 3.5, 2.0, 3.5, 3.0, 3.5, 2.0, 3.5, 3.0, 3.5, 2.0, 3.5, 3.0, 3.5, 2.0, 3.5, 3.0, 3.5, 2.0, 3.5, 3.0, 3.5, 2.0, 3.5, 3.0, 3.5, 2.0, 3.5, 3.0, 3.5, 2.0, 3.5, 3.0, 3.5, 2.0, 3.5, 3.0, 3.5, 2.0, 3.5, 3.0, 3.5, 3.0, 3.5, 3.0, 3.5, 3.0, 2.5, 3.0, 3.5, 3.0, 3.5, 3.0, 2.5, 3.0, 3.5, 3.0, 3.5, 3.0, 2.5, 3.0, 3.5, 3.0, 3.5, 3.0, 2.5, 3.0, 3.5, 3.0, 3.5, 3.0, 2.5, 3.0, 3.5, 3.0, 3.5, 3.0, 3.5, 3.0, 3.5, 3.0, 3.5, 3.0, 3.5, 3.0, 3.5, 3.0, 2.5, 3.0, 3.5, 3.0, 3.5, 3.0, 2.5, 3.0, 3.5, 3.0, 3.5, 3.0, 2.5, 3.0, 3.5, 3.0, 3.5, 3.0, 2.5, 3.0, 3.5, 3.0, 3.5, 3.0, 3.5, 3.0, 3.5, 3.0, 3.5, 3.0, 3.5, 3.0, 3.5, 3.0, 3.5, 3.0, 3.5, 3.0, 3.5, 3.0, 3.5, 3.0, 3.5, 3.0, 3.5, 3.0, 3.5, 3.0, 3.5, 3.0, 3.5, 3.0, 3.5, 3.0, 3.5, 3.0, 2.5, 3.0, 3.5, 3.0, 3.5, 3.0, 2.5, 3.0, 3.5, 3.0, 3.5, 3.0, 2.5, 3.0, 3.5, 3.0, 3.5, 3.0, 2.5, 3.0, 3.5, 3.0, 3.5, 3.0, 3.5, 3.0, 3.5, 3.0, 3.5, 3.0, 3.5, 3.0, 3.5, 3.0, 3.5, 3.0, 3.5, 3.0, 3.5, 3.0, 3.5, 3.0, 3.5, 3.0, 3.5, 3.0, 3.5, 3.0, 3.5, 3.0, 2.5, 3.0, 3.5, 3.0, 3.5, 3.0, 2.5, 3.0, 3.5, 3.0, 3.5, 3.0, 2.5, 3.0, 3.5, 3.0, 3.5, 3.0, 2.5, 3.0, 3.5, 3.0, 3.5, 3.0, 2.5, 3.0, 3.5, 3.0, 2.5]\n",
      "The accuracy is:\n",
      "0.9375\n"
     ]
    }
   ],
   "source": [
    "w_train, J_train, pred_train = perceptron(X_train, y_train, z = 0.0, eta = 0.01, num_it = 1000)\n",
    "\n",
    "print(\"The weights are:\")\n",
    "print(w_train)\n",
    "\n",
    "print(\"The errors are:\")\n",
    "print(J_train)\n",
    "\n",
    "print(\"The accuracy is:\")\n",
    "print(accuracy(y_train, pred_train))"
   ]
  },
  {
   "cell_type": "markdown",
   "metadata": {},
   "source": [
    "That is probably about as good as we will get with this simple neural network. Let's see how it does\n",
    "on our test set."
   ]
  },
  {
   "cell_type": "code",
   "execution_count": 47,
   "metadata": {},
   "outputs": [
    {
     "name": "stdout",
     "output_type": "stream",
     "text": [
      "The accuracy is:\n",
      "0.95\n"
     ]
    }
   ],
   "source": [
    "y_pred = perceptron_test(X_test, w_train, z = 0.0)\n",
    "\n",
    "print(\"The accuracy is:\")\n",
    "print(accuracy(y_test, y_pred))"
   ]
  },
  {
   "cell_type": "markdown",
   "metadata": {},
   "source": [
    "All in all a pretty good showing for this single layer perceptron on the Iris data set. From here,\n",
    "a custom class could be written for this neural network and used in conjunction with some cross\n",
    "validation and parameter tuning, but we will save that for a more sophisticated algorithm in other\n",
    "notebooks in this repository."
   ]
  },
  {
   "cell_type": "markdown",
   "metadata": {},
   "source": [
    "#### Compare with scikit-learn Perceptron\n",
    "\n",
    "Let's compare our model to the built-in perceptron model from scikit-learn. Hopefully the weights we\n",
    "computed here line up nicely."
   ]
  },
  {
   "cell_type": "code",
   "execution_count": 48,
   "metadata": {},
   "outputs": [],
   "source": [
    "from sklearn.linear_model import Perceptron"
   ]
  },
  {
   "cell_type": "code",
   "execution_count": 49,
   "metadata": {},
   "outputs": [],
   "source": [
    "# Train the perceptron\n",
    "perc = Perceptron(random_state = None, eta0 = 0.01, shuffle = False, fit_intercept= False, max_iter=50)\n",
    "\n",
    "# fit the model\n",
    "perc.fit(X_train, y_train)\n",
    "\n",
    "y_predict = perc.predict(X_test)"
   ]
  },
  {
   "cell_type": "code",
   "execution_count": 50,
   "metadata": {},
   "outputs": [
    {
     "data": {
      "text/plain": [
       "array([[-0.416, -0.393,  0.631,  0.388]])"
      ]
     },
     "execution_count": 50,
     "metadata": {},
     "output_type": "execute_result"
    }
   ],
   "source": [
    "perc.coef_"
   ]
  },
  {
   "cell_type": "code",
   "execution_count": 51,
   "metadata": {},
   "outputs": [
    {
     "data": {
      "text/plain": [
       "0.975"
      ]
     },
     "execution_count": 51,
     "metadata": {},
     "output_type": "execute_result"
    }
   ],
   "source": [
    "perc.score(X_train, y_train)"
   ]
  },
  {
   "cell_type": "code",
   "execution_count": 52,
   "metadata": {},
   "outputs": [
    {
     "data": {
      "text/plain": [
       "0.95"
      ]
     },
     "execution_count": 52,
     "metadata": {},
     "output_type": "execute_result"
    }
   ],
   "source": [
    "perc.score(X_test, y_test)"
   ]
  },
  {
   "cell_type": "code",
   "execution_count": 53,
   "metadata": {},
   "outputs": [
    {
     "data": {
      "text/plain": [
       "{'alpha': 0.0001,\n",
       " 'class_weight': None,\n",
       " 'early_stopping': False,\n",
       " 'eta0': 0.01,\n",
       " 'fit_intercept': False,\n",
       " 'l1_ratio': 0.15,\n",
       " 'max_iter': 50,\n",
       " 'n_iter_no_change': 5,\n",
       " 'n_jobs': None,\n",
       " 'penalty': None,\n",
       " 'random_state': None,\n",
       " 'shuffle': False,\n",
       " 'tol': 0.001,\n",
       " 'validation_fraction': 0.1,\n",
       " 'verbose': 0,\n",
       " 'warm_start': False}"
      ]
     },
     "execution_count": 53,
     "metadata": {},
     "output_type": "execute_result"
    }
   ],
   "source": [
    "perc.get_params(deep=True)"
   ]
  },
  {
   "cell_type": "code",
   "execution_count": null,
   "metadata": {},
   "outputs": [],
   "source": []
  }
 ],
 "metadata": {
  "kernelspec": {
   "display_name": "base",
   "language": "python",
   "name": "python3"
  },
  "language_info": {
   "codemirror_mode": {
    "name": "ipython",
    "version": 3
   },
   "file_extension": ".py",
   "mimetype": "text/x-python",
   "name": "python",
   "nbconvert_exporter": "python",
   "pygments_lexer": "ipython3",
   "version": "3.10.9"
  }
 },
 "nbformat": 4,
 "nbformat_minor": 2
}
