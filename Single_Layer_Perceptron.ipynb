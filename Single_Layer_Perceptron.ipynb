{
 "cells": [
  {
   "cell_type": "markdown",
   "metadata": {},
   "source": [
    "# Single-Layer Perceptron\n",
    "\n",
    "### Joseph Melby, 2023"
   ]
  },
  {
   "cell_type": "markdown",
   "metadata": {},
   "source": [
    "This notebook contains an implementation of a single layer Perceptron classifier. This algorithm\n",
    "serves as a simple case for the more general framework for implementing machine learning algorithms\n",
    "from scratch (not using Scikit-Learn or any other ML libraries, except for some data splitting,\n",
    "etc.). This particular implementation only uses NumPy, pandas, and some visualization tools.\n",
    "\n",
    "This framework was introduced to me through this Towards Data Science blog post:\n",
    "https://towardsdatascience.com/6-steps-to-write-any-machine-learning-algorithm-from-scratch-perceptron-case-study-335f638a70f3"
   ]
  },
  {
   "cell_type": "markdown",
   "metadata": {},
   "source": [
    "### Basics\n",
    "\n",
    "A single layer perceptron is the most basic neural network and is used primarily for binary\n",
    "classification. It uses a linear decision boundary, so classification problems with nonlinear\n",
    "decision boundaries are not a great fit for this classifier. \n",
    "\n",
    "Typical uses: loan default prediction, sentiment analysis"
   ]
  },
  {
   "cell_type": "code",
   "execution_count": 1,
   "metadata": {},
   "outputs": [],
   "source": [
    "import numpy as np\n"
   ]
  },
  {
   "cell_type": "code",
   "execution_count": 66,
   "metadata": {},
   "outputs": [],
   "source": [
    "# Toy example for the input features:\n",
    "X = np.array([[0, 1, 0],\n",
    "              [0, 0, 1],\n",
    "              [0, 1, 1]])\n",
    "\n",
    "# Output:\n",
    "y = np.array([1,\n",
    "              1,\n",
    "              0])"
   ]
  },
  {
   "cell_type": "code",
   "execution_count": 67,
   "metadata": {},
   "outputs": [
    {
     "name": "stdout",
     "output_type": "stream",
     "text": [
      "[0. 0. 0.]\n"
     ]
    }
   ],
   "source": [
    "# Initializing a weight vector with rows corresponding to three features\n",
    "w = np.zeros(X.shape[0])\n",
    "print(w)"
   ]
  },
  {
   "cell_type": "code",
   "execution_count": 68,
   "metadata": {},
   "outputs": [
    {
     "name": "stdout",
     "output_type": "stream",
     "text": [
      "0.0\n"
     ]
    }
   ],
   "source": [
    "# Multiply the weights by the features\n",
    "f = np.dot(X[0], w)\n",
    "print(f)"
   ]
  },
  {
   "cell_type": "code",
   "execution_count": 69,
   "metadata": {},
   "outputs": [],
   "source": [
    "# Compare this value against a threshold\n",
    "\n",
    "#Threshold:\n",
    "z = 0\n",
    "\n",
    "def activation(f, z = 0):\n",
    "    if f > z:\n",
    "        y_hat = 1\n",
    "    else:\n",
    "        y_hat = 0\n",
    "    return y_hat"
   ]
  },
  {
   "cell_type": "code",
   "execution_count": 70,
   "metadata": {},
   "outputs": [
    {
     "name": "stdout",
     "output_type": "stream",
     "text": [
      "0\n"
     ]
    }
   ],
   "source": [
    "y_hat = activation(f)\n",
    "print(y_hat)"
   ]
  },
  {
   "cell_type": "markdown",
   "metadata": {},
   "source": [
    "Since our prediction of y_hat[0][0] = 0 and the actual value was y0 = 1, we will need to update our\n",
    "weights. To update the weights, we will use the equation \n",
    "\n",
    "w_new = w + eta*(y - y_hat)x\n",
    "\n",
    "Here, eta is the learning rate. We can iterate this process until we get the desired accuracy in our classifier."
   ]
  },
  {
   "cell_type": "code",
   "execution_count": 71,
   "metadata": {},
   "outputs": [],
   "source": [
    "# Choose eta (this can be adjusted later as needed)\n",
    "eta = 0.1"
   ]
  },
  {
   "cell_type": "code",
   "execution_count": 72,
   "metadata": {},
   "outputs": [
    {
     "name": "stdout",
     "output_type": "stream",
     "text": [
      "[0.  0.1 0. ]\n"
     ]
    }
   ],
   "source": [
    "# Adjusting the weights \n",
    "w = w + eta*(y[0] - y_hat)*X[0]\n",
    "print(w)"
   ]
  },
  {
   "cell_type": "code",
   "execution_count": 74,
   "metadata": {},
   "outputs": [
    {
     "name": "stdout",
     "output_type": "stream",
     "text": [
      "0.1\n",
      "1\n"
     ]
    }
   ],
   "source": [
    "# Test the threshold again:\n",
    "f = np.dot(X[0], w)\n",
    "print(f)\n",
    "\n",
    "y_hat = activation(f)\n",
    "print(y_hat)"
   ]
  },
  {
   "cell_type": "markdown",
   "metadata": {},
   "source": [
    "Looks like we got the correct prediction for the first entry y[0] = 1, but we still have the other\n",
    "values to predict correctly. "
   ]
  },
  {
   "cell_type": "markdown",
   "metadata": {},
   "source": [
    "### Perceptron Classifier"
   ]
  },
  {
   "cell_type": "code",
   "execution_count": 135,
   "metadata": {},
   "outputs": [],
   "source": [
    "# Total Perceptron function using Sum-of-squared error\n",
    "\n",
    "def perceptron(X, y, z = 0.0, eta = 0.1, num_it = 50):\n",
    "    \"\"\"_summary_\n",
    "\n",
    "    Args:\n",
    "        X (2darray): input data set\n",
    "        y (1darray): output\n",
    "        z (int, optional): activation function threshold. Defaults to 0.\n",
    "        eta (float, optional): learning rate. Defaults to 0.1.\n",
    "        num_it (int, optional): number of iterations. Defaults to 10.\n",
    "\n",
    "    Returns:\n",
    "        1darray, list: array of weights and SSE vector\n",
    "    \"\"\"\n",
    "\n",
    "    # Initalize the weights\n",
    "    w = np.zeros(len(X[0]))\n",
    "    n = 0  #Iteration number\n",
    "\n",
    "    # Initialize other parameters to compute SSE\n",
    "    y_hat_vec = np.ones(len(y))   # predictions\n",
    "    errors = np.ones(len(y))   # errors = actual - predictions\n",
    "    J = []   # vector for SSE cost function\n",
    "\n",
    "    while n < num_it:\n",
    "        for i in range(0, X.shape[0]):\n",
    "            f = np.dot(X[i], w)\n",
    "\n",
    "            y_hat = activation(f)\n",
    "            y_hat_vec[i] = y_hat\n",
    "\n",
    "            # Update weights\n",
    "            for j in range(len(w)):\n",
    "                w[j] = w[j] + eta*(y[i] - y_hat)*X[i][j]\n",
    "            \n",
    "        n += 1\n",
    "\n",
    "        # Computing SSE\n",
    "        for i in range(len(y)):\n",
    "            errors[i] = (y[i] - y_hat_vec[i])**2\n",
    "\n",
    "        J.append(0.5* np.sum(errors))\n",
    "\n",
    "    return w, J, y_hat_vec\n"
   ]
  },
  {
   "cell_type": "code",
   "execution_count": 132,
   "metadata": {},
   "outputs": [],
   "source": [
    "# Simple accuracy function to use for our classifier\n",
    "def accuracy(true, predicted):\n",
    "    return np.sum(true==predicted)/len(predicted)"
   ]
  },
  {
   "cell_type": "markdown",
   "metadata": {},
   "source": [
    "### Toy Example\n",
    "\n",
    "Let's consider the NAND gate as an example to see this a little more formally."
   ]
  },
  {
   "cell_type": "code",
   "execution_count": 133,
   "metadata": {},
   "outputs": [],
   "source": [
    "# Set up the input and output\n",
    "# Note that x0 is a dummy variable fo the bias term\n",
    "\n",
    "#             x0, x1, x2\n",
    "X = np.array([[1, 0, 0],\n",
    "              [1, 0, 1],\n",
    "              [1, 1, 0],\n",
    "              [1, 1, 1]])\n",
    "\n",
    "y = np.array([1,\n",
    "              1,\n",
    "              1,\n",
    "              0])"
   ]
  },
  {
   "cell_type": "code",
   "execution_count": 136,
   "metadata": {},
   "outputs": [
    {
     "name": "stdout",
     "output_type": "stream",
     "text": [
      "The weights are:\n",
      "[ 0.2 -0.2 -0.1]\n",
      "The errors are:\n",
      "[1.0, 1.5, 1.5, 0.0, 0.0, 0.0, 0.0, 0.0, 0.0, 0.0, 0.0, 0.0, 0.0, 0.0, 0.0, 0.0, 0.0, 0.0, 0.0, 0.0, 0.0, 0.0, 0.0, 0.0, 0.0, 0.0, 0.0, 0.0, 0.0, 0.0, 0.0, 0.0, 0.0, 0.0, 0.0, 0.0, 0.0, 0.0, 0.0, 0.0, 0.0, 0.0, 0.0, 0.0, 0.0, 0.0, 0.0, 0.0, 0.0, 0.0]\n"
     ]
    }
   ],
   "source": [
    "w, J, pred = perceptron(X, y, z = 0.0, eta = 0.1, num_it = 50)\n",
    "\n",
    "print(\"The weights are:\")\n",
    "print(w)\n",
    "\n",
    "print(\"The errors are:\")\n",
    "print(J)"
   ]
  },
  {
   "cell_type": "code",
   "execution_count": 137,
   "metadata": {},
   "outputs": [
    {
     "data": {
      "text/plain": [
       "1.0"
      ]
     },
     "execution_count": 137,
     "metadata": {},
     "output_type": "execute_result"
    }
   ],
   "source": [
    "accuracy(y, pred)"
   ]
  },
  {
   "cell_type": "markdown",
   "metadata": {},
   "source": [
    "### Bigger Synthetic Data Set\n",
    "\n",
    "Let's try this out on a slightly larger example data set, which is generated below."
   ]
  },
  {
   "cell_type": "code",
   "execution_count": 185,
   "metadata": {},
   "outputs": [],
   "source": [
    "## Generate the random data\n",
    "np.random.seed(440)\n",
    "n_rows = 100\n",
    "diff = .1\n",
    "X = np.random.random((n_rows,2))\n",
    "X_prime = X[(X[:,1] - X[:,0]) <= -diff,:]\n",
    "X_2prime = X[(X[:,1] - X[:,0]) >= diff,:]\n",
    "\n",
    "del X\n",
    "X = np.append(X_prime,X_2prime,axis = 0)\n",
    "\n",
    "y = np.empty(np.shape(X)[0])\n",
    "y[(X[:,1] - X[:,0]) <= -diff] = 1\n",
    "y[((X[:,1] - X[:,0]) >= diff)] = 0\n",
    "\n",
    "X[1,:] = [.8,.1]"
   ]
  },
  {
   "cell_type": "code",
   "execution_count": 186,
   "metadata": {},
   "outputs": [
    {
     "name": "stdout",
     "output_type": "stream",
     "text": [
      "(75, 2)\n",
      "(75,)\n"
     ]
    }
   ],
   "source": [
    "print(X.shape)\n",
    "print(y.shape)"
   ]
  },
  {
   "cell_type": "code",
   "execution_count": 189,
   "metadata": {},
   "outputs": [
    {
     "data": {
      "image/png": "[encoded data removed]",
      "text/plain": [
       "<Figure size 700x700 with 1 Axes>"
      ]
     },
     "metadata": {},
     "output_type": "display_data"
    }
   ],
   "source": [
    "## Plot the data\n",
    "plt.figure(figsize = (7,7))\n",
    "\n",
    "plt.scatter(X[y == 0,0],\n",
    "            X[y == 0,1],\n",
    "            c = \"blue\",\n",
    "            s = 60,\n",
    "            label=\"-1\")\n",
    "plt.scatter(X[y == 1,0],\n",
    "            X[y == 1,1],\n",
    "            c = \"orange\",\n",
    "            marker = 'v',\n",
    "            s = 60,\n",
    "            label=\"1\")\n",
    "\n",
    "plt.legend(fontsize = 12)\n",
    "plt.xlabel(\"$x_1$\",fontsize = 12)\n",
    "plt.ylabel(\"$x_2$\",fontsize = 12)\n",
    "\n",
    "plt.show()"
   ]
  },
  {
   "cell_type": "markdown",
   "metadata": {},
   "source": [
    "Clear linear decision boundary, so our perceptron should do just fine here."
   ]
  },
  {
   "cell_type": "code",
   "execution_count": 191,
   "metadata": {},
   "outputs": [
    {
     "name": "stdout",
     "output_type": "stream",
     "text": [
      "The weights are:\n",
      "[ 0.06754809 -0.05671507]\n",
      "The errors are:\n",
      "[1.0, 0.0, 0.0, 0.0, 0.0, 0.0, 0.0, 0.0, 0.0, 0.0]\n",
      "The accuracy is:\n",
      "1.0\n"
     ]
    }
   ],
   "source": [
    "w, J, pred = perceptron(X, y, z = 0.0, eta = 0.1, num_it = 10)\n",
    "\n",
    "print(\"The weights are:\")\n",
    "print(w)\n",
    "\n",
    "print(\"The errors are:\")\n",
    "print(J)\n",
    "\n",
    "print(\"The accuracy is:\")\n",
    "print(accuracy(y, pred))"
   ]
  },
  {
   "cell_type": "markdown",
   "metadata": {},
   "source": [
    "As expected, it does very well on this data set."
   ]
  },
  {
   "cell_type": "markdown",
   "metadata": {},
   "source": [
    "### Iris Dataset\n",
    "\n",
    "Let's try this out on the benchmark Iris data set, which is described in detail at:\n",
    "https://archive.ics.uci.edu/dataset/53/iris\n",
    "\n",
    "Each observation represents an iris (a type of flower) and gives it's measurements including:\n",
    "- `sepal_length`: the length of the iris's sepal in cm.\n",
    "- `sepal_width`: the width of the iris's sepal in cm.\n",
    "- `petal_length`: the length of the iris's petal in cm.\n",
    "- `petal_width`: the width of the iris's petal in cm.\n",
    "- `iris_class`: the class of the iris, can be:\n",
    "    - `0` meaning it is a setosa iris\n",
    "    - `1` meaning it is a versicolor iris\n",
    "    - `2` meaning it is a virginica iris"
   ]
  },
  {
   "cell_type": "code",
   "execution_count": 118,
   "metadata": {},
   "outputs": [],
   "source": [
    "import pandas as pd\n",
    "import matplotlib.pyplot as plt\n",
    "from sklearn.model_selection import train_test_split"
   ]
  },
  {
   "cell_type": "code",
   "execution_count": 152,
   "metadata": {},
   "outputs": [],
   "source": [
    "## to get the iris data\n",
    "from sklearn.datasets import load_iris\n",
    "\n",
    "## Load the data\n",
    "iris = load_iris()\n",
    "iris_df = pd.DataFrame(iris['data'], columns = ['sepal_length','sepal_width','petal_length','petal_width'])\n",
    "iris_df['iris_class'] = iris['target']"
   ]
  },
  {
   "cell_type": "code",
   "execution_count": 154,
   "metadata": {},
   "outputs": [
    {
     "data": {
      "text/html": [
       "<div>\n",
       "<style scoped>\n",
       "    .dataframe tbody tr th:only-of-type {\n",
       "        vertical-align: middle;\n",
       "    }\n",
       "\n",
       "    .dataframe tbody tr th {\n",
       "        vertical-align: top;\n",
       "    }\n",
       "\n",
       "    .dataframe thead th {\n",
       "        text-align: right;\n",
       "    }\n",
       "</style>\n",
       "<table border=\"1\" class=\"dataframe\">\n",
       "  <thead>\n",
       "    <tr style=\"text-align: right;\">\n",
       "      <th></th>\n",
       "      <th>sepal_length</th>\n",
       "      <th>sepal_width</th>\n",
       "      <th>petal_length</th>\n",
       "      <th>petal_width</th>\n",
       "      <th>iris_class</th>\n",
       "    </tr>\n",
       "  </thead>\n",
       "  <tbody>\n",
       "    <tr>\n",
       "      <th>0</th>\n",
       "      <td>5.1</td>\n",
       "      <td>3.5</td>\n",
       "      <td>1.4</td>\n",
       "      <td>0.2</td>\n",
       "      <td>0</td>\n",
       "    </tr>\n",
       "    <tr>\n",
       "      <th>1</th>\n",
       "      <td>4.9</td>\n",
       "      <td>3.0</td>\n",
       "      <td>1.4</td>\n",
       "      <td>0.2</td>\n",
       "      <td>0</td>\n",
       "    </tr>\n",
       "    <tr>\n",
       "      <th>2</th>\n",
       "      <td>4.7</td>\n",
       "      <td>3.2</td>\n",
       "      <td>1.3</td>\n",
       "      <td>0.2</td>\n",
       "      <td>0</td>\n",
       "    </tr>\n",
       "    <tr>\n",
       "      <th>3</th>\n",
       "      <td>4.6</td>\n",
       "      <td>3.1</td>\n",
       "      <td>1.5</td>\n",
       "      <td>0.2</td>\n",
       "      <td>0</td>\n",
       "    </tr>\n",
       "    <tr>\n",
       "      <th>4</th>\n",
       "      <td>5.0</td>\n",
       "      <td>3.6</td>\n",
       "      <td>1.4</td>\n",
       "      <td>0.2</td>\n",
       "      <td>0</td>\n",
       "    </tr>\n",
       "  </tbody>\n",
       "</table>\n",
       "</div>"
      ],
      "text/plain": [
       "   sepal_length  sepal_width  petal_length  petal_width  iris_class\n",
       "0           5.1          3.5           1.4          0.2           0\n",
       "1           4.9          3.0           1.4          0.2           0\n",
       "2           4.7          3.2           1.3          0.2           0\n",
       "3           4.6          3.1           1.5          0.2           0\n",
       "4           5.0          3.6           1.4          0.2           0"
      ]
     },
     "execution_count": 154,
     "metadata": {},
     "output_type": "execute_result"
    }
   ],
   "source": [
    "iris_df.head()"
   ]
  },
  {
   "cell_type": "code",
   "execution_count": 156,
   "metadata": {},
   "outputs": [
    {
     "data": {
      "image/png": "[encoded data removed]",
      "text/plain": [
       "<Figure size 800x600 with 1 Axes>"
      ]
     },
     "metadata": {},
     "output_type": "display_data"
    }
   ],
   "source": [
    "## Plotting the training data\n",
    "## sepal_width against sepal_length\n",
    "plt.figure(figsize=(8,6))\n",
    "\n",
    "plt.scatter(iris_df.loc[iris_df.iris_class==0].sepal_width,\n",
    "            iris_df.loc[iris_df.iris_class==0].sepal_length,\n",
    "            c='blue',\n",
    "            s=60,\n",
    "            label=\"0\")\n",
    "\n",
    "plt.scatter(iris_df.loc[iris_df.iris_class==1].sepal_width,\n",
    "            iris_df.loc[iris_df.iris_class==1].sepal_length,\n",
    "            c='orange',\n",
    "            s=60,\n",
    "            marker='v',\n",
    "            label=\"1\")\n",
    "\n",
    "plt.scatter(iris_df.loc[iris_df.iris_class==2].sepal_width,\n",
    "            iris_df.loc[iris_df.iris_class==2].sepal_length,\n",
    "            c='green',\n",
    "            s=60,\n",
    "            marker='x',\n",
    "            label=\"2\")\n",
    "\n",
    "plt.xticks(fontsize=10)\n",
    "plt.yticks(fontsize=10)\n",
    "plt.xlabel(\"Sepal Width\", fontsize=12)\n",
    "plt.ylabel(\"Sepal Length\", fontsize=12)\n",
    "plt.legend(fontsize=12)\n",
    "\n",
    "plt.show()"
   ]
  },
  {
   "cell_type": "markdown",
   "metadata": {},
   "source": [
    "There seems to be a clear linear bound between the blue (setosa) iris and the other two species.\n",
    "Since our perceptron model only allows for linear decision boundaries and is a binary classifier,\n",
    "let's just see if we can separate the setosa iris observations from the other two.\n",
    "\n",
    "To do so, we need to reassign any observation with iris_class = 2 to iris_class = 1."
   ]
  },
  {
   "cell_type": "code",
   "execution_count": 157,
   "metadata": {},
   "outputs": [
    {
     "data": {
      "text/html": [
       "<div>\n",
       "<style scoped>\n",
       "    .dataframe tbody tr th:only-of-type {\n",
       "        vertical-align: middle;\n",
       "    }\n",
       "\n",
       "    .dataframe tbody tr th {\n",
       "        vertical-align: top;\n",
       "    }\n",
       "\n",
       "    .dataframe thead th {\n",
       "        text-align: right;\n",
       "    }\n",
       "</style>\n",
       "<table border=\"1\" class=\"dataframe\">\n",
       "  <thead>\n",
       "    <tr style=\"text-align: right;\">\n",
       "      <th></th>\n",
       "      <th>sepal_length</th>\n",
       "      <th>sepal_width</th>\n",
       "      <th>petal_length</th>\n",
       "      <th>petal_width</th>\n",
       "      <th>iris_class</th>\n",
       "    </tr>\n",
       "  </thead>\n",
       "  <tbody>\n",
       "    <tr>\n",
       "      <th>100</th>\n",
       "      <td>6.3</td>\n",
       "      <td>3.3</td>\n",
       "      <td>6.0</td>\n",
       "      <td>2.5</td>\n",
       "      <td>2</td>\n",
       "    </tr>\n",
       "    <tr>\n",
       "      <th>101</th>\n",
       "      <td>5.8</td>\n",
       "      <td>2.7</td>\n",
       "      <td>5.1</td>\n",
       "      <td>1.9</td>\n",
       "      <td>2</td>\n",
       "    </tr>\n",
       "    <tr>\n",
       "      <th>102</th>\n",
       "      <td>7.1</td>\n",
       "      <td>3.0</td>\n",
       "      <td>5.9</td>\n",
       "      <td>2.1</td>\n",
       "      <td>2</td>\n",
       "    </tr>\n",
       "    <tr>\n",
       "      <th>103</th>\n",
       "      <td>6.3</td>\n",
       "      <td>2.9</td>\n",
       "      <td>5.6</td>\n",
       "      <td>1.8</td>\n",
       "      <td>2</td>\n",
       "    </tr>\n",
       "    <tr>\n",
       "      <th>104</th>\n",
       "      <td>6.5</td>\n",
       "      <td>3.0</td>\n",
       "      <td>5.8</td>\n",
       "      <td>2.2</td>\n",
       "      <td>2</td>\n",
       "    </tr>\n",
       "    <tr>\n",
       "      <th>105</th>\n",
       "      <td>7.6</td>\n",
       "      <td>3.0</td>\n",
       "      <td>6.6</td>\n",
       "      <td>2.1</td>\n",
       "      <td>2</td>\n",
       "    </tr>\n",
       "    <tr>\n",
       "      <th>106</th>\n",
       "      <td>4.9</td>\n",
       "      <td>2.5</td>\n",
       "      <td>4.5</td>\n",
       "      <td>1.7</td>\n",
       "      <td>2</td>\n",
       "    </tr>\n",
       "    <tr>\n",
       "      <th>107</th>\n",
       "      <td>7.3</td>\n",
       "      <td>2.9</td>\n",
       "      <td>6.3</td>\n",
       "      <td>1.8</td>\n",
       "      <td>2</td>\n",
       "    </tr>\n",
       "    <tr>\n",
       "      <th>108</th>\n",
       "      <td>6.7</td>\n",
       "      <td>2.5</td>\n",
       "      <td>5.8</td>\n",
       "      <td>1.8</td>\n",
       "      <td>2</td>\n",
       "    </tr>\n",
       "    <tr>\n",
       "      <th>109</th>\n",
       "      <td>7.2</td>\n",
       "      <td>3.6</td>\n",
       "      <td>6.1</td>\n",
       "      <td>2.5</td>\n",
       "      <td>2</td>\n",
       "    </tr>\n",
       "    <tr>\n",
       "      <th>110</th>\n",
       "      <td>6.5</td>\n",
       "      <td>3.2</td>\n",
       "      <td>5.1</td>\n",
       "      <td>2.0</td>\n",
       "      <td>2</td>\n",
       "    </tr>\n",
       "    <tr>\n",
       "      <th>111</th>\n",
       "      <td>6.4</td>\n",
       "      <td>2.7</td>\n",
       "      <td>5.3</td>\n",
       "      <td>1.9</td>\n",
       "      <td>2</td>\n",
       "    </tr>\n",
       "    <tr>\n",
       "      <th>112</th>\n",
       "      <td>6.8</td>\n",
       "      <td>3.0</td>\n",
       "      <td>5.5</td>\n",
       "      <td>2.1</td>\n",
       "      <td>2</td>\n",
       "    </tr>\n",
       "    <tr>\n",
       "      <th>113</th>\n",
       "      <td>5.7</td>\n",
       "      <td>2.5</td>\n",
       "      <td>5.0</td>\n",
       "      <td>2.0</td>\n",
       "      <td>2</td>\n",
       "    </tr>\n",
       "    <tr>\n",
       "      <th>114</th>\n",
       "      <td>5.8</td>\n",
       "      <td>2.8</td>\n",
       "      <td>5.1</td>\n",
       "      <td>2.4</td>\n",
       "      <td>2</td>\n",
       "    </tr>\n",
       "    <tr>\n",
       "      <th>115</th>\n",
       "      <td>6.4</td>\n",
       "      <td>3.2</td>\n",
       "      <td>5.3</td>\n",
       "      <td>2.3</td>\n",
       "      <td>2</td>\n",
       "    </tr>\n",
       "    <tr>\n",
       "      <th>116</th>\n",
       "      <td>6.5</td>\n",
       "      <td>3.0</td>\n",
       "      <td>5.5</td>\n",
       "      <td>1.8</td>\n",
       "      <td>2</td>\n",
       "    </tr>\n",
       "    <tr>\n",
       "      <th>117</th>\n",
       "      <td>7.7</td>\n",
       "      <td>3.8</td>\n",
       "      <td>6.7</td>\n",
       "      <td>2.2</td>\n",
       "      <td>2</td>\n",
       "    </tr>\n",
       "    <tr>\n",
       "      <th>118</th>\n",
       "      <td>7.7</td>\n",
       "      <td>2.6</td>\n",
       "      <td>6.9</td>\n",
       "      <td>2.3</td>\n",
       "      <td>2</td>\n",
       "    </tr>\n",
       "    <tr>\n",
       "      <th>119</th>\n",
       "      <td>6.0</td>\n",
       "      <td>2.2</td>\n",
       "      <td>5.0</td>\n",
       "      <td>1.5</td>\n",
       "      <td>2</td>\n",
       "    </tr>\n",
       "    <tr>\n",
       "      <th>120</th>\n",
       "      <td>6.9</td>\n",
       "      <td>3.2</td>\n",
       "      <td>5.7</td>\n",
       "      <td>2.3</td>\n",
       "      <td>2</td>\n",
       "    </tr>\n",
       "    <tr>\n",
       "      <th>121</th>\n",
       "      <td>5.6</td>\n",
       "      <td>2.8</td>\n",
       "      <td>4.9</td>\n",
       "      <td>2.0</td>\n",
       "      <td>2</td>\n",
       "    </tr>\n",
       "    <tr>\n",
       "      <th>122</th>\n",
       "      <td>7.7</td>\n",
       "      <td>2.8</td>\n",
       "      <td>6.7</td>\n",
       "      <td>2.0</td>\n",
       "      <td>2</td>\n",
       "    </tr>\n",
       "    <tr>\n",
       "      <th>123</th>\n",
       "      <td>6.3</td>\n",
       "      <td>2.7</td>\n",
       "      <td>4.9</td>\n",
       "      <td>1.8</td>\n",
       "      <td>2</td>\n",
       "    </tr>\n",
       "    <tr>\n",
       "      <th>124</th>\n",
       "      <td>6.7</td>\n",
       "      <td>3.3</td>\n",
       "      <td>5.7</td>\n",
       "      <td>2.1</td>\n",
       "      <td>2</td>\n",
       "    </tr>\n",
       "    <tr>\n",
       "      <th>125</th>\n",
       "      <td>7.2</td>\n",
       "      <td>3.2</td>\n",
       "      <td>6.0</td>\n",
       "      <td>1.8</td>\n",
       "      <td>2</td>\n",
       "    </tr>\n",
       "    <tr>\n",
       "      <th>126</th>\n",
       "      <td>6.2</td>\n",
       "      <td>2.8</td>\n",
       "      <td>4.8</td>\n",
       "      <td>1.8</td>\n",
       "      <td>2</td>\n",
       "    </tr>\n",
       "    <tr>\n",
       "      <th>127</th>\n",
       "      <td>6.1</td>\n",
       "      <td>3.0</td>\n",
       "      <td>4.9</td>\n",
       "      <td>1.8</td>\n",
       "      <td>2</td>\n",
       "    </tr>\n",
       "    <tr>\n",
       "      <th>128</th>\n",
       "      <td>6.4</td>\n",
       "      <td>2.8</td>\n",
       "      <td>5.6</td>\n",
       "      <td>2.1</td>\n",
       "      <td>2</td>\n",
       "    </tr>\n",
       "    <tr>\n",
       "      <th>129</th>\n",
       "      <td>7.2</td>\n",
       "      <td>3.0</td>\n",
       "      <td>5.8</td>\n",
       "      <td>1.6</td>\n",
       "      <td>2</td>\n",
       "    </tr>\n",
       "    <tr>\n",
       "      <th>130</th>\n",
       "      <td>7.4</td>\n",
       "      <td>2.8</td>\n",
       "      <td>6.1</td>\n",
       "      <td>1.9</td>\n",
       "      <td>2</td>\n",
       "    </tr>\n",
       "    <tr>\n",
       "      <th>131</th>\n",
       "      <td>7.9</td>\n",
       "      <td>3.8</td>\n",
       "      <td>6.4</td>\n",
       "      <td>2.0</td>\n",
       "      <td>2</td>\n",
       "    </tr>\n",
       "    <tr>\n",
       "      <th>132</th>\n",
       "      <td>6.4</td>\n",
       "      <td>2.8</td>\n",
       "      <td>5.6</td>\n",
       "      <td>2.2</td>\n",
       "      <td>2</td>\n",
       "    </tr>\n",
       "    <tr>\n",
       "      <th>133</th>\n",
       "      <td>6.3</td>\n",
       "      <td>2.8</td>\n",
       "      <td>5.1</td>\n",
       "      <td>1.5</td>\n",
       "      <td>2</td>\n",
       "    </tr>\n",
       "    <tr>\n",
       "      <th>134</th>\n",
       "      <td>6.1</td>\n",
       "      <td>2.6</td>\n",
       "      <td>5.6</td>\n",
       "      <td>1.4</td>\n",
       "      <td>2</td>\n",
       "    </tr>\n",
       "    <tr>\n",
       "      <th>135</th>\n",
       "      <td>7.7</td>\n",
       "      <td>3.0</td>\n",
       "      <td>6.1</td>\n",
       "      <td>2.3</td>\n",
       "      <td>2</td>\n",
       "    </tr>\n",
       "    <tr>\n",
       "      <th>136</th>\n",
       "      <td>6.3</td>\n",
       "      <td>3.4</td>\n",
       "      <td>5.6</td>\n",
       "      <td>2.4</td>\n",
       "      <td>2</td>\n",
       "    </tr>\n",
       "    <tr>\n",
       "      <th>137</th>\n",
       "      <td>6.4</td>\n",
       "      <td>3.1</td>\n",
       "      <td>5.5</td>\n",
       "      <td>1.8</td>\n",
       "      <td>2</td>\n",
       "    </tr>\n",
       "    <tr>\n",
       "      <th>138</th>\n",
       "      <td>6.0</td>\n",
       "      <td>3.0</td>\n",
       "      <td>4.8</td>\n",
       "      <td>1.8</td>\n",
       "      <td>2</td>\n",
       "    </tr>\n",
       "    <tr>\n",
       "      <th>139</th>\n",
       "      <td>6.9</td>\n",
       "      <td>3.1</td>\n",
       "      <td>5.4</td>\n",
       "      <td>2.1</td>\n",
       "      <td>2</td>\n",
       "    </tr>\n",
       "    <tr>\n",
       "      <th>140</th>\n",
       "      <td>6.7</td>\n",
       "      <td>3.1</td>\n",
       "      <td>5.6</td>\n",
       "      <td>2.4</td>\n",
       "      <td>2</td>\n",
       "    </tr>\n",
       "    <tr>\n",
       "      <th>141</th>\n",
       "      <td>6.9</td>\n",
       "      <td>3.1</td>\n",
       "      <td>5.1</td>\n",
       "      <td>2.3</td>\n",
       "      <td>2</td>\n",
       "    </tr>\n",
       "    <tr>\n",
       "      <th>142</th>\n",
       "      <td>5.8</td>\n",
       "      <td>2.7</td>\n",
       "      <td>5.1</td>\n",
       "      <td>1.9</td>\n",
       "      <td>2</td>\n",
       "    </tr>\n",
       "    <tr>\n",
       "      <th>143</th>\n",
       "      <td>6.8</td>\n",
       "      <td>3.2</td>\n",
       "      <td>5.9</td>\n",
       "      <td>2.3</td>\n",
       "      <td>2</td>\n",
       "    </tr>\n",
       "    <tr>\n",
       "      <th>144</th>\n",
       "      <td>6.7</td>\n",
       "      <td>3.3</td>\n",
       "      <td>5.7</td>\n",
       "      <td>2.5</td>\n",
       "      <td>2</td>\n",
       "    </tr>\n",
       "    <tr>\n",
       "      <th>145</th>\n",
       "      <td>6.7</td>\n",
       "      <td>3.0</td>\n",
       "      <td>5.2</td>\n",
       "      <td>2.3</td>\n",
       "      <td>2</td>\n",
       "    </tr>\n",
       "    <tr>\n",
       "      <th>146</th>\n",
       "      <td>6.3</td>\n",
       "      <td>2.5</td>\n",
       "      <td>5.0</td>\n",
       "      <td>1.9</td>\n",
       "      <td>2</td>\n",
       "    </tr>\n",
       "    <tr>\n",
       "      <th>147</th>\n",
       "      <td>6.5</td>\n",
       "      <td>3.0</td>\n",
       "      <td>5.2</td>\n",
       "      <td>2.0</td>\n",
       "      <td>2</td>\n",
       "    </tr>\n",
       "    <tr>\n",
       "      <th>148</th>\n",
       "      <td>6.2</td>\n",
       "      <td>3.4</td>\n",
       "      <td>5.4</td>\n",
       "      <td>2.3</td>\n",
       "      <td>2</td>\n",
       "    </tr>\n",
       "    <tr>\n",
       "      <th>149</th>\n",
       "      <td>5.9</td>\n",
       "      <td>3.0</td>\n",
       "      <td>5.1</td>\n",
       "      <td>1.8</td>\n",
       "      <td>2</td>\n",
       "    </tr>\n",
       "  </tbody>\n",
       "</table>\n",
       "</div>"
      ],
      "text/plain": [
       "     sepal_length  sepal_width  petal_length  petal_width  iris_class\n",
       "100           6.3          3.3           6.0          2.5           2\n",
       "101           5.8          2.7           5.1          1.9           2\n",
       "102           7.1          3.0           5.9          2.1           2\n",
       "103           6.3          2.9           5.6          1.8           2\n",
       "104           6.5          3.0           5.8          2.2           2\n",
       "105           7.6          3.0           6.6          2.1           2\n",
       "106           4.9          2.5           4.5          1.7           2\n",
       "107           7.3          2.9           6.3          1.8           2\n",
       "108           6.7          2.5           5.8          1.8           2\n",
       "109           7.2          3.6           6.1          2.5           2\n",
       "110           6.5          3.2           5.1          2.0           2\n",
       "111           6.4          2.7           5.3          1.9           2\n",
       "112           6.8          3.0           5.5          2.1           2\n",
       "113           5.7          2.5           5.0          2.0           2\n",
       "114           5.8          2.8           5.1          2.4           2\n",
       "115           6.4          3.2           5.3          2.3           2\n",
       "116           6.5          3.0           5.5          1.8           2\n",
       "117           7.7          3.8           6.7          2.2           2\n",
       "118           7.7          2.6           6.9          2.3           2\n",
       "119           6.0          2.2           5.0          1.5           2\n",
       "120           6.9          3.2           5.7          2.3           2\n",
       "121           5.6          2.8           4.9          2.0           2\n",
       "122           7.7          2.8           6.7          2.0           2\n",
       "123           6.3          2.7           4.9          1.8           2\n",
       "124           6.7          3.3           5.7          2.1           2\n",
       "125           7.2          3.2           6.0          1.8           2\n",
       "126           6.2          2.8           4.8          1.8           2\n",
       "127           6.1          3.0           4.9          1.8           2\n",
       "128           6.4          2.8           5.6          2.1           2\n",
       "129           7.2          3.0           5.8          1.6           2\n",
       "130           7.4          2.8           6.1          1.9           2\n",
       "131           7.9          3.8           6.4          2.0           2\n",
       "132           6.4          2.8           5.6          2.2           2\n",
       "133           6.3          2.8           5.1          1.5           2\n",
       "134           6.1          2.6           5.6          1.4           2\n",
       "135           7.7          3.0           6.1          2.3           2\n",
       "136           6.3          3.4           5.6          2.4           2\n",
       "137           6.4          3.1           5.5          1.8           2\n",
       "138           6.0          3.0           4.8          1.8           2\n",
       "139           6.9          3.1           5.4          2.1           2\n",
       "140           6.7          3.1           5.6          2.4           2\n",
       "141           6.9          3.1           5.1          2.3           2\n",
       "142           5.8          2.7           5.1          1.9           2\n",
       "143           6.8          3.2           5.9          2.3           2\n",
       "144           6.7          3.3           5.7          2.5           2\n",
       "145           6.7          3.0           5.2          2.3           2\n",
       "146           6.3          2.5           5.0          1.9           2\n",
       "147           6.5          3.0           5.2          2.0           2\n",
       "148           6.2          3.4           5.4          2.3           2\n",
       "149           5.9          3.0           5.1          1.8           2"
      ]
     },
     "execution_count": 157,
     "metadata": {},
     "output_type": "execute_result"
    }
   ],
   "source": [
    "iris_df[iris_df.iris_class == 2]"
   ]
  },
  {
   "cell_type": "code",
   "execution_count": 158,
   "metadata": {},
   "outputs": [
    {
     "data": {
      "text/html": [
       "<div>\n",
       "<style scoped>\n",
       "    .dataframe tbody tr th:only-of-type {\n",
       "        vertical-align: middle;\n",
       "    }\n",
       "\n",
       "    .dataframe tbody tr th {\n",
       "        vertical-align: top;\n",
       "    }\n",
       "\n",
       "    .dataframe thead th {\n",
       "        text-align: right;\n",
       "    }\n",
       "</style>\n",
       "<table border=\"1\" class=\"dataframe\">\n",
       "  <thead>\n",
       "    <tr style=\"text-align: right;\">\n",
       "      <th></th>\n",
       "      <th>sepal_length</th>\n",
       "      <th>sepal_width</th>\n",
       "      <th>petal_length</th>\n",
       "      <th>petal_width</th>\n",
       "      <th>iris_class</th>\n",
       "    </tr>\n",
       "  </thead>\n",
       "  <tbody>\n",
       "  </tbody>\n",
       "</table>\n",
       "</div>"
      ],
      "text/plain": [
       "Empty DataFrame\n",
       "Columns: [sepal_length, sepal_width, petal_length, petal_width, iris_class]\n",
       "Index: []"
      ]
     },
     "execution_count": 158,
     "metadata": {},
     "output_type": "execute_result"
    }
   ],
   "source": [
    "# Changing all the iris_class = 2 to class 1 so that we can use our binary classifier\n",
    "iris_df.loc[iris_df.iris_class == 2, 'iris_class'] = 1\n",
    "\n",
    "# Check that class was changed\n",
    "iris_df[iris_df.iris_class == 2]"
   ]
  },
  {
   "cell_type": "code",
   "execution_count": 159,
   "metadata": {},
   "outputs": [
    {
     "data": {
      "text/html": [
       "<div>\n",
       "<style scoped>\n",
       "    .dataframe tbody tr th:only-of-type {\n",
       "        vertical-align: middle;\n",
       "    }\n",
       "\n",
       "    .dataframe tbody tr th {\n",
       "        vertical-align: top;\n",
       "    }\n",
       "\n",
       "    .dataframe thead th {\n",
       "        text-align: right;\n",
       "    }\n",
       "</style>\n",
       "<table border=\"1\" class=\"dataframe\">\n",
       "  <thead>\n",
       "    <tr style=\"text-align: right;\">\n",
       "      <th></th>\n",
       "      <th>sepal_length</th>\n",
       "      <th>sepal_width</th>\n",
       "      <th>petal_length</th>\n",
       "      <th>petal_width</th>\n",
       "      <th>iris_class</th>\n",
       "    </tr>\n",
       "  </thead>\n",
       "  <tbody>\n",
       "    <tr>\n",
       "      <th>50</th>\n",
       "      <td>7.0</td>\n",
       "      <td>3.2</td>\n",
       "      <td>4.7</td>\n",
       "      <td>1.4</td>\n",
       "      <td>1</td>\n",
       "    </tr>\n",
       "    <tr>\n",
       "      <th>51</th>\n",
       "      <td>6.4</td>\n",
       "      <td>3.2</td>\n",
       "      <td>4.5</td>\n",
       "      <td>1.5</td>\n",
       "      <td>1</td>\n",
       "    </tr>\n",
       "    <tr>\n",
       "      <th>52</th>\n",
       "      <td>6.9</td>\n",
       "      <td>3.1</td>\n",
       "      <td>4.9</td>\n",
       "      <td>1.5</td>\n",
       "      <td>1</td>\n",
       "    </tr>\n",
       "    <tr>\n",
       "      <th>53</th>\n",
       "      <td>5.5</td>\n",
       "      <td>2.3</td>\n",
       "      <td>4.0</td>\n",
       "      <td>1.3</td>\n",
       "      <td>1</td>\n",
       "    </tr>\n",
       "    <tr>\n",
       "      <th>54</th>\n",
       "      <td>6.5</td>\n",
       "      <td>2.8</td>\n",
       "      <td>4.6</td>\n",
       "      <td>1.5</td>\n",
       "      <td>1</td>\n",
       "    </tr>\n",
       "    <tr>\n",
       "      <th>...</th>\n",
       "      <td>...</td>\n",
       "      <td>...</td>\n",
       "      <td>...</td>\n",
       "      <td>...</td>\n",
       "      <td>...</td>\n",
       "    </tr>\n",
       "    <tr>\n",
       "      <th>145</th>\n",
       "      <td>6.7</td>\n",
       "      <td>3.0</td>\n",
       "      <td>5.2</td>\n",
       "      <td>2.3</td>\n",
       "      <td>1</td>\n",
       "    </tr>\n",
       "    <tr>\n",
       "      <th>146</th>\n",
       "      <td>6.3</td>\n",
       "      <td>2.5</td>\n",
       "      <td>5.0</td>\n",
       "      <td>1.9</td>\n",
       "      <td>1</td>\n",
       "    </tr>\n",
       "    <tr>\n",
       "      <th>147</th>\n",
       "      <td>6.5</td>\n",
       "      <td>3.0</td>\n",
       "      <td>5.2</td>\n",
       "      <td>2.0</td>\n",
       "      <td>1</td>\n",
       "    </tr>\n",
       "    <tr>\n",
       "      <th>148</th>\n",
       "      <td>6.2</td>\n",
       "      <td>3.4</td>\n",
       "      <td>5.4</td>\n",
       "      <td>2.3</td>\n",
       "      <td>1</td>\n",
       "    </tr>\n",
       "    <tr>\n",
       "      <th>149</th>\n",
       "      <td>5.9</td>\n",
       "      <td>3.0</td>\n",
       "      <td>5.1</td>\n",
       "      <td>1.8</td>\n",
       "      <td>1</td>\n",
       "    </tr>\n",
       "  </tbody>\n",
       "</table>\n",
       "<p>100 rows × 5 columns</p>\n",
       "</div>"
      ],
      "text/plain": [
       "     sepal_length  sepal_width  petal_length  petal_width  iris_class\n",
       "50            7.0          3.2           4.7          1.4           1\n",
       "51            6.4          3.2           4.5          1.5           1\n",
       "52            6.9          3.1           4.9          1.5           1\n",
       "53            5.5          2.3           4.0          1.3           1\n",
       "54            6.5          2.8           4.6          1.5           1\n",
       "..            ...          ...           ...          ...         ...\n",
       "145           6.7          3.0           5.2          2.3           1\n",
       "146           6.3          2.5           5.0          1.9           1\n",
       "147           6.5          3.0           5.2          2.0           1\n",
       "148           6.2          3.4           5.4          2.3           1\n",
       "149           5.9          3.0           5.1          1.8           1\n",
       "\n",
       "[100 rows x 5 columns]"
      ]
     },
     "execution_count": 159,
     "metadata": {},
     "output_type": "execute_result"
    }
   ],
   "source": [
    "iris_df[iris_df.iris_class == 1]"
   ]
  },
  {
   "cell_type": "code",
   "execution_count": 160,
   "metadata": {},
   "outputs": [],
   "source": [
    "# Define our input and output for the training data\n",
    "X = iris_df[['sepal_length', 'sepal_width', 'petal_length', 'petal_width']].to_numpy()\n",
    "\n",
    "y = iris_df.iris_class.to_numpy()"
   ]
  },
  {
   "cell_type": "code",
   "execution_count": 162,
   "metadata": {},
   "outputs": [
    {
     "name": "stdout",
     "output_type": "stream",
     "text": [
      "The weights are:\n",
      "[-0.11 -0.36  0.52  0.22]\n",
      "The errors are:\n",
      "[0.5, 1.5, 0.5, 0.0, 0.0, 0.0, 0.0, 0.0, 0.0, 0.0, 0.0, 0.0, 0.0, 0.0, 0.0, 0.0, 0.0, 0.0, 0.0, 0.0, 0.0, 0.0, 0.0, 0.0, 0.0, 0.0, 0.0, 0.0, 0.0, 0.0, 0.0, 0.0, 0.0, 0.0, 0.0, 0.0, 0.0, 0.0, 0.0, 0.0, 0.0, 0.0, 0.0, 0.0, 0.0, 0.0, 0.0, 0.0, 0.0, 0.0]\n",
      "The accuracy is:\n",
      "1.0\n"
     ]
    }
   ],
   "source": [
    "w, J, pred = perceptron(X, y, z = 0.0, eta = 0.1, num_it = 50)\n",
    "\n",
    "print(\"The weights are:\")\n",
    "print(w)\n",
    "\n",
    "print(\"The errors are:\")\n",
    "print(J)\n",
    "\n",
    "print(\"The accuracy is:\")\n",
    "print(accuracy(y, pred))"
   ]
  },
  {
   "cell_type": "markdown",
   "metadata": {},
   "source": [
    "Looks like our classifier did well here, and it only seemed to need a few iterations.\n",
    "\n",
    "Let's try to apply it to just the iris class 1 and 2 observations, which do not seem to have a clear\n",
    "linear decision boundary. \n",
    "\n",
    "We will just have to reload the original data set."
   ]
  },
  {
   "cell_type": "code",
   "execution_count": 163,
   "metadata": {},
   "outputs": [],
   "source": [
    "## Load the data\n",
    "iris12 = load_iris()\n",
    "iris12_df = pd.DataFrame(iris12['data'], columns = ['sepal_length','sepal_width','petal_length','petal_width'])\n",
    "iris12_df['iris_class'] = iris12['target']"
   ]
  },
  {
   "cell_type": "code",
   "execution_count": 168,
   "metadata": {},
   "outputs": [
    {
     "data": {
      "text/html": [
       "<div>\n",
       "<style scoped>\n",
       "    .dataframe tbody tr th:only-of-type {\n",
       "        vertical-align: middle;\n",
       "    }\n",
       "\n",
       "    .dataframe tbody tr th {\n",
       "        vertical-align: top;\n",
       "    }\n",
       "\n",
       "    .dataframe thead th {\n",
       "        text-align: right;\n",
       "    }\n",
       "</style>\n",
       "<table border=\"1\" class=\"dataframe\">\n",
       "  <thead>\n",
       "    <tr style=\"text-align: right;\">\n",
       "      <th></th>\n",
       "      <th>sepal_length</th>\n",
       "      <th>sepal_width</th>\n",
       "      <th>petal_length</th>\n",
       "      <th>petal_width</th>\n",
       "      <th>iris_class</th>\n",
       "    </tr>\n",
       "  </thead>\n",
       "  <tbody>\n",
       "    <tr>\n",
       "      <th>50</th>\n",
       "      <td>7.0</td>\n",
       "      <td>3.2</td>\n",
       "      <td>4.7</td>\n",
       "      <td>1.4</td>\n",
       "      <td>1</td>\n",
       "    </tr>\n",
       "    <tr>\n",
       "      <th>51</th>\n",
       "      <td>6.4</td>\n",
       "      <td>3.2</td>\n",
       "      <td>4.5</td>\n",
       "      <td>1.5</td>\n",
       "      <td>1</td>\n",
       "    </tr>\n",
       "    <tr>\n",
       "      <th>52</th>\n",
       "      <td>6.9</td>\n",
       "      <td>3.1</td>\n",
       "      <td>4.9</td>\n",
       "      <td>1.5</td>\n",
       "      <td>1</td>\n",
       "    </tr>\n",
       "    <tr>\n",
       "      <th>53</th>\n",
       "      <td>5.5</td>\n",
       "      <td>2.3</td>\n",
       "      <td>4.0</td>\n",
       "      <td>1.3</td>\n",
       "      <td>1</td>\n",
       "    </tr>\n",
       "    <tr>\n",
       "      <th>54</th>\n",
       "      <td>6.5</td>\n",
       "      <td>2.8</td>\n",
       "      <td>4.6</td>\n",
       "      <td>1.5</td>\n",
       "      <td>1</td>\n",
       "    </tr>\n",
       "  </tbody>\n",
       "</table>\n",
       "</div>"
      ],
      "text/plain": [
       "    sepal_length  sepal_width  petal_length  petal_width  iris_class\n",
       "50           7.0          3.2           4.7          1.4           1\n",
       "51           6.4          3.2           4.5          1.5           1\n",
       "52           6.9          3.1           4.9          1.5           1\n",
       "53           5.5          2.3           4.0          1.3           1\n",
       "54           6.5          2.8           4.6          1.5           1"
      ]
     },
     "execution_count": 168,
     "metadata": {},
     "output_type": "execute_result"
    }
   ],
   "source": [
    "# Remove all the iris class 0 observations\n",
    "iris12_df = iris12_df[iris12_df.iris_class > 0]\n",
    "iris12_df.head()"
   ]
  },
  {
   "cell_type": "code",
   "execution_count": 170,
   "metadata": {},
   "outputs": [],
   "source": [
    "# Re-assign iris class 1 to 0\n",
    "iris12_df.loc[iris12_df.iris_class == 1, 'iris_class'] = 0\n",
    "\n",
    "# Re-assign iris class 2 to 1\n",
    "iris12_df.loc[iris12_df.iris_class == 2, 'iris_class'] = 1"
   ]
  },
  {
   "cell_type": "code",
   "execution_count": 171,
   "metadata": {},
   "outputs": [
    {
     "name": "stdout",
     "output_type": "stream",
     "text": [
      "(100, 4)\n",
      "(100,)\n"
     ]
    }
   ],
   "source": [
    "# Define our input and output for the training data\n",
    "X = iris12_df[['sepal_length', 'sepal_width', 'petal_length', 'petal_width']].to_numpy()\n",
    "print(X.shape)\n",
    "\n",
    "y = iris12_df.iris_class.to_numpy()\n",
    "print(y.shape)"
   ]
  },
  {
   "cell_type": "code",
   "execution_count": 172,
   "metadata": {},
   "outputs": [
    {
     "name": "stdout",
     "output_type": "stream",
     "text": [
      "The weights are:\n",
      "[-3.48 -0.85  4.39  3.63]\n",
      "The errors are:\n",
      "[0.5, 1.5, 1.0, 1.0, 1.0, 1.0, 1.0, 1.0, 1.0, 1.0, 1.0, 1.0, 1.0, 1.0, 1.0, 1.0, 1.0, 1.0, 1.0, 1.0, 1.0, 1.0, 1.0, 1.0, 1.0, 1.0, 1.0, 1.0, 1.0, 1.0, 1.0, 1.0, 1.0, 1.0, 1.0, 1.0, 1.0, 1.0, 1.0, 1.0, 1.0, 1.0, 1.0, 1.0, 1.0, 1.0, 1.0, 1.0, 1.0, 1.0]\n",
      "The accuracy is:\n",
      "0.98\n"
     ]
    }
   ],
   "source": [
    "w, J, pred = perceptron(X, y, z = 0.0, eta = 0.1, num_it = 50)\n",
    "\n",
    "print(\"The weights are:\")\n",
    "print(w)\n",
    "\n",
    "print(\"The errors are:\")\n",
    "print(J)\n",
    "\n",
    "print(\"The accuracy is:\")\n",
    "print(accuracy(y, pred))"
   ]
  },
  {
   "cell_type": "markdown",
   "metadata": {},
   "source": [
    "This actually seemed to do very well. Let's see if more iterations get us to 100%."
   ]
  },
  {
   "cell_type": "code",
   "execution_count": 178,
   "metadata": {},
   "outputs": [
    {
     "name": "stdout",
     "output_type": "stream",
     "text": [
      "The weights are:\n",
      "[-14.36 -14.78  18.77  25.82]\n",
      "The errors are:\n",
      "[0.5, 1.5, 1.0, 1.0, 1.0, 1.0, 1.0, 1.0, 1.0, 1.0, 1.0, 1.0, 1.0, 1.0, 1.0, 1.0, 1.0, 1.0, 1.0, 1.0, 1.0, 1.0, 1.0, 1.0, 1.0, 1.0, 1.0, 1.0, 1.0, 1.0, 1.0, 1.0, 1.0, 1.0, 1.0, 1.0, 1.0, 1.0, 1.0, 1.0, 1.0, 1.0, 1.0, 1.0, 1.0, 1.0, 1.0, 1.0, 1.0, 1.0, 1.0, 1.0, 1.0, 1.0, 2.0, 2.0, 1.5, 1.0, 1.0, 1.0, 1.0, 1.0, 2.0, 2.0, 1.5, 1.0, 1.0, 1.0, 1.0, 1.0, 1.0, 2.0, 2.0, 1.5, 1.0, 1.0, 1.0, 1.0, 1.0, 2.0, 2.0, 2.0, 2.0, 2.0, 2.0, 2.0, 2.0, 2.0, 2.0, 2.0, 2.0, 2.0, 2.0, 1.5, 1.0, 1.0, 1.0, 1.0, 1.0, 1.0, 1.5, 1.5, 1.0, 2.0, 2.0, 2.0, 2.0, 1.5, 1.0, 1.0, 1.0, 1.0, 1.0, 1.0, 1.0, 1.0, 1.0, 1.0, 1.0, 1.0, 1.0, 1.0, 1.0, 1.0, 1.5, 1.5, 2.0, 2.0, 2.0, 2.0, 2.0, 2.0, 2.0, 1.5, 1.0, 2.0, 2.0, 2.0, 2.0, 2.0, 2.0, 1.5, 2.0, 2.0, 2.0, 2.0, 2.0, 1.5, 1.0, 1.0, 2.0, 2.0, 1.5, 1.0, 2.0, 2.0, 2.0, 1.5, 1.0, 1.0, 2.0, 2.0, 1.5, 1.0, 1.0, 2.0, 2.0, 1.5, 1.0, 1.0, 2.0, 2.0, 1.5, 1.0, 1.0, 2.0, 2.0, 1.5, 1.0, 1.0, 1.0, 2.0, 2.0, 1.5, 1.0, 1.0, 2.0, 2.0, 1.5, 1.0, 1.0, 2.0, 2.0, 1.5, 1.0, 1.0, 2.0, 2.0, 2.0, 1.5, 1.0, 1.0, 2.0, 2.0, 1.5, 1.0, 1.0, 2.0, 2.0, 1.5, 1.0, 1.0, 2.0, 2.0, 2.0, 1.5, 1.0, 1.0, 2.0, 2.0, 1.5, 1.0, 1.0, 2.0, 2.0, 2.0, 1.5, 1.0, 2.0, 2.0, 2.0, 1.5, 1.0, 1.0, 2.0, 2.0, 1.5, 1.0, 2.0, 2.0, 1.5, 1.0, 2.0, 2.0, 1.5, 1.0, 2.0, 2.0, 2.0, 1.5, 1.0, 2.0, 2.0, 2.0, 1.5, 1.0, 2.0, 2.0, 2.0, 1.5, 2.0, 2.0, 2.0, 1.5, 2.0, 2.0, 2.0, 1.5, 2.0, 2.0, 2.0, 1.5, 1.0, 2.0, 2.0, 2.0, 1.5, 2.0, 2.0, 2.0, 1.5, 1.0, 2.0, 2.0, 2.0, 1.5, 2.0, 2.0, 2.0, 1.5, 1.0, 2.0, 2.0, 2.0, 1.5, 1.0, 2.0, 2.0, 1.5, 1.0, 1.0, 1.0, 2.0, 2.0, 1.5, 1.0, 1.0, 1.0, 2.0, 2.0, 1.5, 1.0, 1.0, 1.0, 2.0, 2.0, 1.5, 1.0, 2.0, 2.0, 2.0, 1.5, 1.0, 1.0, 1.0, 2.0, 2.0, 1.5, 1.0, 1.0, 1.0, 2.0, 2.0, 2.0, 2.5, 2.0, 2.0, 1.5, 1.0, 2.0, 2.0, 1.5, 1.0, 1.0, 1.0, 2.0, 2.0, 2.0, 2.5, 2.0, 2.0, 2.5, 2.0, 2.0, 2.5, 2.0, 2.0, 2.5, 2.0, 2.0, 2.5, 2.0, 1.5, 2.0, 2.0, 2.0, 2.5, 2.0, 2.0, 2.5, 1.5, 1.0, 1.0, 2.0, 2.0, 2.0, 2.5, 2.0, 1.5, 2.0, 2.0, 1.5, 1.0, 2.0, 2.0, 1.5, 1.0, 2.0, 2.0, 1.5, 2.0, 2.0, 1.5, 1.0, 2.0, 2.0, 1.5, 2.0, 2.0, 2.0, 1.5, 2.0, 2.0, 2.0, 1.5, 2.0, 2.0, 1.5, 1.0, 2.0, 2.0, 2.0, 1.5, 2.0, 2.0, 1.5, 1.0, 2.0, 2.0, 1.5, 2.0, 2.0, 1.5, 1.0, 1.0, 2.0, 2.0, 1.5, 2.0, 2.0, 1.5, 1.0, 1.0, 2.0, 2.0, 1.5, 2.0, 2.0, 1.5, 1.0, 1.0, 2.0, 2.0, 1.5, 1.0, 2.0, 2.0, 1.5, 1.0, 2.0, 2.0, 1.5, 1.0, 2.0, 2.0, 1.5, 1.0, 1.0, 2.0, 2.0, 1.5, 1.0, 2.0, 2.0, 1.5, 1.0, 2.0, 2.0, 1.5, 1.0, 2.0, 2.0, 2.0, 2.5, 2.0, 2.5, 2.0, 1.5, 1.0, 2.0, 2.0, 1.5, 1.0, 2.0, 2.0, 1.5, 1.0, 1.0, 2.0, 2.0, 1.5, 2.0, 2.0, 2.0, 2.5, 2.0, 2.5, 2.0, 1.5, 2.0, 2.0, 2.0, 2.5, 2.0, 2.5, 2.0, 1.5, 1.0, 2.0, 2.0, 1.5, 1.0, 2.0, 2.0, 2.0, 2.5, 1.5, 2.0, 2.0, 2.0, 2.5, 2.0, 2.5, 2.0, 1.5, 1.0, 2.0, 2.0, 2.0, 2.5, 1.5, 2.0, 2.0, 2.0, 2.5, 2.0, 2.5, 2.0, 1.5, 1.0, 2.0, 2.0, 2.0, 2.5, 1.5, 2.0, 2.0, 2.0, 2.5, 2.0, 1.5, 2.0, 2.0, 2.0, 2.5, 2.0, 1.5, 1.0, 2.0, 2.0, 2.0, 2.5, 1.5, 2.0, 2.0, 2.0, 2.5, 2.0, 1.5, 2.0, 2.0, 2.0, 2.5, 2.0, 2.5, 2.0, 2.0, 2.5, 1.5, 2.0, 2.0, 2.0, 2.5, 2.0, 2.5, 2.0, 2.0, 2.5, 2.0, 2.0, 2.5, 2.5, 2.0, 2.0, 2.5, 2.0, 1.5, 2.0, 2.0, 2.0, 2.5, 2.0, 2.0, 2.5, 2.5, 2.0, 2.0, 2.5, 2.0, 2.0, 2.5, 2.5, 2.0, 2.0, 2.5, 2.0, 1.5, 2.0, 2.0, 2.0, 2.5, 2.0, 2.5, 2.0, 2.0, 2.5, 2.0, 2.5, 2.0, 2.0, 2.5, 2.0, 2.0, 2.5, 2.0, 2.5, 2.0, 2.0, 2.5, 2.0, 2.5, 2.0, 2.0, 2.5, 2.0, 2.0, 2.5, 2.0, 2.0, 2.5, 2.0, 2.0, 2.5, 2.0, 2.5, 2.0, 2.0, 2.5, 2.0, 2.5, 2.0, 2.0, 2.5, 2.0, 2.0, 2.5, 2.0, 2.0, 2.5, 2.0, 2.0, 2.5, 2.0, 2.0, 2.5, 2.0, 2.5, 2.0, 2.0, 2.0, 2.5, 2.0, 2.5, 2.0, 2.0, 2.0, 2.5, 2.0, 2.5, 2.0, 2.0, 2.0, 2.5, 2.0, 2.5, 2.0, 2.0, 2.0, 2.5, 2.0, 2.5, 2.0, 2.0, 2.0, 2.5, 2.0, 2.5, 2.0, 2.0, 2.0, 2.5, 2.0, 2.5, 2.0, 2.0, 2.0, 2.5, 2.0, 2.5, 2.0, 2.0, 2.0, 2.5, 2.0, 2.5, 2.0, 2.0, 2.0, 2.5, 2.0, 2.5, 2.0, 2.0, 2.0, 2.5, 2.0, 2.5, 2.0, 2.0, 2.0, 2.5, 2.0, 2.5, 2.0, 2.0, 2.0, 2.5, 2.0, 2.5, 2.0, 2.0, 2.5, 2.0, 2.5, 2.0, 2.0, 2.5, 2.0, 2.5, 2.0, 2.0, 2.5, 2.0, 2.5, 2.0, 2.0, 2.5, 2.0, 2.0, 2.5, 2.0, 2.0, 2.5, 2.0, 2.0, 2.5, 2.0, 2.0, 2.5, 2.0, 2.0, 2.5, 2.0, 2.0, 2.5, 2.0, 2.5, 2.0, 2.0, 2.0, 2.5, 2.0, 2.0, 2.5, 2.0, 2.0, 2.5, 2.0, 2.0, 2.5, 2.0, 2.0, 2.5, 2.0, 2.5, 2.0, 2.0, 2.0, 2.5, 2.0, 2.0, 2.5, 2.0, 2.0, 2.5, 2.0, 2.0, 2.5, 2.0, 2.0, 2.5, 2.0, 2.5, 2.0, 2.0, 2.5, 2.0, 2.0, 2.0, 2.5, 2.0, 2.0, 2.5, 2.0, 2.0, 2.5, 2.0, 2.0, 2.5, 2.0, 2.5, 2.0, 2.0, 2.5, 2.0, 2.0, 2.0, 2.5, 2.0, 2.0, 2.5, 2.0, 2.0, 2.5, 2.0, 2.0, 2.5, 2.0, 2.0, 2.5, 2.0, 2.5, 2.0, 2.0, 2.5, 2.0, 2.0, 2.5, 2.0, 2.0, 2.0, 2.5, 2.0, 2.0, 2.5, 2.0, 2.0, 2.5, 2.0, 2.5, 2.0, 2.0, 2.5, 2.0, 2.0, 2.5, 2.0, 2.0, 2.0, 2.5, 2.0, 2.0, 2.5, 2.0, 2.0, 2.5, 2.0, 2.0, 2.5, 2.0, 2.0, 2.5, 2.0, 2.5, 2.0, 2.0, 2.5, 2.0, 2.0, 2.0, 2.5, 2.0, 2.0, 2.5, 2.0, 2.0, 2.5, 2.0, 2.5, 2.0, 2.0, 2.0, 2.5, 2.0, 2.0, 2.5, 2.0, 2.0, 2.5, 2.0, 2.5, 2.0, 2.0, 2.0, 2.5, 2.0, 2.5, 2.0, 2.0, 2.0, 2.5, 2.0, 2.5, 2.0, 2.0, 2.0, 2.5, 2.0, 2.0, 2.5, 2.0, 2.0, 2.5, 2.0, 3.0, 2.5, 2.5, 2.0, 2.0, 2.0, 2.5, 2.0, 3.0, 2.5, 2.5, 2.0, 2.0, 2.0, 2.5, 2.0, 2.0, 2.5, 2.0, 3.0, 2.5, 2.5, 2.0, 2.0, 2.0, 2.5, 2.0, 3.0, 2.5, 2.5, 2.0, 2.0, 2.0, 2.5, 2.0, 2.0, 2.0, 2.5, 2.0, 3.0, 2.5, 2.5, 2.0, 2.0, 2.0, 2.5]\n",
      "The accuracy is:\n",
      "0.95\n"
     ]
    }
   ],
   "source": [
    "w, J, pred = perceptron(X, y, z = 0.0, eta = 0.1, num_it = 1000)\n",
    "\n",
    "print(\"The weights are:\")\n",
    "print(w)\n",
    "\n",
    "print(\"The errors are:\")\n",
    "print(J)\n",
    "\n",
    "print(\"The accuracy is:\")\n",
    "print(accuracy(y, pred))"
   ]
  },
  {
   "cell_type": "markdown",
   "metadata": {},
   "source": [
    "Well that's unfortunate. It seems the best this model will do is the following:"
   ]
  },
  {
   "cell_type": "code",
   "execution_count": 179,
   "metadata": {},
   "outputs": [
    {
     "name": "stdout",
     "output_type": "stream",
     "text": [
      "The weights are:\n",
      "[0.63 0.33 0.6  0.25]\n",
      "The errors are:\n",
      "[0.5]\n",
      "The accuracy is:\n",
      "0.99\n"
     ]
    }
   ],
   "source": [
    "w, J, pred = perceptron(X, y, z = 0.0, eta = 0.1, num_it = 1)\n",
    "\n",
    "print(\"The weights are:\")\n",
    "print(w)\n",
    "\n",
    "print(\"The errors are:\")\n",
    "print(J)\n",
    "\n",
    "print(\"The accuracy is:\")\n",
    "print(accuracy(y, pred))"
   ]
  },
  {
   "cell_type": "code",
   "execution_count": null,
   "metadata": {},
   "outputs": [],
   "source": []
  }
 ],
 "metadata": {
  "kernelspec": {
   "display_name": "base",
   "language": "python",
   "name": "python3"
  },
  "language_info": {
   "codemirror_mode": {
    "name": "ipython",
    "version": 3
   },
   "file_extension": ".py",
   "mimetype": "text/x-python",
   "name": "python",
   "nbconvert_exporter": "python",
   "pygments_lexer": "ipython3",
   "version": "3.10.9"
  }
 },
 "nbformat": 4,
 "nbformat_minor": 2
}
