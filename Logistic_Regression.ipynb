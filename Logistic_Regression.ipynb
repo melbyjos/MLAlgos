{
 "cells": [
  {
   "cell_type": "markdown",
   "metadata": {},
   "source": [
    "# Logistic Regression\n",
    "\n",
    "### Joseph Melby, 2023\n",
    "\n",
    "This notebook contains an implementation and testing of a logistic classifier written (mostly) from\n",
    "scratch. This particular implementation only uses NumPy, pandas, and some visualization tools, as\n",
    "well as some data manipulation tools from scikit-learn."
   ]
  },
  {
   "cell_type": "markdown",
   "metadata": {},
   "source": [
    "### Logistic Regression Class\n",
    "\n",
    "Here we will define a logistic regression class with all the necessary functions. We will need a\n",
    "couple functions outside of this class as well.\n",
    "\n",
    "We use gradient descent as an optimization algorithm to learn the best fitting parameters for our\n",
    "model. We do this using the first derivatives of our cost function to find the direction of steepest\n",
    "descent on the parameter space. \n",
    "\n",
    "fit() is a vectorized version of the gradient descent algorithm."
   ]
  },
  {
   "cell_type": "code",
   "execution_count": 1,
   "metadata": {},
   "outputs": [],
   "source": [
    "import numpy as np\n",
    "import pandas as pd\n",
    "import matplotlib.pyplot as plt\n",
    "from sklearn.model_selection import train_test_split"
   ]
  },
  {
   "cell_type": "code",
   "execution_count": 2,
   "metadata": {},
   "outputs": [],
   "source": [
    "# Standardize data function\n",
    "def standardize(X):\n",
    "    for i in range(X.shape[1]):\n",
    "        X[:, i] = (X[:, i] - np.mean(X[:, i]))/np.std(X[:, i])\n",
    "\n",
    "# Define an accuracy score\n",
    "# We will use the F1 score, which is the harmonic mean of precision and recall. \n",
    "def F1_score(y,y_hat):\n",
    "    tp,tn,fp,fn = 0,0,0,0\n",
    "    for i in range(len(y)):\n",
    "        if y[i] == 1 and y_hat[i] == 1:\n",
    "            tp += 1\n",
    "        elif y[i] == 1 and y_hat[i] == 0:\n",
    "            fn += 1\n",
    "        elif y[i] == 0 and y_hat[i] == 1:\n",
    "            fp += 1\n",
    "        elif y[i] == 0 and y_hat[i] == 0:\n",
    "            tn += 1\n",
    "    precision = tp/(tp+fp)\n",
    "    recall = tp/(tp+fn)\n",
    "    f1_score = 2*precision*recall/(precision+recall)\n",
    "    return f1_score"
   ]
  },
  {
   "cell_type": "code",
   "execution_count": 3,
   "metadata": {},
   "outputs": [],
   "source": [
    "class LogisticRegression():\n",
    "\n",
    "    # Define sigmoid function\n",
    "    def sigmoid(self, z):\n",
    "        sig = 1/(1+np.e**(-z))\n",
    "        return sig\n",
    "    \n",
    "    # Initialization\n",
    "    def initialize(self, X):\n",
    "        # initialize weights\n",
    "        weights = np.zeros((X.shape[1] + 1, 1))\n",
    "        # Add a bias column of ones to X\n",
    "        X = np.concatenate((np.ones((X.shape[0], 1)), X), axis=1)\n",
    "\n",
    "        return weights, X\n",
    "    \n",
    "    # Define cost function for logistic regression\n",
    "    def cost(self, theta, X, y):\n",
    "        z = np.dot(X, theta)\n",
    "        cost0 = y.T.dot(np.log(self.sigmoid(z)))\n",
    "        cost1 = (1 - y).T.dot(np.log(1-self.sigmoid(z)))\n",
    "        cost = -(cost1 + cost0)/len(y)\n",
    "        return cost\n",
    "    \n",
    "    def fit(self, X, y, alpha = 0.01, num_it = 100):\n",
    "        params, X = self.initialize(X)\n",
    "        costs = np.zeros(num_it,)\n",
    "        for i in range(num_it):\n",
    "            params = params - alpha*np.dot(X.T, self.sigmoid(np.dot(X, params)) - np.reshape(y, (len(y), 1)))\n",
    "            costs[i] = self.cost(params, X, y)\n",
    "        self.weights = params\n",
    "        return costs\n",
    "    \n",
    "    # Define a prediction function\n",
    "    def predict(self, X):\n",
    "        z = np.dot(self.initialize(X)[1], self.weights)\n",
    "        pred = []\n",
    "        for i in self.sigmoid(z):\n",
    "            if i > 0.5:\n",
    "                pred.append(1)\n",
    "            else: \n",
    "                pred.append(0)\n",
    "        return pred"
   ]
  },
  {
   "cell_type": "markdown",
   "metadata": {},
   "source": [
    "### Basic Synthetic Data Set"
   ]
  },
  {
   "cell_type": "code",
   "execution_count": 4,
   "metadata": {},
   "outputs": [],
   "source": [
    "## Generate the random data\n",
    "np.random.seed(440)\n",
    "n_rows = 100\n",
    "diff = .1\n",
    "X = np.random.random((n_rows,2))\n",
    "X_prime = X[(X[:,1] - X[:,0]) <= -diff,:]\n",
    "X_2prime = X[(X[:,1] - X[:,0]) >= diff,:]\n",
    "\n",
    "del X\n",
    "X = np.append(X_prime,X_2prime,axis = 0)\n",
    "\n",
    "y = np.empty(np.shape(X)[0])\n",
    "y[(X[:,1] - X[:,0]) <= -diff] = 1\n",
    "y[((X[:,1] - X[:,0]) >= diff)] = 0\n",
    "\n",
    "X[1,:] = [.8,.1]"
   ]
  },
  {
   "cell_type": "code",
   "execution_count": 5,
   "metadata": {},
   "outputs": [
    {
     "data": {
      "image/png": "[encoded data removed]",
      "text/plain": [
       "<Figure size 700x700 with 1 Axes>"
      ]
     },
     "metadata": {},
     "output_type": "display_data"
    }
   ],
   "source": [
    "## Plot the data\n",
    "plt.figure(figsize = (7,7))\n",
    "\n",
    "plt.scatter(X[y == 0,0],\n",
    "            X[y == 0,1],\n",
    "            c = \"blue\",\n",
    "            s = 60,\n",
    "            label=\"0\")\n",
    "plt.scatter(X[y == 1,0],\n",
    "            X[y == 1,1],\n",
    "            c = \"orange\",\n",
    "            marker = 'v',\n",
    "            s = 60,\n",
    "            label=\"1\")\n",
    "\n",
    "plt.legend(fontsize = 12)\n",
    "plt.xlabel(\"$x_1$\",fontsize = 12)\n",
    "plt.ylabel(\"$x_2$\",fontsize = 12)\n",
    "\n",
    "plt.show()"
   ]
  },
  {
   "cell_type": "markdown",
   "metadata": {},
   "source": [
    "Let's split our data into training and test sets."
   ]
  },
  {
   "cell_type": "code",
   "execution_count": 6,
   "metadata": {},
   "outputs": [],
   "source": [
    "X_train, X_test, y_train, y_test = train_test_split(X, y,\n",
    "                                    shuffle=True,\n",
    "                                    random_state=435,\n",
    "                                    test_size=.3,\n",
    "                                    stratify=y)"
   ]
  },
  {
   "cell_type": "code",
   "execution_count": 7,
   "metadata": {},
   "outputs": [
    {
     "name": "stdout",
     "output_type": "stream",
     "text": [
      "Training F1 score is 1.0\n",
      "Test F1 score is 1.0\n"
     ]
    }
   ],
   "source": [
    "standardize(X_train)\n",
    "standardize(X_test)\n",
    "\n",
    "# Initialize a class instance\n",
    "logreg = LogisticRegression()\n",
    "\n",
    "# Fit our model to the training data\n",
    "model = logreg.fit(X_train, y_train)\n",
    "\n",
    "y_train_pred = logreg.predict(X_train)\n",
    "\n",
    "f1_score_train = F1_score(y_train, y_train_pred)\n",
    "print(\"Training F1 score is %s\" % f1_score_train)\n",
    "\n",
    "# get prediction on test data\n",
    "y_test_pred = logreg.predict(X_test)\n",
    "\n",
    "f1_score_test = F1_score(y_test, y_test_pred)\n",
    "print(\"Test F1 score is %s\" % f1_score_test)"
   ]
  },
  {
   "cell_type": "markdown",
   "metadata": {},
   "source": [
    "##### Messier Data Set\n",
    "\n",
    "Let's try this again on a messier data set with a less obvious decision boundary."
   ]
  },
  {
   "cell_type": "code",
   "execution_count": 8,
   "metadata": {},
   "outputs": [],
   "source": [
    "## Generate the random data\n",
    "np.random.seed(440)\n",
    "n_rows = 100\n",
    "diff = .1\n",
    "X = np.random.random((n_rows,2))\n",
    "X_prime = X[(X[:,1] - X[:,0]) <= -diff,:]\n",
    "X_2prime = X[(X[:,1] - X[:,0]) >= diff,:]\n",
    "X_3prime = [[.4,.9],[.6,.45],[.7,.9],[.3,.19],[.1,.4]]\n",
    "\n",
    "del X\n",
    "X = np.append(X_prime,np.append(X_2prime,X_3prime,axis = 0),axis=0)\n",
    "\n",
    "y = np.empty(np.shape(X)[0])\n",
    "y[(X[:,1] - X[:,0]) <= -diff] = 1\n",
    "y[((X[:,1] - X[:,0]) >= diff)] = 0\n",
    "y[-5] = 1\n",
    "y[-4] = -1\n",
    "y[-3] = 1\n",
    "y[-2] = -1\n",
    "y[-1] = 1"
   ]
  },
  {
   "cell_type": "code",
   "execution_count": 9,
   "metadata": {},
   "outputs": [
    {
     "data": {
      "image/png": "[encoded data removed]",
      "text/plain": [
       "<Figure size 700x700 with 1 Axes>"
      ]
     },
     "metadata": {},
     "output_type": "display_data"
    }
   ],
   "source": [
    "plt.figure(figsize = (7,7))\n",
    "\n",
    "plt.scatter(X[y == 0,0],\n",
    "            X[y == 0,1],\n",
    "            c = \"blue\",\n",
    "            s = 60,\n",
    "            label=\"0\")\n",
    "plt.scatter(X[y == 1,0],\n",
    "            X[y == 1,1],\n",
    "            c = \"orange\",\n",
    "            s = 60,\n",
    "            marker = \"v\",\n",
    "            label=\"1\")\n",
    "\n",
    "plt.legend(fontsize = 12)\n",
    "plt.xlabel(\"$x_1$\",fontsize = 12)\n",
    "plt.ylabel(\"$x_2$\",fontsize = 12)\n",
    "\n",
    "plt.show()"
   ]
  },
  {
   "cell_type": "code",
   "execution_count": 10,
   "metadata": {},
   "outputs": [],
   "source": [
    "X_train, X_test, y_train, y_test = train_test_split(X, y,\n",
    "                                    shuffle=True,\n",
    "                                    random_state=435,\n",
    "                                    test_size=.3,\n",
    "                                    stratify=y)"
   ]
  },
  {
   "cell_type": "code",
   "execution_count": 11,
   "metadata": {},
   "outputs": [
    {
     "name": "stdout",
     "output_type": "stream",
     "text": [
      "Training F1 score is 0.9841269841269841\n",
      "Test F1 score is 0.888888888888889\n"
     ]
    }
   ],
   "source": [
    "standardize(X_train)\n",
    "standardize(X_test)\n",
    "\n",
    "# Initialize a class instance\n",
    "logreg = LogisticRegression()\n",
    "\n",
    "# Fit our model to the training data\n",
    "model = logreg.fit(X_train, y_train)\n",
    "\n",
    "y_train_pred = logreg.predict(X_train)\n",
    "\n",
    "f1_score_train = F1_score(y_train, y_train_pred)\n",
    "print(\"Training F1 score is %s\" % f1_score_train)\n",
    "\n",
    "# get prediction on test data\n",
    "y_test_pred = logreg.predict(X_test)\n",
    "\n",
    "f1_score_test = F1_score(y_test, y_test_pred)\n",
    "print(\"Test F1 score is %s\" % f1_score_test)"
   ]
  },
  {
   "cell_type": "markdown",
   "metadata": {},
   "source": [
    "This looks pretty good for our small data set!"
   ]
  },
  {
   "cell_type": "markdown",
   "metadata": {},
   "source": [
    "### Iris Data Set\n",
    "\n",
    "Now we can apply this procedure to a more interesting data set: the Iris data set, which is\n",
    "described in detail at: https://archive.ics.uci.edu/dataset/53/iris\n",
    "\n",
    "Each observation represents an iris (a type of flower) and gives it's measurements including:\n",
    "- `sepal_length`: the length of the iris's sepal in cm.\n",
    "- `sepal_width`: the width of the iris's sepal in cm.\n",
    "- `petal_length`: the length of the iris's petal in cm.\n",
    "- `petal_width`: the width of the iris's petal in cm.\n",
    "- `iris_class`: the class of the iris, can be:\n",
    "    - `0` meaning it is a setosa iris\n",
    "    - `1` meaning it is a versicolor iris\n",
    "    - `2` meaning it is a virginica iris\n",
    "\n",
    "You can take a look at some of the EDA for this data set done in the Single_Layer_Perceptron.ipynb\n",
    "notebook in this repository, so we will just load this and split up our data right away here."
   ]
  },
  {
   "cell_type": "code",
   "execution_count": 12,
   "metadata": {},
   "outputs": [],
   "source": [
    "## to get the iris data\n",
    "from sklearn.datasets import load_iris\n",
    "\n",
    "## Load the data\n",
    "iris = load_iris()\n",
    "iris_df = pd.DataFrame(iris['data'], columns = ['sepal_length','sepal_width','petal_length','petal_width'])\n",
    "iris_df['iris_class'] = iris['target']"
   ]
  },
  {
   "cell_type": "code",
   "execution_count": 13,
   "metadata": {},
   "outputs": [],
   "source": [
    "## Making a statified train test split\n",
    "iris_train, iris_test = train_test_split(iris_df, \n",
    "                                            random_state=431,\n",
    "                                            shuffle=True,\n",
    "                                            test_size=.25,\n",
    "                                            stratify=iris_df['iris_class'])"
   ]
  },
  {
   "cell_type": "markdown",
   "metadata": {},
   "source": [
    "Since our model is a binary classifier,\n",
    "let's just see if we can separate the setosa iris (class 0) observations from the other two.\n",
    "\n",
    "To do so, we need to reassign any observation with iris_class = 2 to iris_class = 1."
   ]
  },
  {
   "cell_type": "code",
   "execution_count": 14,
   "metadata": {},
   "outputs": [],
   "source": [
    "# Changing all the iris_class = 2 to class 1 so that we can use our binary classifier\n",
    "iris_train.loc[iris_train.iris_class == 2, 'iris_class'] = 1\n",
    "\n",
    "# also be sure to make the same changes to the test set\n",
    "iris_test.loc[iris_test.iris_class == 2, 'iris_class'] = 1"
   ]
  },
  {
   "cell_type": "code",
   "execution_count": 15,
   "metadata": {},
   "outputs": [],
   "source": [
    "# Define our input and output for the training data\n",
    "X_train = iris_train[['sepal_length', 'sepal_width', 'petal_length', 'petal_width']].to_numpy()\n",
    "X_test = iris_test[['sepal_length', 'sepal_width', 'petal_length', 'petal_width']].to_numpy()\n",
    "\n",
    "y_train = iris_train.iris_class.to_numpy()\n",
    "y_test = iris_test.iris_class.to_numpy()"
   ]
  },
  {
   "cell_type": "code",
   "execution_count": 16,
   "metadata": {},
   "outputs": [
    {
     "data": {
      "text/plain": [
       "array([1, 1, 1, 1, 1, 1, 1, 0, 1, 1, 1, 1, 1, 1, 1, 1, 0, 0, 1, 1, 1, 0,\n",
       "       1, 0, 1, 0, 0, 1, 0, 0, 1, 1, 1, 0, 0, 1, 0, 1, 1, 1, 0, 0, 0, 0,\n",
       "       1, 0, 0, 1, 1, 1, 1, 1, 1, 1, 0, 0, 1, 1, 1, 1, 1, 0, 1, 1, 1, 0,\n",
       "       0, 1, 1, 0, 0, 1, 1, 0, 1, 0, 1, 0, 1, 1, 0, 0, 0, 0, 1, 0, 0, 1,\n",
       "       1, 0, 0, 1, 1, 1, 1, 1, 1, 1, 1, 1, 1, 1, 0, 1, 0, 1, 1, 1, 1, 1,\n",
       "       1, 1])"
      ]
     },
     "execution_count": 16,
     "metadata": {},
     "output_type": "execute_result"
    }
   ],
   "source": [
    "y_train"
   ]
  },
  {
   "cell_type": "code",
   "execution_count": 17,
   "metadata": {},
   "outputs": [
    {
     "data": {
      "text/plain": [
       "array([1, 0, 1, 1, 0, 1, 1, 1, 1, 0, 1, 1, 0, 0, 0, 1, 0, 1, 1, 0, 1, 1,\n",
       "       1, 1, 1, 1, 1, 0, 1, 0, 1, 1, 1, 1, 0, 0, 1, 1])"
      ]
     },
     "execution_count": 17,
     "metadata": {},
     "output_type": "execute_result"
    }
   ],
   "source": [
    "y_test"
   ]
  },
  {
   "cell_type": "markdown",
   "metadata": {},
   "source": [
    "Looks like our iris classes look good. Now we can train and test our model."
   ]
  },
  {
   "cell_type": "code",
   "execution_count": 18,
   "metadata": {},
   "outputs": [
    {
     "name": "stdout",
     "output_type": "stream",
     "text": [
      "Training F1 score is 1.0\n",
      "Test F1 score is 1.0\n"
     ]
    }
   ],
   "source": [
    "# Load and fit our model:\n",
    "\n",
    "standardize(X_train)\n",
    "standardize(X_test)\n",
    "\n",
    "# Initialize a class instance\n",
    "logreg = LogisticRegression()\n",
    "\n",
    "# Fit our model to the training data\n",
    "model = logreg.fit(X_train, y_train)\n",
    "\n",
    "y_train_pred = logreg.predict(X_train)\n",
    "\n",
    "f1_score_train = F1_score(y_train, y_train_pred)\n",
    "print(\"Training F1 score is %s\" % f1_score_train)\n",
    "\n",
    "# get prediction on test data\n",
    "y_test_pred = logreg.predict(X_test)\n",
    "\n",
    "f1_score_test = F1_score(y_test, y_test_pred)\n",
    "print(\"Test F1 score is %s\" % f1_score_test)"
   ]
  },
  {
   "cell_type": "markdown",
   "metadata": {},
   "source": [
    "It looks like this does fairly well in separating iris class 0 from the other two. Let's also\n",
    "compare the other two and see whether we get similar discriminating power. We will need to reload\n",
    "the data set a couple times to do this of course."
   ]
  },
  {
   "cell_type": "code",
   "execution_count": 19,
   "metadata": {},
   "outputs": [
    {
     "name": "stdout",
     "output_type": "stream",
     "text": [
      "[1 0 1 1 0 1 0 0 1 0 0 0 0 0 0 0 0 1 0 0 1 1 0 1 0 0 0 0 0 0 1 0 1 1 0 0 0\n",
      " 1]\n"
     ]
    }
   ],
   "source": [
    "## Load the data\n",
    "iris = load_iris()\n",
    "iris_df = pd.DataFrame(iris['data'], columns = ['sepal_length','sepal_width','petal_length','petal_width'])\n",
    "iris_df['iris_class'] = iris['target']\n",
    "\n",
    "## Making a statified train test split\n",
    "iris_train, iris_test = train_test_split(iris_df, \n",
    "                                            random_state=431,\n",
    "                                            shuffle=True,\n",
    "                                            test_size=.25,\n",
    "                                            stratify=iris_df['iris_class'])\n",
    "\n",
    "# Changing all the iris_class = 1 to class 0 so that we can use our binary classifier to hopefully\n",
    "# separate class 2 from the others\n",
    "iris_train.loc[iris_train.iris_class == 1, 'iris_class'] = 0\n",
    "\n",
    "# also be sure to make the same changes to the test set\n",
    "iris_test.loc[iris_test.iris_class == 1, 'iris_class'] = 0\n",
    "\n",
    "\n",
    "# We also need to re-assign the value of class 2 to 1 so that our sigmoid activation function works\n",
    "# properly \n",
    "iris_train.loc[iris_train.iris_class == 2, 'iris_class'] = 1\n",
    "\n",
    "# also be sure to make the same changes to the test set\n",
    "iris_test.loc[iris_test.iris_class == 2, 'iris_class'] = 1\n",
    "\n",
    "\n",
    "# Define our input and output for the training data\n",
    "X_train = iris_train[['sepal_length', 'sepal_width', 'petal_length', 'petal_width']].to_numpy()\n",
    "X_test = iris_test[['sepal_length', 'sepal_width', 'petal_length', 'petal_width']].to_numpy()\n",
    "\n",
    "y_train = iris_train.iris_class.to_numpy()\n",
    "y_test = iris_test.iris_class.to_numpy()\n",
    "print(y_test)"
   ]
  },
  {
   "cell_type": "code",
   "execution_count": 20,
   "metadata": {},
   "outputs": [
    {
     "name": "stdout",
     "output_type": "stream",
     "text": [
      "Training F1 score is 0.9599999999999999\n",
      "Test F1 score is 0.962962962962963\n"
     ]
    }
   ],
   "source": [
    "# Load and fit our model:\n",
    "\n",
    "standardize(X_train)\n",
    "standardize(X_test)\n",
    "\n",
    "# Initialize a class instance\n",
    "logreg = LogisticRegression()\n",
    "\n",
    "# Fit our model to the training data\n",
    "model = logreg.fit(X_train, y_train)\n",
    "\n",
    "y_train_pred = logreg.predict(X_train)\n",
    "\n",
    "f1_score_train = F1_score(y_train, y_train_pred)\n",
    "print(\"Training F1 score is %s\" % f1_score_train)\n",
    "\n",
    "# get prediction on test data\n",
    "y_test_pred = logreg.predict(X_test)\n",
    "\n",
    "f1_score_test = F1_score(y_test, y_test_pred)\n",
    "print(\"Test F1 score is %s\" % f1_score_test)"
   ]
  },
  {
   "cell_type": "markdown",
   "metadata": {},
   "source": [
    "Looks like it did pretty well! Moving on now to see if our model separates class 1 from the other two."
   ]
  },
  {
   "cell_type": "code",
   "execution_count": 21,
   "metadata": {},
   "outputs": [
    {
     "name": "stdout",
     "output_type": "stream",
     "text": [
      "[0 0 0 0 0 0 1 1 0 0 1 1 0 0 0 1 0 0 1 0 0 0 1 0 1 1 1 0 1 0 0 1 0 0 0 0 1\n",
      " 0]\n"
     ]
    }
   ],
   "source": [
    "## Load the data\n",
    "iris = load_iris()\n",
    "iris_df = pd.DataFrame(iris['data'], columns = ['sepal_length','sepal_width','petal_length','petal_width'])\n",
    "iris_df['iris_class'] = iris['target']\n",
    "\n",
    "## Making a statified train test split\n",
    "iris_train, iris_test = train_test_split(iris_df, \n",
    "                                            random_state=431,\n",
    "                                            shuffle=True,\n",
    "                                            test_size=.25,\n",
    "                                            stratify=iris_df['iris_class'])\n",
    "\n",
    "# Changing all the iris_class = 1 to class 0 so that we can use our binary classifier to hopefully\n",
    "# separate class 2 from the others\n",
    "iris_train.loc[iris_train.iris_class == 2, 'iris_class'] = 0\n",
    "\n",
    "# also be sure to make the same changes to the test set\n",
    "iris_test.loc[iris_test.iris_class == 2, 'iris_class'] = 0\n",
    "\n",
    "# We can leave class 1 alone here\n",
    "\n",
    "\n",
    "# Define our input and output for the training data\n",
    "X_train = iris_train[['sepal_length', 'sepal_width', 'petal_length', 'petal_width']].to_numpy()\n",
    "X_test = iris_test[['sepal_length', 'sepal_width', 'petal_length', 'petal_width']].to_numpy()\n",
    "\n",
    "y_train = iris_train.iris_class.to_numpy()\n",
    "y_test = iris_test.iris_class.to_numpy()\n",
    "print(y_test)"
   ]
  },
  {
   "cell_type": "code",
   "execution_count": 22,
   "metadata": {},
   "outputs": [
    {
     "name": "stdout",
     "output_type": "stream",
     "text": [
      "Training F1 score is 0.4918032786885246\n",
      "Test F1 score is 0.5454545454545455\n"
     ]
    }
   ],
   "source": [
    "# Load and fit our model:\n",
    "\n",
    "standardize(X_train)\n",
    "standardize(X_test)\n",
    "\n",
    "# Initialize a class instance\n",
    "logreg = LogisticRegression()\n",
    "\n",
    "# Fit our model to the training data\n",
    "model = logreg.fit(X_train, y_train)\n",
    "\n",
    "y_train_pred = logreg.predict(X_train)\n",
    "\n",
    "f1_score_train = F1_score(y_train, y_train_pred)\n",
    "print(\"Training F1 score is %s\" % f1_score_train)\n",
    "\n",
    "# get prediction on test data\n",
    "y_test_pred = logreg.predict(X_test)\n",
    "\n",
    "f1_score_test = F1_score(y_test, y_test_pred)\n",
    "print(\"Test F1 score is %s\" % f1_score_test)"
   ]
  },
  {
   "cell_type": "code",
   "execution_count": 23,
   "metadata": {},
   "outputs": [
    {
     "name": "stdout",
     "output_type": "stream",
     "text": [
      "[0, 0, 0, 0, 0, 0, 1, 1, 0, 0, 1, 1, 0, 0, 0, 1, 0, 0, 1, 0, 0, 0, 1, 0, 1, 1, 1, 0, 1, 0, 0, 1, 0, 0, 0, 0, 1, 0]\n",
      "[0, 0, 0, 0, 0, 0, 0, 0, 1, 0, 1, 0, 0, 0, 0, 0, 0, 0, 0, 0, 0, 0, 1, 0, 1, 1, 0, 0, 0, 0, 1, 1, 1, 0, 0, 0, 1, 0]\n"
     ]
    }
   ],
   "source": [
    "print(list(y_test))\n",
    "print(y_test_pred)"
   ]
  },
  {
   "cell_type": "markdown",
   "metadata": {},
   "source": [
    "Clearly this does not perform as well in attempting to separate class 1 from the other two. As a\n",
    "final exploration, we will compare class 1 to each of the other two individually and see if there is\n",
    "anything we can learn from that."
   ]
  },
  {
   "cell_type": "code",
   "execution_count": 24,
   "metadata": {},
   "outputs": [
    {
     "name": "stdout",
     "output_type": "stream",
     "text": [
      "[0 1 1 0 1 1 1 0 0 0 1 0 0 1 0 1 1 0 1 0 0 1 1 1 0]\n"
     ]
    }
   ],
   "source": [
    "#### Comparing classes 1 and 0\n",
    "\n",
    "## Load the data\n",
    "iris = load_iris()\n",
    "iris_df = pd.DataFrame(iris['data'], columns = ['sepal_length','sepal_width','petal_length','petal_width'])\n",
    "iris_df['iris_class'] = iris['target']\n",
    "\n",
    "# Remove all class 2 observations\n",
    "iris_df = iris_df.loc[iris_df.iris_class < 2]\n",
    "\n",
    "## Making a statified train test split\n",
    "iris_train, iris_test = train_test_split(iris_df, \n",
    "                                            random_state=431,\n",
    "                                            shuffle=True,\n",
    "                                            test_size=.25,\n",
    "                                            stratify=iris_df['iris_class'])\n",
    "\n",
    "\n",
    "# Define our input and output for the training data\n",
    "X_train = iris_train[['sepal_length', 'sepal_width', 'petal_length', 'petal_width']].to_numpy()\n",
    "X_test = iris_test[['sepal_length', 'sepal_width', 'petal_length', 'petal_width']].to_numpy()\n",
    "\n",
    "y_train = iris_train.iris_class.to_numpy()\n",
    "y_test = iris_test.iris_class.to_numpy()\n",
    "print(y_test)"
   ]
  },
  {
   "cell_type": "code",
   "execution_count": 25,
   "metadata": {},
   "outputs": [
    {
     "name": "stdout",
     "output_type": "stream",
     "text": [
      "Training F1 score is 1.0\n",
      "Test F1 score is 1.0\n"
     ]
    }
   ],
   "source": [
    "# Load and fit our model:\n",
    "\n",
    "standardize(X_train)\n",
    "standardize(X_test)\n",
    "\n",
    "# Initialize a class instance\n",
    "logreg = LogisticRegression()\n",
    "\n",
    "# Fit our model to the training data\n",
    "model = logreg.fit(X_train, y_train)\n",
    "\n",
    "y_train_pred = logreg.predict(X_train)\n",
    "\n",
    "f1_score_train = F1_score(y_train, y_train_pred)\n",
    "print(\"Training F1 score is %s\" % f1_score_train)\n",
    "\n",
    "# get prediction on test data\n",
    "y_test_pred = logreg.predict(X_test)\n",
    "\n",
    "f1_score_test = F1_score(y_test, y_test_pred)\n",
    "print(\"Test F1 score is %s\" % f1_score_test)"
   ]
  },
  {
   "cell_type": "markdown",
   "metadata": {},
   "source": [
    "Looks like we get great separation between classes 0 and 1, as expected."
   ]
  },
  {
   "cell_type": "code",
   "execution_count": 26,
   "metadata": {},
   "outputs": [
    {
     "name": "stdout",
     "output_type": "stream",
     "text": [
      "[0 1 1 0 1 1 1 0 0 0 1 0 0 1 0 1 1 0 1 0 0 1 1 1 0]\n"
     ]
    }
   ],
   "source": [
    "#### Comparing classes 1 and 2\n",
    "\n",
    "## Load the data\n",
    "iris = load_iris()\n",
    "iris_df = pd.DataFrame(iris['data'], columns = ['sepal_length','sepal_width','petal_length','petal_width'])\n",
    "iris_df['iris_class'] = iris['target']\n",
    "\n",
    "# Remove all class 2 observations\n",
    "iris_df = iris_df.loc[iris_df.iris_class > 0]\n",
    "\n",
    "## Making a statified train test split\n",
    "iris_train, iris_test = train_test_split(iris_df, \n",
    "                                            random_state=431,\n",
    "                                            shuffle=True,\n",
    "                                            test_size=.25,\n",
    "                                            stratify=iris_df['iris_class'])\n",
    "\n",
    "# Changing all the iris_class = 1 to class 0 so that we can use our binary classifier\n",
    "iris_train.loc[iris_train.iris_class == 1, 'iris_class'] = 0\n",
    "\n",
    "# also be sure to make the same changes to the test set\n",
    "iris_test.loc[iris_test.iris_class == 1, 'iris_class'] = 0\n",
    "\n",
    "\n",
    "# We also need to re-assign the value of class 2 to 1 so that our sigmoid activation function works\n",
    "# properly \n",
    "iris_train.loc[iris_train.iris_class == 2, 'iris_class'] = 1\n",
    "\n",
    "# also be sure to make the same changes to the test set\n",
    "iris_test.loc[iris_test.iris_class == 2, 'iris_class'] = 1\n",
    "\n",
    "\n",
    "# Define our input and output for the training data\n",
    "X_train = iris_train[['sepal_length', 'sepal_width', 'petal_length', 'petal_width']].to_numpy()\n",
    "X_test = iris_test[['sepal_length', 'sepal_width', 'petal_length', 'petal_width']].to_numpy()\n",
    "\n",
    "y_train = iris_train.iris_class.to_numpy()\n",
    "y_test = iris_test.iris_class.to_numpy()\n",
    "print(y_test)"
   ]
  },
  {
   "cell_type": "code",
   "execution_count": 27,
   "metadata": {},
   "outputs": [
    {
     "name": "stdout",
     "output_type": "stream",
     "text": [
      "Training F1 score is 0.9866666666666666\n",
      "Test F1 score is 0.962962962962963\n"
     ]
    }
   ],
   "source": [
    "# Load and fit our model:\n",
    "\n",
    "standardize(X_train)\n",
    "standardize(X_test)\n",
    "\n",
    "# Initialize a class instance\n",
    "logreg = LogisticRegression()\n",
    "\n",
    "# Fit our model to the training data\n",
    "model = logreg.fit(X_train, y_train)\n",
    "\n",
    "y_train_pred = logreg.predict(X_train)\n",
    "\n",
    "f1_score_train = F1_score(y_train, y_train_pred)\n",
    "print(\"Training F1 score is %s\" % f1_score_train)\n",
    "\n",
    "# get prediction on test data\n",
    "y_test_pred = logreg.predict(X_test)\n",
    "\n",
    "f1_score_test = F1_score(y_test, y_test_pred)\n",
    "print(\"Test F1 score is %s\" % f1_score_test)"
   ]
  },
  {
   "cell_type": "code",
   "execution_count": 28,
   "metadata": {},
   "outputs": [
    {
     "name": "stdout",
     "output_type": "stream",
     "text": [
      "[0 1 1 0 1 1 1 0 0 0 1 0 0 1 0 1 1 0 1 0 0 1 1 1 0]\n"
     ]
    }
   ],
   "source": [
    "#### Comparing classes 0 and 2\n",
    "\n",
    "## Load the data\n",
    "iris = load_iris()\n",
    "iris_df = pd.DataFrame(iris['data'], columns = ['sepal_length','sepal_width','petal_length','petal_width'])\n",
    "iris_df['iris_class'] = iris['target']\n",
    "\n",
    "# Remove all class 2 observations\n",
    "iris_df = iris_df.loc[iris_df.iris_class != 1]\n",
    "\n",
    "## Making a statified train test split\n",
    "iris_train, iris_test = train_test_split(iris_df, \n",
    "                                            random_state=431,\n",
    "                                            shuffle=True,\n",
    "                                            test_size=.25,\n",
    "                                            stratify=iris_df['iris_class'])\n",
    "\n",
    "\n",
    "# We also need to re-assign the value of class 2 to 1 so that our sigmoid activation function works\n",
    "# properly \n",
    "iris_train.loc[iris_train.iris_class == 2, 'iris_class'] = 1\n",
    "\n",
    "# also be sure to make the same changes to the test set\n",
    "iris_test.loc[iris_test.iris_class == 2, 'iris_class'] = 1\n",
    "\n",
    "\n",
    "# Define our input and output for the training data\n",
    "X_train = iris_train[['sepal_length', 'sepal_width', 'petal_length', 'petal_width']].to_numpy()\n",
    "X_test = iris_test[['sepal_length', 'sepal_width', 'petal_length', 'petal_width']].to_numpy()\n",
    "\n",
    "y_train = iris_train.iris_class.to_numpy()\n",
    "y_test = iris_test.iris_class.to_numpy()\n",
    "print(y_test)"
   ]
  },
  {
   "cell_type": "code",
   "execution_count": 29,
   "metadata": {},
   "outputs": [
    {
     "name": "stdout",
     "output_type": "stream",
     "text": [
      "Training F1 score is 1.0\n",
      "Test F1 score is 1.0\n"
     ]
    }
   ],
   "source": [
    "# Load and fit our model:\n",
    "\n",
    "standardize(X_train)\n",
    "standardize(X_test)\n",
    "\n",
    "# Initialize a class instance\n",
    "logreg = LogisticRegression()\n",
    "\n",
    "# Fit our model to the training data\n",
    "model = logreg.fit(X_train, y_train)\n",
    "\n",
    "y_train_pred = logreg.predict(X_train)\n",
    "\n",
    "f1_score_train = F1_score(y_train, y_train_pred)\n",
    "print(\"Training F1 score is %s\" % f1_score_train)\n",
    "\n",
    "# get prediction on test data\n",
    "y_test_pred = logreg.predict(X_test)\n",
    "\n",
    "f1_score_test = F1_score(y_test, y_test_pred)\n",
    "print(\"Test F1 score is %s\" % f1_score_test)"
   ]
  },
  {
   "cell_type": "markdown",
   "metadata": {},
   "source": [
    "Takeaway here is that our model is very good at distinguishing class 0 from the other classes, but\n",
    "is not quite as accurate distinguishing between classes 1 and 2. This is all good though; in a\n",
    "future notebook we will build from scratch a multi-class logistic model to better handle this kind\n",
    "of data set. "
   ]
  },
  {
   "cell_type": "code",
   "execution_count": null,
   "metadata": {},
   "outputs": [],
   "source": []
  }
 ],
 "metadata": {
  "kernelspec": {
   "display_name": "base",
   "language": "python",
   "name": "python3"
  },
  "language_info": {
   "codemirror_mode": {
    "name": "ipython",
    "version": 3
   },
   "file_extension": ".py",
   "mimetype": "text/x-python",
   "name": "python",
   "nbconvert_exporter": "python",
   "pygments_lexer": "ipython3",
   "version": "3.10.9"
  }
 },
 "nbformat": 4,
 "nbformat_minor": 2
}
